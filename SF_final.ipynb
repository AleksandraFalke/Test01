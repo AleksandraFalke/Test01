{
 "cells": [
  {
   "cell_type": "code",
   "execution_count": 1,
   "metadata": {},
   "outputs": [],
   "source": [
    "%matplotlib inline\n",
    "import librosa.display\n",
    "from matplotlib import pyplot as plt\n",
    "import numpy as np\n",
    "import pandas as pd\n",
    "import os\n",
    "import librosa\n",
    "import IPython.display as ipd\n",
    "import librosa.display\n",
    "from scipy.io import wavfile\n",
    "import sklearn as sk\n",
    "from sklearn import preprocessing\n",
    "from sklearn.linear_model import LogisticRegression\n",
    "from sklearn.metrics import classification_report, confusion_matrix\n",
    "from sklearn import tree\n",
    "from sklearn.metrics import roc_curve\n",
    "import seaborn as sns\n",
    "import matplotlib.pyplot as plt\n",
    "from sklearn.datasets import fetch_openml\n",
    "from sklearn.linear_model import SGDClassifier\n",
    "from sklearn.model_selection import cross_val_predict\n",
    "import soundfile as sf"
   ]
  },
  {
   "cell_type": "markdown",
   "metadata": {},
   "source": [
    "# Загружаем аудио"
   ]
  },
  {
   "cell_type": "code",
   "execution_count": 294,
   "metadata": {},
   "outputs": [
    {
     "name": "stdout",
     "output_type": "stream",
     "text": [
      "['1.wav', '2.wav', '3.wav', '4.wav']\n"
     ]
    }
   ],
   "source": [
    "files_train = [f for f in os.listdir('../../Test003/SF_final/train/') if os.path.isfile(f) and f.endswith(\".wav\")]\n",
    "print(files_train)"
   ]
  },
  {
   "cell_type": "code",
   "execution_count": 295,
   "metadata": {},
   "outputs": [
    {
     "name": "stdout",
     "output_type": "stream",
     "text": [
      "['6.wav', '7.wav', '8.wav']\n"
     ]
    }
   ],
   "source": [
    "files_valid = [f for f in os.listdir('../../Test003/SF_final/test/') if os.path.isfile(f) and f.endswith(\".wav\")]\n",
    "print(files_valid)"
   ]
  },
  {
   "cell_type": "code",
   "execution_count": 296,
   "metadata": {},
   "outputs": [
    {
     "name": "stdout",
     "output_type": "stream",
     "text": [
      "['C:\\\\Users\\\\Alexandra\\\\Test003\\\\SF_final\\\\1.wav']\n"
     ]
    }
   ],
   "source": [
    "c=[os.path.abspath(files_train[0])]\n",
    "print(c)"
   ]
  },
  {
   "cell_type": "code",
   "execution_count": 297,
   "metadata": {},
   "outputs": [
    {
     "name": "stdout",
     "output_type": "stream",
     "text": [
      "['C:\\\\Users\\\\Alexandra\\\\Test003\\\\SF_final\\\\6.wav']\n"
     ]
    }
   ],
   "source": [
    "c=[os.path.abspath(files_valid[0])]\n",
    "print(c)"
   ]
  },
  {
   "cell_type": "markdown",
   "metadata": {},
   "source": [
    "# Делим дорожку на кадры"
   ]
  },
  {
   "cell_type": "code",
   "execution_count": 336,
   "metadata": {},
   "outputs": [],
   "source": [
    "frame_length=23433\n",
    "hop_length=500\n",
    "frame_train=[]\n",
    "for i in range(len(files_train)): \n",
    "    y , sr = librosa.load(files_train[i])\n",
    "    frame_train.append(librosa.util.frame(y, frame_length=frame_length, hop_length=hop_length))"
   ]
  },
  {
   "cell_type": "code",
   "execution_count": 337,
   "metadata": {},
   "outputs": [],
   "source": [
    "frame_length=23433\n",
    "hop_length=500\n",
    "frame_valid=[]\n",
    "for i in range(len(files_valid)): \n",
    "    y , sr = librosa.load(files_valid[i])\n",
    "    frame_valid.append(librosa.util.frame(y, frame_length=frame_length, hop_length=hop_length))"
   ]
  },
  {
   "cell_type": "code",
   "execution_count": 338,
   "metadata": {},
   "outputs": [],
   "source": [
    "frames_train=np.hstack((frame_train))\n",
    "frames_valid=np.hstack((frame_valid))"
   ]
  },
  {
   "cell_type": "markdown",
   "metadata": {},
   "source": [
    "# Загружаем метки"
   ]
  },
  {
   "cell_type": "code",
   "execution_count": 339,
   "metadata": {},
   "outputs": [],
   "source": [
    "Metki_train = [f for f in os.listdir('../../Test003/SF_final/train/') if os.path.isfile(f) and f.endswith(\".txt\")]\n",
    "metki_train = []\n",
    "for i in range(len(Metki_train)): \n",
    "    metki_train.append(np.genfromtxt(Metki_train[i],dtype='str'))"
   ]
  },
  {
   "cell_type": "code",
   "execution_count": 340,
   "metadata": {},
   "outputs": [],
   "source": [
    "Metki_valid = [f for f in os.listdir('../../Test003/SF_final/test/') if os.path.isfile(f) and f.endswith(\".txt\")]\n",
    "metki_valid = []\n",
    "for i in range(len(Metki_valid)): \n",
    "    metki_valid.append(np.genfromtxt(Metki_valid[i],dtype='str'))"
   ]
  },
  {
   "cell_type": "code",
   "execution_count": 341,
   "metadata": {},
   "outputs": [],
   "source": [
    "metki_train=np.vstack(metki_train)\n",
    "metki_valid=np.vstack(metki_valid)"
   ]
  },
  {
   "cell_type": "code",
   "execution_count": 342,
   "metadata": {},
   "outputs": [],
   "source": [
    "times_frame=frame_length/sr                      #Сколько в секунде кадров\n",
    "times_hop=(hop_length/sr)                        #Сколько в секунде прыжков"
   ]
  },
  {
   "cell_type": "code",
   "execution_count": 343,
   "metadata": {},
   "outputs": [
    {
     "data": {
      "text/plain": [
       "1.0627210884353742"
      ]
     },
     "execution_count": 343,
     "metadata": {},
     "output_type": "execute_result"
    }
   ],
   "source": [
    "times_frame"
   ]
  },
  {
   "cell_type": "markdown",
   "metadata": {},
   "source": [
    "Делим аудио по времени на кадры."
   ]
  },
  {
   "cell_type": "code",
   "execution_count": 344,
   "metadata": {},
   "outputs": [],
   "source": [
    "times_train = []\n",
    "for i in range(len(frames_train[0])):\n",
    "    times_train.append([times_hop*i,times_frame+times_hop*i])        \n",
    "#print(times_train)"
   ]
  },
  {
   "cell_type": "code",
   "execution_count": 345,
   "metadata": {},
   "outputs": [],
   "source": [
    "times_valid = []\n",
    "for i in range(len(frames_valid[0])):\n",
    "    times_valid.append([times_hop*i,times_frame+times_hop*i])        \n",
    "#print(times_valid)"
   ]
  },
  {
   "cell_type": "code",
   "execution_count": 346,
   "metadata": {},
   "outputs": [
    {
     "name": "stdout",
     "output_type": "stream",
     "text": [
      "     mfccs                                      frames event_label\n",
      "0      NaN                   (0.0, 1.0627210884353742)         NaN\n",
      "1      NaN  (0.022675736961451247, 1.0853968253968254)         NaN\n",
      "2      NaN  (0.045351473922902494, 1.1080725623582766)         NaN\n",
      "3      NaN    (0.06802721088435373, 1.130748299319728)         NaN\n",
      "4      NaN   (0.09070294784580499, 1.1534240362811792)         NaN\n",
      "...    ...                                         ...         ...\n",
      "3276   NaN      (74.28571428571429, 75.34843537414966)         NaN\n",
      "3277   NaN       (74.30839002267574, 75.3711111111111)         NaN\n",
      "3278   NaN      (74.33106575963718, 75.39378684807255)         NaN\n",
      "3279   NaN      (74.35374149659864, 75.41646258503401)         NaN\n",
      "3280   NaN      (74.37641723356009, 75.43913832199546)         NaN\n",
      "\n",
      "[3281 rows x 3 columns]\n",
      "Wall time: 7.71 s\n"
     ]
    }
   ],
   "source": [
    "%%time\n",
    "df = pd.DataFrame(columns = ['mfccs','frames','event_label'])\n",
    "m = times_train\n",
    "for mark in m:\n",
    "    df = df.append({'frames':(mark[0],mark[1])},ignore_index=True)\n",
    "print(df)"
   ]
  },
  {
   "cell_type": "code",
   "execution_count": 347,
   "metadata": {},
   "outputs": [
    {
     "name": "stdout",
     "output_type": "stream",
     "text": [
      "     mfccs                                      frames event_label\n",
      "0      NaN                   (0.0, 1.0627210884353742)         NaN\n",
      "1      NaN  (0.022675736961451247, 1.0853968253968254)         NaN\n",
      "2      NaN  (0.045351473922902494, 1.1080725623582766)         NaN\n",
      "3      NaN    (0.06802721088435373, 1.130748299319728)         NaN\n",
      "4      NaN   (0.09070294784580499, 1.1534240362811792)         NaN\n",
      "...    ...                                         ...         ...\n",
      "2043   NaN     (46.326530612244895, 47.38925170068027)         NaN\n",
      "2044   NaN      (46.34920634920635, 47.41192743764172)         NaN\n",
      "2045   NaN      (46.3718820861678, 47.434603174603176)         NaN\n",
      "2046   NaN     (46.394557823129254, 47.45727891156463)         NaN\n",
      "2047   NaN      (46.4172335600907, 47.479954648526075)         NaN\n",
      "\n",
      "[2048 rows x 3 columns]\n",
      "Wall time: 4.48 s\n"
     ]
    }
   ],
   "source": [
    "%%time\n",
    "df1 = pd.DataFrame(columns = ['mfccs','frames','event_label'])\n",
    "m = times_valid\n",
    "for mark in m:\n",
    "    df1 = df1.append({'frames':(mark[0],mark[1])},ignore_index=True)\n",
    "print(df1)"
   ]
  },
  {
   "cell_type": "markdown",
   "metadata": {},
   "source": [
    "# Смотрим попала ли метка в кадр"
   ]
  },
  {
   "cell_type": "code",
   "execution_count": 348,
   "metadata": {},
   "outputs": [],
   "source": [
    "block_train = np.zeros((len(frames_train[0])), dtype=int)\n",
    "for i,mark in enumerate(times_train):   \n",
    "    for j in range(len(metki_train)):    \n",
    "        if (mark[0]) <= float(metki_train[j,0]) <= (mark[1]) and (mark[0]) <= float(metki_train[j,1]) <= (mark[1]):\n",
    "            block_train[i]=1\n",
    "#print(block_train)"
   ]
  },
  {
   "cell_type": "code",
   "execution_count": 349,
   "metadata": {},
   "outputs": [],
   "source": [
    "block_valid = np.zeros((len(frames_valid[0])), dtype=int)\n",
    "for i,mark in enumerate(times_valid):   \n",
    "    for j in range(len(metki_valid)):    \n",
    "        if (mark[0]) <= float(metki_valid[j,0]) <= (mark[1]) and (mark[0]) <= float(metki_valid[j,1]) <= (mark[1]):\n",
    "            block_valid[i]=1\n",
    "#print(block_valid)"
   ]
  },
  {
   "cell_type": "code",
   "execution_count": 350,
   "metadata": {},
   "outputs": [],
   "source": [
    "df['event_label'] = block_train\n",
    "df1['event_label'] = block_valid"
   ]
  },
  {
   "cell_type": "code",
   "execution_count": 351,
   "metadata": {},
   "outputs": [
    {
     "data": {
      "text/plain": [
       "0    2632\n",
       "1     649\n",
       "Name: event_label, dtype: int64"
      ]
     },
     "execution_count": 351,
     "metadata": {},
     "output_type": "execute_result"
    }
   ],
   "source": [
    "df[\"event_label\"].value_counts()"
   ]
  },
  {
   "cell_type": "code",
   "execution_count": 352,
   "metadata": {},
   "outputs": [
    {
     "data": {
      "text/plain": [
       "0    1600\n",
       "1     448\n",
       "Name: event_label, dtype: int64"
      ]
     },
     "execution_count": 352,
     "metadata": {},
     "output_type": "execute_result"
    }
   ],
   "source": [
    "df1[\"event_label\"].value_counts()"
   ]
  },
  {
   "cell_type": "markdown",
   "metadata": {},
   "source": [
    "# mel filterbank"
   ]
  },
  {
   "cell_type": "code",
   "execution_count": 472,
   "metadata": {},
   "outputs": [],
   "source": [
    "mel_train = []\n",
    "for i in range(len(frames_train[0])):   \n",
    "    mel_train.append(librosa.feature.melspectrogram(y=frames_train[:,i], n_fft = 512, hop_length = 500, win_length = None, window = 'hann', center = True, dtype = None, pad_mode = 'reflect'))"
   ]
  },
  {
   "cell_type": "code",
   "execution_count": 473,
   "metadata": {},
   "outputs": [],
   "source": [
    "mel_valid = []\n",
    "for i in range(len(frames_valid[0])):   \n",
    "    mel_valid.append(librosa.feature.melspectrogram(y=frames_valid[:,i], n_fft = 512, hop_length = 500, win_length = None, window = 'hann', center = True, dtype = None, pad_mode = 'reflect'))"
   ]
  },
  {
   "cell_type": "code",
   "execution_count": 474,
   "metadata": {},
   "outputs": [],
   "source": [
    "MEL_train = []\n",
    "scaler = preprocessing.StandardScaler()\n",
    "for i in range(len(mel_train)): \n",
    "    scaler.fit(mel_train[i])\n",
    "for i in range(len(mel_train)): \n",
    "    MEL_train.append(scaler.transform(mel_train[i]))"
   ]
  },
  {
   "cell_type": "code",
   "execution_count": 475,
   "metadata": {},
   "outputs": [],
   "source": [
    "MEL_valid = []\n",
    "scaler = preprocessing.StandardScaler()\n",
    "for i in range(len(mel_train)): \n",
    "    scaler.fit(mel_train[i])\n",
    "for i in range(len(mel_valid)): \n",
    "    MEL_valid.append(scaler.transform(mel_valid[i]))"
   ]
  },
  {
   "cell_type": "code",
   "execution_count": 476,
   "metadata": {},
   "outputs": [
    {
     "data": {
      "text/plain": [
       "(3281, 128, 47)"
      ]
     },
     "execution_count": 476,
     "metadata": {},
     "output_type": "execute_result"
    }
   ],
   "source": [
    "MEL_train=np.array(MEL_train)\n",
    "MEL_train.shape"
   ]
  },
  {
   "cell_type": "code",
   "execution_count": 477,
   "metadata": {},
   "outputs": [
    {
     "data": {
      "text/plain": [
       "(2048, 128, 47)"
      ]
     },
     "execution_count": 477,
     "metadata": {},
     "output_type": "execute_result"
    }
   ],
   "source": [
    "MEL_valid=np.array(MEL_valid)\n",
    "MEL_valid.shape"
   ]
  },
  {
   "cell_type": "code",
   "execution_count": 478,
   "metadata": {},
   "outputs": [],
   "source": [
    "MEL2_train = []\n",
    "for i in range(len(frames_train[0])): \n",
    "    MEL2_train.append(MEL_train[i].flatten())"
   ]
  },
  {
   "cell_type": "code",
   "execution_count": 479,
   "metadata": {},
   "outputs": [],
   "source": [
    "MEL2_valid = []\n",
    "for i in range(len(frames_valid[0])): \n",
    "    MEL2_valid.append(MEL_valid[i].flatten())"
   ]
  },
  {
   "cell_type": "code",
   "execution_count": 480,
   "metadata": {},
   "outputs": [
    {
     "data": {
      "text/plain": [
       "(3281, 6016)"
      ]
     },
     "execution_count": 480,
     "metadata": {},
     "output_type": "execute_result"
    }
   ],
   "source": [
    "MEL2_train=np.array(MEL2_train, dtype=float)\n",
    "#print(MEL2_train[0])\n",
    "MEL2_train.shape"
   ]
  },
  {
   "cell_type": "code",
   "execution_count": 481,
   "metadata": {},
   "outputs": [
    {
     "data": {
      "text/plain": [
       "(2048, 6016)"
      ]
     },
     "execution_count": 481,
     "metadata": {},
     "output_type": "execute_result"
    }
   ],
   "source": [
    "MEL2_valid=np.array(MEL2_valid, dtype=float)\n",
    "#print(MEL2_valid[0])\n",
    "MEL2_valid.shape"
   ]
  },
  {
   "cell_type": "code",
   "execution_count": 134,
   "metadata": {},
   "outputs": [],
   "source": [
    "#x_df = MEL2_train\n",
    "#y_df = block_train"
   ]
  },
  {
   "cell_type": "code",
   "execution_count": 135,
   "metadata": {},
   "outputs": [
    {
     "data": {
      "text/plain": [
       "[Text(0.5, 1.0, 'Mel-frequency spectrogram')]"
      ]
     },
     "execution_count": 135,
     "metadata": {},
     "output_type": "execute_result"
    },
    {
     "data": {
      "image/png": "[encoded data removed]",
      "text/plain": [
       "<Figure size 432x288 with 2 Axes>"
      ]
     },
     "metadata": {
      "needs_background": "light"
     },
     "output_type": "display_data"
    }
   ],
   "source": [
    "fig, ax = plt.subplots()\n",
    "S_dB = librosa.power_to_db(mel_train[0], ref=np.max)\n",
    "img = librosa.display.specshow(S_dB, x_axis='time',\n",
    "                         y_axis='mel', sr=sr,\n",
    "                         fmax=8000, ax=ax)\n",
    "fig.colorbar(img, ax=ax, format='%+2.0f dB')\n",
    "ax.set(title='Mel-frequency spectrogram')"
   ]
  },
  {
   "cell_type": "code",
   "execution_count": 136,
   "metadata": {},
   "outputs": [
    {
     "data": {
      "text/plain": [
       "[Text(0.5, 1.0, 'Mel-frequency spectrogram')]"
      ]
     },
     "execution_count": 136,
     "metadata": {},
     "output_type": "execute_result"
    },
    {
     "data": {
      "image/png": "[encoded data removed]",
      "text/plain": [
       "<Figure size 432x288 with 2 Axes>"
      ]
     },
     "metadata": {
      "needs_background": "light"
     },
     "output_type": "display_data"
    }
   ],
   "source": [
    "fig, ax = plt.subplots()\n",
    "S_dB = librosa.power_to_db(MEL_train[0], ref=np.max)\n",
    "img = librosa.display.specshow(S_dB, x_axis='time',\n",
    "                         y_axis='mel', sr=sr,\n",
    "                         fmax=8000, ax=ax)\n",
    "fig.colorbar(img, ax=ax, format='%+2.0f dB')\n",
    "ax.set(title='Mel-frequency spectrogram')"
   ]
  },
  {
   "cell_type": "markdown",
   "metadata": {},
   "source": [
    "# Кепстральные коэффициенты Mel-частоты (MFCC)"
   ]
  },
  {
   "cell_type": "markdown",
   "metadata": {},
   "source": [
    "Делим коэффициенты на кадры"
   ]
  },
  {
   "cell_type": "code",
   "execution_count": 354,
   "metadata": {},
   "outputs": [],
   "source": [
    "mfccs1_train = []\n",
    "for i in range(len(frames_train[0])):   \n",
    "    mfccs1_train.append(librosa.feature.mfcc(y=frames_train[:,i], sr=sr, hop_length=512, htk=True, n_mfcc=15,dct_type = 2,norm = None))"
   ]
  },
  {
   "cell_type": "code",
   "execution_count": 355,
   "metadata": {},
   "outputs": [],
   "source": [
    "mfccs1_valid = []\n",
    "for i in range(len(frames_valid[0])):   \n",
    "    mfccs1_valid.append(librosa.feature.mfcc(y=frames_valid[:,i], sr=sr, hop_length=512, htk=True, n_mfcc=15,dct_type = 2,norm = None))"
   ]
  },
  {
   "cell_type": "code",
   "execution_count": 356,
   "metadata": {},
   "outputs": [],
   "source": [
    "mfccs1_train=np.array(mfccs1_train)\n",
    "mfccs1_valid=np.array(mfccs1_valid)"
   ]
  },
  {
   "cell_type": "code",
   "execution_count": 357,
   "metadata": {},
   "outputs": [
    {
     "data": {
      "text/plain": [
       "(3281, 15, 46)"
      ]
     },
     "execution_count": 357,
     "metadata": {},
     "output_type": "execute_result"
    }
   ],
   "source": [
    "mfccs1_train.shape"
   ]
  },
  {
   "cell_type": "code",
   "execution_count": 358,
   "metadata": {},
   "outputs": [
    {
     "data": {
      "text/plain": [
       "(2048, 15, 46)"
      ]
     },
     "execution_count": 358,
     "metadata": {},
     "output_type": "execute_result"
    }
   ],
   "source": [
    "mfccs1_valid.shape"
   ]
  },
  {
   "cell_type": "markdown",
   "metadata": {},
   "source": [
    "Нормируем все коэффициенты"
   ]
  },
  {
   "cell_type": "code",
   "execution_count": 359,
   "metadata": {},
   "outputs": [],
   "source": [
    "mfccs_train = []\n",
    "scaler = preprocessing.StandardScaler()\n",
    "for i in range(len(mfccs1_train)): \n",
    "    scaler.fit(mfccs1_train[i])\n",
    "for i in range(len(mfccs1_train)): \n",
    "    mfccs_train.append(scaler.transform(mfccs1_train[i]))"
   ]
  },
  {
   "cell_type": "code",
   "execution_count": 360,
   "metadata": {},
   "outputs": [],
   "source": [
    "mfccs_valid = []\n",
    "scaler = preprocessing.StandardScaler()\n",
    "for i in range(len(mfccs1_train)): \n",
    "    scaler.fit(mfccs1_train[i])\n",
    "for i in range(len(mfccs1_valid)): \n",
    "    mfccs_valid.append(scaler.transform(mfccs1_valid[i]))"
   ]
  },
  {
   "cell_type": "code",
   "execution_count": 361,
   "metadata": {},
   "outputs": [],
   "source": [
    "MFCCS_train = []\n",
    "for i in range(len(frames_train[0])): \n",
    "    MFCCS_train.append(mfccs_train[i].flatten())\n",
    "#    print(MFCCS_train[0])"
   ]
  },
  {
   "cell_type": "code",
   "execution_count": 362,
   "metadata": {},
   "outputs": [],
   "source": [
    "MFCCS_valid = []\n",
    "for i in range(len(frames_valid[0])): \n",
    "    MFCCS_valid.append(mfccs_valid[i].flatten())\n",
    "#    print(MFCCS_valid[0])"
   ]
  },
  {
   "cell_type": "code",
   "execution_count": 363,
   "metadata": {},
   "outputs": [
    {
     "data": {
      "text/plain": [
       "(3281, 690)"
      ]
     },
     "execution_count": 363,
     "metadata": {},
     "output_type": "execute_result"
    }
   ],
   "source": [
    "MFCCS_train=np.array(MFCCS_train, dtype=float)\n",
    "MFCCS_train.shape"
   ]
  },
  {
   "cell_type": "code",
   "execution_count": 364,
   "metadata": {},
   "outputs": [
    {
     "data": {
      "text/plain": [
       "3281"
      ]
     },
     "execution_count": 364,
     "metadata": {},
     "output_type": "execute_result"
    }
   ],
   "source": [
    "len(block_train)"
   ]
  },
  {
   "cell_type": "code",
   "execution_count": 365,
   "metadata": {},
   "outputs": [
    {
     "data": {
      "text/plain": [
       "(2048, 690)"
      ]
     },
     "execution_count": 365,
     "metadata": {},
     "output_type": "execute_result"
    }
   ],
   "source": [
    "MFCCS_valid=np.array(MFCCS_valid, dtype=float)\n",
    "MFCCS_valid.shape"
   ]
  },
  {
   "cell_type": "markdown",
   "metadata": {},
   "source": [
    "# Оконное преобразование Фурье (STFT)."
   ]
  },
  {
   "cell_type": "code",
   "execution_count": 376,
   "metadata": {},
   "outputs": [],
   "source": [
    "window=('kaiser', 4.0)"
   ]
  },
  {
   "cell_type": "code",
   "execution_count": 377,
   "metadata": {},
   "outputs": [],
   "source": [
    "stft1_train = []\n",
    "for i in range(len(frames_train[0])):   \n",
    "    stft1_train.append(librosa.stft(y=frames_train[:,i], n_fft = 512, hop_length = 500, win_length = None, window = window, center = True, dtype = None, pad_mode = 'reflect'))"
   ]
  },
  {
   "cell_type": "code",
   "execution_count": 378,
   "metadata": {},
   "outputs": [],
   "source": [
    "stft1_valid = []\n",
    "for i in range(len(frames_valid[0])):   \n",
    "    stft1_valid.append(librosa.stft(y=frames_valid[:,i], n_fft = 512, hop_length = 500, win_length = None, window = window, center = True, dtype = None, pad_mode = 'reflect'))"
   ]
  },
  {
   "cell_type": "markdown",
   "metadata": {},
   "source": [
    "boxcar\n",
    "triang\n",
    "blackman\n",
    "hamming\n",
    "hann\n",
    "bartlett\n",
    "flattop\n",
    "parzen\n",
    "bohman\n",
    "blackmanharris\n",
    "nuttall\n",
    "barthann\n",
    "cosine\n",
    "exponential\n",
    "tukey\n",
    "taylor\n",
    "kaiser (нужна бета)\n",
    "gaussian (требуется стандартное отклонение)\n",
    "general_cosine (требуются весовые коэффициенты)\n",
    "general_gaussian (требуется мощность, ширина)\n",
    "general_hamming (требуется оконный коэффициент)\n",
    "dpss (требуется нормализованная половина полосы пропускания)\n",
    "chebwin (требуется затухание)\n",
    "(В некоторых источниках используется альфа = бета / пи."
   ]
  },
  {
   "cell_type": "code",
   "execution_count": 379,
   "metadata": {},
   "outputs": [
    {
     "name": "stderr",
     "output_type": "stream",
     "text": [
      "<ipython-input-379-e6ef4f64bd54>:3: ComplexWarning: Casting complex values to real discards the imaginary part\n",
      "  stft2_train.append(stft1_train[i].astype(np.float32))\n"
     ]
    }
   ],
   "source": [
    "stft2_train = []\n",
    "for i in range(len(frames_train[0])): \n",
    "    stft2_train.append(stft1_train[i].astype(np.float32))"
   ]
  },
  {
   "cell_type": "code",
   "execution_count": 380,
   "metadata": {},
   "outputs": [
    {
     "name": "stderr",
     "output_type": "stream",
     "text": [
      "<ipython-input-380-bebbfaaa7884>:3: ComplexWarning: Casting complex values to real discards the imaginary part\n",
      "  stft2_valid.append(stft1_valid[i].astype(np.float32))\n"
     ]
    }
   ],
   "source": [
    "stft2_valid = []\n",
    "for i in range(len(frames_valid[0])): \n",
    "    stft2_valid.append(stft1_valid[i].astype(np.float32))"
   ]
  },
  {
   "cell_type": "code",
   "execution_count": 381,
   "metadata": {},
   "outputs": [],
   "source": [
    "stft_train = []\n",
    "scaler = preprocessing.StandardScaler()\n",
    "for i in range(len(stft2_train)): \n",
    "    scaler.fit(stft2_train[i])\n",
    "for i in range(len(stft2_train)): \n",
    "    stft_train.append(scaler.transform(stft2_train[i]))"
   ]
  },
  {
   "cell_type": "code",
   "execution_count": 382,
   "metadata": {},
   "outputs": [],
   "source": [
    "stft_valid = []\n",
    "scaler = preprocessing.StandardScaler()\n",
    "for i in range(len(stft2_train)): \n",
    "    scaler.fit(stft2_train[i])\n",
    "for i in range(len(stft2_valid)): \n",
    "    stft_valid.append(scaler.transform(stft2_valid[i]))"
   ]
  },
  {
   "cell_type": "code",
   "execution_count": 383,
   "metadata": {},
   "outputs": [
    {
     "name": "stderr",
     "output_type": "stream",
     "text": [
      "D:\\Alexandra\\Anaconda\\lib\\site-packages\\librosa\\core\\spectrum.py:1641: UserWarning: amplitude_to_db was called on complex input so phase information will be discarded. To suppress this warning, call amplitude_to_db(np.abs(S)) instead.\n",
      "  warnings.warn(\n"
     ]
    },
    {
     "data": {
      "text/plain": [
       "<matplotlib.colorbar.Colorbar at 0x1e481131790>"
      ]
     },
     "execution_count": 383,
     "metadata": {},
     "output_type": "execute_result"
    },
    {
     "data": {
      "image/png": "[encoded data removed]",
      "text/plain": [
       "<Figure size 432x288 with 2 Axes>"
      ]
     },
     "metadata": {
      "needs_background": "light"
     },
     "output_type": "display_data"
    }
   ],
   "source": [
    "fig, ax = plt.subplots()\n",
    "img = librosa.display.specshow(librosa.amplitude_to_db(stft1_train[0],\n",
    "                                                       ref=np.max),\n",
    "                               y_axis='log', x_axis='time', ax=ax)\n",
    "ax.set_title('Power spectrogram')\n",
    "fig.colorbar(img, ax=ax, format=\"%+2.0f dB\")"
   ]
  },
  {
   "cell_type": "code",
   "execution_count": 384,
   "metadata": {},
   "outputs": [
    {
     "data": {
      "text/plain": [
       "<matplotlib.colorbar.Colorbar at 0x1e481bf9af0>"
      ]
     },
     "execution_count": 384,
     "metadata": {},
     "output_type": "execute_result"
    },
    {
     "data": {
      "image/png": "[encoded data removed]",
      "text/plain": [
       "<Figure size 432x288 with 2 Axes>"
      ]
     },
     "metadata": {
      "needs_background": "light"
     },
     "output_type": "display_data"
    }
   ],
   "source": [
    "fig, ax = plt.subplots()\n",
    "img = librosa.display.specshow(librosa.amplitude_to_db(stft_train[0],\n",
    "                                                       ref=np.max),\n",
    "                               y_axis='log', x_axis='time', ax=ax)\n",
    "ax.set_title('Power spectrogram')\n",
    "fig.colorbar(img, ax=ax, format=\"%+2.0f dB\")"
   ]
  },
  {
   "cell_type": "code",
   "execution_count": 385,
   "metadata": {},
   "outputs": [],
   "source": [
    "STFT_train = []\n",
    "for i in range(len(frames_train[0])): \n",
    "    STFT_train.append(stft_train[i].flatten())"
   ]
  },
  {
   "cell_type": "code",
   "execution_count": 386,
   "metadata": {},
   "outputs": [],
   "source": [
    "STFT_valid = []\n",
    "for i in range(len(frames_valid[0])): \n",
    "    STFT_valid.append(stft_valid[i].flatten())"
   ]
  },
  {
   "cell_type": "code",
   "execution_count": 387,
   "metadata": {},
   "outputs": [
    {
     "data": {
      "text/plain": [
       "(3281, 12079)"
      ]
     },
     "execution_count": 387,
     "metadata": {},
     "output_type": "execute_result"
    }
   ],
   "source": [
    "STFT_train=np.array(STFT_train, dtype=float)\n",
    "#print(STFT_train[0])\n",
    "STFT_train.shape"
   ]
  },
  {
   "cell_type": "code",
   "execution_count": 388,
   "metadata": {},
   "outputs": [
    {
     "data": {
      "text/plain": [
       "(2048, 12079)"
      ]
     },
     "execution_count": 388,
     "metadata": {},
     "output_type": "execute_result"
    }
   ],
   "source": [
    "STFT_valid=np.array(STFT_valid, dtype=float)\n",
    "#print(STFT_valid[0])\n",
    "STFT_valid.shape"
   ]
  },
  {
   "cell_type": "code",
   "execution_count": 389,
   "metadata": {},
   "outputs": [],
   "source": [
    "#x_df = STFT\n",
    "#y_df = block"
   ]
  },
  {
   "cell_type": "markdown",
   "metadata": {},
   "source": [
    "# Вейвлет-преобразование "
   ]
  },
  {
   "cell_type": "code",
   "execution_count": 410,
   "metadata": {},
   "outputs": [],
   "source": [
    "import pywt"
   ]
  },
  {
   "cell_type": "code",
   "execution_count": 411,
   "metadata": {},
   "outputs": [
    {
     "data": {
      "text/plain": [
       "['haar',\n",
       " 'db',\n",
       " 'sym',\n",
       " 'coif',\n",
       " 'bior',\n",
       " 'rbio',\n",
       " 'dmey',\n",
       " 'gaus',\n",
       " 'mexh',\n",
       " 'morl',\n",
       " 'cgau',\n",
       " 'shan',\n",
       " 'fbsp',\n",
       " 'cmor']"
      ]
     },
     "execution_count": 411,
     "metadata": {},
     "output_type": "execute_result"
    }
   ],
   "source": [
    "#Возвращает список доступных встроенных семейств вейвлетов.\n",
    "#Хаар ( haar )\n",
    "#Добеши ( db )\n",
    "#Symlets ( sym )\n",
    "#Койфлеты ( coif )\n",
    "#Биортогональный ( bior )\n",
    "#Обратный биортогональный ( rbio )\n",
    "#«Дискретное» FIR-приближение вейвлета Мейера ( dmey )\n",
    "pywt.families()"
   ]
  },
  {
   "cell_type": "code",
   "execution_count": 412,
   "metadata": {},
   "outputs": [
    {
     "name": "stdout",
     "output_type": "stream",
     "text": [
      "['dmey']\n"
     ]
    }
   ],
   "source": [
    "print(pywt.wavelist( 'dmey'))"
   ]
  },
  {
   "cell_type": "code",
   "execution_count": 413,
   "metadata": {},
   "outputs": [
    {
     "name": "stdout",
     "output_type": "stream",
     "text": [
      "Wavelet dmey\n",
      "  Family name:    Discrete Meyer (FIR Approximation)\n",
      "  Short name:     dmey\n",
      "  Filters length: 62\n",
      "  Orthogonal:     True\n",
      "  Biorthogonal:   True\n",
      "  Symmetry:       symmetric\n",
      "  DWT:            True\n",
      "  CWT:            False\n"
     ]
    }
   ],
   "source": [
    "wavelet = pywt.Wavelet('dmey')\n",
    "print(wavelet)"
   ]
  },
  {
   "cell_type": "code",
   "execution_count": 414,
   "metadata": {},
   "outputs": [],
   "source": [
    "waveletcad_train = []\n",
    "for i in range(len(frames_train[0])):  \n",
    "    cad  = pywt.dwt(frames_train[:,i], wavelet , mode='symmetric', axis=-1)\n",
    "    waveletcad_train.append(cad)"
   ]
  },
  {
   "cell_type": "code",
   "execution_count": 415,
   "metadata": {},
   "outputs": [],
   "source": [
    "waveletcad_valid = []\n",
    "for i in range(len(frames_valid[0])):  \n",
    "    cad  = pywt.dwt(frames_valid[:,i], wavelet , mode='symmetric', axis=-1)\n",
    "    waveletcad_valid.append(cad)"
   ]
  },
  {
   "cell_type": "code",
   "execution_count": 416,
   "metadata": {},
   "outputs": [],
   "source": [
    "#wavelet.filter_bank\n",
    "#(w.dec_lo, w.dec_hi, w.rec_lo, w.rec_hi) "
   ]
  },
  {
   "cell_type": "code",
   "execution_count": 417,
   "metadata": {},
   "outputs": [],
   "source": [
    "waveletcAD_train = []\n",
    "scaler = preprocessing.StandardScaler()\n",
    "for i in range(len(waveletcad_train)): \n",
    "    scaler.fit(waveletcad_train[i])\n",
    "for i in range(len(waveletcad_train)): \n",
    "    waveletcAD_train.append(scaler.transform(waveletcad_train[i]))"
   ]
  },
  {
   "cell_type": "code",
   "execution_count": 418,
   "metadata": {},
   "outputs": [],
   "source": [
    "waveletcAD_valid = []\n",
    "scaler = preprocessing.StandardScaler()\n",
    "for i in range(len(waveletcad_train)): \n",
    "    scaler.fit(waveletcad_train[i])\n",
    "for i in range(len(waveletcad_valid)): \n",
    "    waveletcAD_valid.append(scaler.transform(waveletcad_valid[i]))"
   ]
  },
  {
   "cell_type": "code",
   "execution_count": 419,
   "metadata": {},
   "outputs": [
    {
     "data": {
      "text/plain": [
       "(3281, 2, 11747)"
      ]
     },
     "execution_count": 419,
     "metadata": {},
     "output_type": "execute_result"
    }
   ],
   "source": [
    "waveletcAD_train=np.array(waveletcAD_train, dtype=float)\n",
    "#print(waveletCA_train[0])\n",
    "waveletcAD_train.shape"
   ]
  },
  {
   "cell_type": "code",
   "execution_count": 420,
   "metadata": {},
   "outputs": [
    {
     "data": {
      "text/plain": [
       "(2048, 2, 11747)"
      ]
     },
     "execution_count": 420,
     "metadata": {},
     "output_type": "execute_result"
    }
   ],
   "source": [
    "waveletcAD_valid=np.array(waveletcAD_valid, dtype=float)\n",
    "#print(waveletCA_valid[0])\n",
    "waveletcAD_valid.shape"
   ]
  },
  {
   "cell_type": "code",
   "execution_count": 74,
   "metadata": {},
   "outputs": [],
   "source": [
    "#x_df = waveletcAD_train\n",
    "#y_df = block_train"
   ]
  },
  {
   "cell_type": "markdown",
   "metadata": {},
   "source": [
    "# Делим на обучающую и тестовую выборки и обучаем"
   ]
  },
  {
   "cell_type": "code",
   "execution_count": 75,
   "metadata": {},
   "outputs": [],
   "source": [
    "#x_df = MEL2_train"
   ]
  },
  {
   "cell_type": "code",
   "execution_count": 76,
   "metadata": {},
   "outputs": [],
   "source": [
    "#y_df = block_train"
   ]
  },
  {
   "cell_type": "code",
   "execution_count": 500,
   "metadata": {},
   "outputs": [],
   "source": [
    "x_train = STFT_train\n",
    "y_train = block_train"
   ]
  },
  {
   "cell_type": "code",
   "execution_count": 501,
   "metadata": {},
   "outputs": [],
   "source": [
    "x_valid = STFT_valid\n",
    "y_valid = block_valid"
   ]
  },
  {
   "cell_type": "code",
   "execution_count": 289,
   "metadata": {},
   "outputs": [],
   "source": [
    "from sklearn.ensemble import RandomForestClassifier\n",
    "from sklearn.metrics import accuracy_score, confusion_matrix, roc_auc_score\n",
    "from sklearn.model_selection import GridSearchCV\n",
    "from sklearn.tree import DecisionTreeClassifier, export_graphviz\n",
    "from sklearn.model_selection import train_test_split,cross_val_score\n",
    "from sklearn.neighbors import KNeighborsClassifier\n",
    "from sklearn.pipeline import Pipeline\n",
    "from sklearn.preprocessing import StandardScaler\n",
    "from sklearn.tree import export_graphviz\n",
    "from sklearn import tree\n",
    "from IPython.display import Image\n",
    "from sklearn.tree import DecisionTreeClassifier, export_graphviz"
   ]
  },
  {
   "cell_type": "code",
   "execution_count": 237,
   "metadata": {},
   "outputs": [],
   "source": [
    "#x_train, x_valid, y_train, y_valid = train_test_split(x_df,y_df, test_size=0.3, random_state=17)"
   ]
  },
  {
   "cell_type": "code",
   "execution_count": 238,
   "metadata": {},
   "outputs": [
    {
     "data": {
      "text/plain": [
       "290"
      ]
     },
     "execution_count": 238,
     "metadata": {},
     "output_type": "execute_result"
    }
   ],
   "source": [
    "np.count_nonzero(y_valid == 1)"
   ]
  },
  {
   "cell_type": "code",
   "execution_count": 239,
   "metadata": {},
   "outputs": [
    {
     "data": {
      "text/plain": [
       "1806"
      ]
     },
     "execution_count": 239,
     "metadata": {},
     "output_type": "execute_result"
    }
   ],
   "source": [
    "np.count_nonzero(y_valid == 0)"
   ]
  },
  {
   "cell_type": "code",
   "execution_count": 240,
   "metadata": {},
   "outputs": [
    {
     "data": {
      "text/plain": [
       "845"
      ]
     },
     "execution_count": 240,
     "metadata": {},
     "output_type": "execute_result"
    }
   ],
   "source": [
    " np.count_nonzero(y_train == 1)"
   ]
  },
  {
   "cell_type": "code",
   "execution_count": 241,
   "metadata": {},
   "outputs": [
    {
     "data": {
      "text/plain": [
       "6741"
      ]
     },
     "execution_count": 241,
     "metadata": {},
     "output_type": "execute_result"
    }
   ],
   "source": [
    "np.count_nonzero(y_train == 0)"
   ]
  },
  {
   "cell_type": "markdown",
   "metadata": {},
   "source": [
    "# Нейронная сеть"
   ]
  },
  {
   "cell_type": "code",
   "execution_count": 45,
   "metadata": {},
   "outputs": [],
   "source": [
    "import tensorflow as tf\n",
    "from tensorflow import keras\n",
    "from  tensorflow.keras import layers"
   ]
  },
  {
   "cell_type": "code",
   "execution_count": 502,
   "metadata": {},
   "outputs": [
    {
     "name": "stdout",
     "output_type": "stream",
     "text": [
      "12079 3281\n"
     ]
    }
   ],
   "source": [
    "r=len(x_train)\n",
    "u=len(x_train[0])\n",
    "print(u,r)"
   ]
  },
  {
   "cell_type": "code",
   "execution_count": 503,
   "metadata": {},
   "outputs": [],
   "source": [
    "model = tf.keras.Sequential([                                       #Sequential группирует линейную стопку слоев в tf.keras.Model.\n",
    "    tf.keras.layers.Flatten(input_shape=(u,)),                      #преобразует матрицу ввода в единый массив.\n",
    "#   tf.keras.layers.Dense(128, kernel_initializer='orthogonal'),    #генерирует случайные веса\n",
    "    tf.keras.layers.Dense(128, activation=tf.nn.relu),              #Применяет функцию активации выпрямленного линейного блока.   \n",
    "#Схемы регуляризации добавляемые к весам слоя (ядро и сдвиг), такие как L1 или L2 регуляризации.\n",
    "#kernel_regularizer : функция регуляризатора, применяемая к матрице весов ядра.\n",
    "#bias_regularizer : функция регуляризатора, применяемая к вектору смещения.\n",
    "    tf.keras.layers.Dense(128, kernel_regularizer=tf.keras.regularizers.l1(0.01)),\n",
    "    tf.keras.layers.Dense(64, bias_regularizer=tf.keras.regularizers.l2(0.01)),\n",
    "    tf.keras.layers.Dense(64, activation=tf.nn.relu),\n",
    "    tf.keras.layers.Dense(2, activation=tf.nn.softmax),   #2 категории 0 и 1; преобразует вектор значений в распределение вероятностей\n",
    "])"
   ]
  },
  {
   "cell_type": "code",
   "execution_count": 504,
   "metadata": {},
   "outputs": [],
   "source": [
    "model.compile(optimizer = tf.keras.optimizers.Adam(),\n",
    "              loss = 'sparse_categorical_crossentropy',\n",
    "              metrics=['accuracy'])"
   ]
  },
  {
   "cell_type": "code",
   "execution_count": 505,
   "metadata": {},
   "outputs": [
    {
     "name": "stdout",
     "output_type": "stream",
     "text": [
      "Epoch 1/5\n",
      "103/103 [==============================] - 1s 11ms/step - loss: 10.2974 - accuracy: 0.7543\n",
      "Epoch 2/5\n",
      "103/103 [==============================] - 1s 11ms/step - loss: 4.6327 - accuracy: 0.8683\n",
      "Epoch 3/5\n",
      "103/103 [==============================] - 1s 11ms/step - loss: 1.4296 - accuracy: 0.9122\n",
      "Epoch 4/5\n",
      "103/103 [==============================] - 1s 13ms/step - loss: 0.5413 - accuracy: 0.9323\n",
      "Epoch 5/5\n",
      "103/103 [==============================] - 1s 11ms/step - loss: 0.3507 - accuracy: 0.9555\n"
     ]
    }
   ],
   "source": [
    "history = model.fit(x_train, y_train, epochs=5)"
   ]
  },
  {
   "cell_type": "code",
   "execution_count": 506,
   "metadata": {},
   "outputs": [
    {
     "name": "stdout",
     "output_type": "stream",
     "text": [
      "64/64 [==============================] - 0s 4ms/step - loss: 1.0094 - accuracy: 0.7334\n",
      "Test accuracy: 0.7333984375\n",
      "Test loss: 1.0093709230422974\n"
     ]
    }
   ],
   "source": [
    "test_loss, test_acc = model.evaluate(x_valid, y_valid)\n",
    "print('Test accuracy:', test_acc)\n",
    "print('Test loss:', test_loss)"
   ]
  },
  {
   "cell_type": "code",
   "execution_count": 507,
   "metadata": {},
   "outputs": [],
   "source": [
    "predictions = model.predict(x_valid)"
   ]
  },
  {
   "cell_type": "code",
   "execution_count": 508,
   "metadata": {},
   "outputs": [
    {
     "name": "stdout",
     "output_type": "stream",
     "text": [
      "              precision    recall  f1-score   support\n",
      "\n",
      "           0       0.82      0.84      0.83      1600\n",
      "           1       0.38      0.36      0.37       448\n",
      "\n",
      "    accuracy                           0.73      2048\n",
      "   macro avg       0.60      0.60      0.60      2048\n",
      "weighted avg       0.73      0.73      0.73      2048\n",
      "\n",
      "              precision    recall  f1-score   support\n",
      "\n",
      "           0       0.78      1.00      0.88      1600\n",
      "           1       0.00      0.00      0.00       448\n",
      "\n",
      "    accuracy                           0.78      2048\n",
      "   macro avg       0.39      0.50      0.44      2048\n",
      "weighted avg       0.61      0.78      0.69      2048\n",
      "\n"
     ]
    }
   ],
   "source": [
    "from sklearn.metrics import classification_report\n",
    "print(classification_report(y_valid,predictions.argmax(axis=1)))\n",
    "print(classification_report(y_valid,np.zeros(y_valid.shape[0])))"
   ]
  },
  {
   "cell_type": "markdown",
   "metadata": {},
   "source": [
    "# Сверточная нейронная сеть"
   ]
  },
  {
   "cell_type": "code",
   "execution_count": 509,
   "metadata": {},
   "outputs": [],
   "source": [
    "x_cnn_train = stft_train\n",
    "y_cnn_train = block_train"
   ]
  },
  {
   "cell_type": "code",
   "execution_count": 510,
   "metadata": {},
   "outputs": [],
   "source": [
    "x_cnn_valid = stft_valid\n",
    "y_cnn_valid = block_valid"
   ]
  },
  {
   "cell_type": "code",
   "execution_count": 511,
   "metadata": {},
   "outputs": [],
   "source": [
    "x_cnn_train=np.array(x_cnn_train)\n",
    "x_cnn_valid=np.array(x_cnn_valid)"
   ]
  },
  {
   "cell_type": "code",
   "execution_count": 512,
   "metadata": {},
   "outputs": [],
   "source": [
    "#x_cnn_df = mfccs_train\n",
    "#y_cnn_df = block_train"
   ]
  },
  {
   "cell_type": "code",
   "execution_count": 513,
   "metadata": {},
   "outputs": [],
   "source": [
    "#x_cnn_train, x_cnn_valid, y_cnn_train, y_cnn_valid = train_test_split(x_cnn_df,y_cnn_df, test_size=0.3, random_state=17)"
   ]
  },
  {
   "cell_type": "code",
   "execution_count": 514,
   "metadata": {},
   "outputs": [],
   "source": [
    "#x_cnn_train=np.array(x_cnn_train)\n",
    "#x_cnn_valid=np.array(x_cnn_valid)"
   ]
  },
  {
   "cell_type": "code",
   "execution_count": 515,
   "metadata": {},
   "outputs": [],
   "source": [
    "model = tf.keras.Sequential([    \n",
    "    tf.keras.layers.Conv1D(64, kernel_size = 3, activation=\"relu\"),\n",
    "    tf.keras.layers.MaxPooling1D(pool_size=2),\n",
    "    tf.keras.layers.Conv1D(64, kernel_size = 3, activation=\"relu\"),\n",
    "    tf.keras.layers.MaxPooling1D(pool_size=2),\n",
    "    tf.keras.layers.Flatten(input_shape=()),\n",
    "    tf.keras.layers.Dense(2, activation=tf.nn.softmax)   \n",
    "])"
   ]
  },
  {
   "cell_type": "code",
   "execution_count": 516,
   "metadata": {},
   "outputs": [],
   "source": [
    "model.compile(optimizer = tf.keras.optimizers.Adam(),\n",
    "              loss = 'sparse_categorical_crossentropy',\n",
    "              metrics=['accuracy'])"
   ]
  },
  {
   "cell_type": "code",
   "execution_count": 517,
   "metadata": {},
   "outputs": [
    {
     "name": "stdout",
     "output_type": "stream",
     "text": [
      "Epoch 1/5\n",
      "103/103 [==============================] - 2s 14ms/step - loss: 0.5117 - accuracy: 0.7876\n",
      "Epoch 2/5\n",
      "103/103 [==============================] - 1s 14ms/step - loss: 0.3325 - accuracy: 0.8500\n",
      "Epoch 3/5\n",
      "103/103 [==============================] - 2s 15ms/step - loss: 0.2631 - accuracy: 0.8903\n",
      "Epoch 4/5\n",
      "103/103 [==============================] - 1s 14ms/step - loss: 0.2007 - accuracy: 0.9168\n",
      "Epoch 5/5\n",
      "103/103 [==============================] - 1s 13ms/step - loss: 0.1383 - accuracy: 0.9506\n"
     ]
    },
    {
     "data": {
      "text/plain": [
       "<tensorflow.python.keras.callbacks.History at 0x1e48f67d8b0>"
      ]
     },
     "execution_count": 517,
     "metadata": {},
     "output_type": "execute_result"
    }
   ],
   "source": [
    "model.fit(x_cnn_train, y_cnn_train, epochs=5)"
   ]
  },
  {
   "cell_type": "code",
   "execution_count": 518,
   "metadata": {},
   "outputs": [
    {
     "name": "stdout",
     "output_type": "stream",
     "text": [
      "64/64 [==============================] - 0s 4ms/step - loss: 0.9607 - accuracy: 0.6440\n",
      "Test accuracy: 0.64404296875\n",
      "Test loss: 0.9607346653938293\n"
     ]
    }
   ],
   "source": [
    "test_loss, test_acc = model.evaluate(x_cnn_valid, y_cnn_valid)\n",
    "print('Test accuracy:', test_acc)\n",
    "print('Test loss:', test_loss)"
   ]
  },
  {
   "cell_type": "code",
   "execution_count": 519,
   "metadata": {},
   "outputs": [],
   "source": [
    "predictions = model.predict(x_cnn_valid)"
   ]
  },
  {
   "cell_type": "code",
   "execution_count": 520,
   "metadata": {},
   "outputs": [
    {
     "name": "stdout",
     "output_type": "stream",
     "text": [
      "              precision    recall  f1-score   support\n",
      "\n",
      "           0       0.80      0.73      0.76      1600\n",
      "           1       0.26      0.35      0.30       448\n",
      "\n",
      "    accuracy                           0.64      2048\n",
      "   macro avg       0.53      0.54      0.53      2048\n",
      "weighted avg       0.68      0.64      0.66      2048\n",
      "\n",
      "              precision    recall  f1-score   support\n",
      "\n",
      "           0       0.78      1.00      0.88      1600\n",
      "           1       0.00      0.00      0.00       448\n",
      "\n",
      "    accuracy                           0.78      2048\n",
      "   macro avg       0.39      0.50      0.44      2048\n",
      "weighted avg       0.61      0.78      0.69      2048\n",
      "\n"
     ]
    }
   ],
   "source": [
    "print(classification_report(y_valid,predictions.argmax(axis=1)))\n",
    "print(classification_report(y_valid,np.zeros(y_valid.shape[0])))"
   ]
  },
  {
   "cell_type": "markdown",
   "metadata": {},
   "source": [
    "Вейвлет"
   ]
  },
  {
   "cell_type": "code",
   "execution_count": 464,
   "metadata": {},
   "outputs": [],
   "source": [
    "x_cnn_train = waveletcAD_train\n",
    "y_cnn_train = block_train"
   ]
  },
  {
   "cell_type": "code",
   "execution_count": 465,
   "metadata": {},
   "outputs": [],
   "source": [
    "x_cnn_valid = waveletcAD_valid\n",
    "y_cnn_valid = block_valid"
   ]
  },
  {
   "cell_type": "code",
   "execution_count": 466,
   "metadata": {},
   "outputs": [],
   "source": [
    "model2 = tf.keras.Sequential([    \n",
    "    tf.keras.layers.Conv1D(128, kernel_size = 1, activation=\"relu\"),\n",
    "    tf.keras.layers.MaxPooling1D(pool_size=1,padding='same'),\n",
    "    tf.keras.layers.Conv1D(128, kernel_size = 1, activation=\"relu\"),\n",
    "    tf.keras.layers.MaxPooling1D(pool_size=1,padding='same'),\n",
    "    tf.keras.layers.Dense(2, activation=tf.nn.softmax),   \n",
    "    tf.keras.layers.Flatten(input_shape=())\n",
    "    ])"
   ]
  },
  {
   "cell_type": "code",
   "execution_count": 467,
   "metadata": {},
   "outputs": [],
   "source": [
    "model2.compile(optimizer = tf.keras.optimizers.Adam(),\n",
    "              loss = 'sparse_categorical_crossentropy',\n",
    "              metrics=['accuracy'])"
   ]
  },
  {
   "cell_type": "code",
   "execution_count": 468,
   "metadata": {},
   "outputs": [
    {
     "name": "stdout",
     "output_type": "stream",
     "text": [
      "Epoch 1/5\n",
      "103/103 [==============================] - 6s 32ms/step - loss: 3.9363 - accuracy: 0.7976\n",
      "Epoch 2/5\n",
      "103/103 [==============================] - 3s 29ms/step - loss: 3.8863 - accuracy: 0.8019\n",
      "Epoch 3/5\n",
      "103/103 [==============================] - 3s 29ms/step - loss: 3.8861 - accuracy: 0.8019 1s - loss: 3.8912 - accuracy: 0.80 - ETA\n",
      "Epoch 4/5\n",
      "103/103 [==============================] - 3s 29ms/step - loss: 3.8814 - accuracy: 0.8022\n",
      "Epoch 5/5\n",
      "103/103 [==============================] - 3s 30ms/step - loss: 3.8814 - accuracy: 0.8022\n"
     ]
    },
    {
     "data": {
      "text/plain": [
       "<tensorflow.python.keras.callbacks.History at 0x1e48013d220>"
      ]
     },
     "execution_count": 468,
     "metadata": {},
     "output_type": "execute_result"
    }
   ],
   "source": [
    "model2.fit(x_cnn_train, y_cnn_train, epochs=5)"
   ]
  },
  {
   "cell_type": "code",
   "execution_count": 469,
   "metadata": {},
   "outputs": [
    {
     "name": "stdout",
     "output_type": "stream",
     "text": [
      "64/64 [==============================] - 0s 4ms/step - loss: 4.2190 - accuracy: 0.7812\n",
      "Test accuracy: 0.78125\n",
      "Test loss: 4.218980312347412\n"
     ]
    }
   ],
   "source": [
    "test_loss, test_acc = model2.evaluate(x_cnn_valid, y_cnn_valid)\n",
    "print('Test accuracy:', test_acc)\n",
    "print('Test loss:', test_loss)"
   ]
  },
  {
   "cell_type": "code",
   "execution_count": 470,
   "metadata": {},
   "outputs": [],
   "source": [
    "predictions = model2.predict(x_cnn_valid)"
   ]
  },
  {
   "cell_type": "code",
   "execution_count": 471,
   "metadata": {},
   "outputs": [
    {
     "name": "stdout",
     "output_type": "stream",
     "text": [
      "              precision    recall  f1-score   support\n",
      "\n",
      "           0       0.78      1.00      0.88      1600\n",
      "           1       0.00      0.00      0.00       448\n",
      "\n",
      "    accuracy                           0.78      2048\n",
      "   macro avg       0.39      0.50      0.44      2048\n",
      "weighted avg       0.61      0.78      0.69      2048\n",
      "\n",
      "              precision    recall  f1-score   support\n",
      "\n",
      "           0       0.78      1.00      0.88      1600\n",
      "           1       0.00      0.00      0.00       448\n",
      "\n",
      "    accuracy                           0.78      2048\n",
      "   macro avg       0.39      0.50      0.44      2048\n",
      "weighted avg       0.61      0.78      0.69      2048\n",
      "\n"
     ]
    }
   ],
   "source": [
    "print(classification_report(y_valid,predictions.argmax(axis=1)))\n",
    "print(classification_report(y_valid,np.zeros(y_valid.shape[0])))"
   ]
  },
  {
   "cell_type": "markdown",
   "metadata": {},
   "source": [
    "# Дерево решений"
   ]
  },
  {
   "cell_type": "markdown",
   "metadata": {},
   "source": [
    "Обучаем модель"
   ]
  },
  {
   "cell_type": "code",
   "execution_count": 521,
   "metadata": {},
   "outputs": [
    {
     "data": {
      "text/plain": [
       "DecisionTreeClassifier(max_depth=5, random_state=17)"
      ]
     },
     "execution_count": 521,
     "metadata": {},
     "output_type": "execute_result"
    }
   ],
   "source": [
    "tree = DecisionTreeClassifier(max_depth=5, random_state=17)\n",
    "tree.fit(x_train, y_train)"
   ]
  },
  {
   "cell_type": "markdown",
   "metadata": {},
   "source": [
    "Оценка модели"
   ]
  },
  {
   "cell_type": "code",
   "execution_count": 522,
   "metadata": {},
   "outputs": [
    {
     "data": {
      "text/plain": [
       "0.7001953125"
      ]
     },
     "execution_count": 522,
     "metadata": {},
     "output_type": "execute_result"
    }
   ],
   "source": [
    "tree_pred = tree.predict(x_valid)\n",
    "accuracy_score(y_valid, tree_pred) "
   ]
  },
  {
   "cell_type": "markdown",
   "metadata": {},
   "source": [
    "ROC-кривая (англ. receiver operating characteristic, рабочая характеристика приёмника) — график, позволяющий оценить\n",
    "качество бинарной классификации, отображает соотношение между долей объектов от общего количества носителей признака,\n",
    "верно классифицированных как несущие признак (англ. true positive rate, TPR, называемой чувствительностью алгоритма\n",
    "классификации), и долей объектов от общего количества объектов, не несущих признака, ошибочно классифицированных\n",
    "как несущие признак (англ. false positive rate, FPR, величина 1-FPR называется специфичностью алгоритма классификации) \n",
    "при варьировании порога решающего правила.\n",
    "\n",
    "Также известна как кривая ошибок. Анализ классификаций с применением ROC-кривых называется ROC-анализом.\n",
    "\n",
    "Количественная интерпретация ROC даёт показатель AUC (англ. Area Under Curve, площадь под кривой) — площадь, ограниченная\n",
    "ROC-кривой и осью доли ложных положительных классификаций. Чем выше показатель AUC, тем качественнее классификатор, \n",
    "при этом значение 0,5 демонстрирует непригодность выбранного метода классификации (соответствует случайному гаданию).\n",
    "Значение менее 0,5 говорит, что классификатор действует с точностью до наоборот: если положительные назвать отрицательными\n",
    "и наоборот, классификатор будет работать лучше."
   ]
  },
  {
   "cell_type": "code",
   "execution_count": 523,
   "metadata": {},
   "outputs": [
    {
     "data": {
      "image/png": "[encoded data removed]",
      "text/plain": [
       "<Figure size 432x288 with 1 Axes>"
      ]
     },
     "metadata": {
      "needs_background": "light"
     },
     "output_type": "display_data"
    }
   ],
   "source": [
    "fpr, tpr, thresholds = roc_curve(y_valid, tree.predict_proba(x_valid)[:,1], pos_label=1)\n",
    "\n",
    "def plot_roc_curve(fpr, tpr, label=None):\n",
    "    plt.plot(fpr, tpr, linewidth=2, label=label)\n",
    "    plt.plot([0, 1], [0, 1], 'k--') # dashed diagonal\n",
    "    plt.xlabel('False Positive Rate, FPR (1 - specificity)')\n",
    "    plt.ylabel('True Positive Rate, TPR (Recall)')\n",
    "    plt.title('ROC curve')\n",
    "    plt.savefig(\"ROC.png\")\n",
    "plot_roc_curve(fpr, tpr)\n",
    "plt.show()"
   ]
  },
  {
   "cell_type": "markdown",
   "metadata": {},
   "source": [
    "Precision можно интерпретировать как долю объектов, названных классификатором положительными и при этом действительно \n",
    "являющимися положительными, а recall показывает, какую долю объектов положительного класса из всех объектов положительного\n",
    "класса нашел алгоритм. Precision и recall не зависят, в отличие от accuracy, от соотношения классов и потому применимы \n",
    "в условиях несбалансированных выборок.\n",
    "\n",
    "F-мера достигает максимума при максимальной полноте и точности, и близка к нулю, если один из аргументов близок к нулю. \n",
    "F-мера является хорошим кандидатом на формальную метрику оценки качества классификатора. \n",
    "Она сводит к одному числу две других основополагающих метрики: точность и полноту. \n",
    "Имея \"F-меру\" гораздо проще ответить на вопрос: \"поменялся алгоритм в лучшую сторону или нет?\""
   ]
  },
  {
   "cell_type": "code",
   "execution_count": 524,
   "metadata": {},
   "outputs": [
    {
     "name": "stdout",
     "output_type": "stream",
     "text": [
      "              precision    recall  f1-score   support\n",
      "\n",
      "           0       0.77      0.89      0.82      1600\n",
      "           1       0.06      0.03      0.04       448\n",
      "\n",
      "    accuracy                           0.70      2048\n",
      "   macro avg       0.41      0.46      0.43      2048\n",
      "weighted avg       0.61      0.70      0.65      2048\n",
      "\n"
     ]
    }
   ],
   "source": [
    "report = classification_report(y_valid, tree.predict(x_valid), target_names=['0', '1'])\n",
    "print(report)"
   ]
  },
  {
   "cell_type": "markdown",
   "metadata": {},
   "source": [
    "# Настроим параметры модели"
   ]
  },
  {
   "cell_type": "code",
   "execution_count": 525,
   "metadata": {},
   "outputs": [],
   "source": [
    "tree_params = {'max_depth': range(1,11),'max_features': range(1,19)}"
   ]
  },
  {
   "cell_type": "code",
   "execution_count": 526,
   "metadata": {},
   "outputs": [],
   "source": [
    "tree_grid = GridSearchCV(tree, tree_params, cv=5, n_jobs=-1, verbose=True)"
   ]
  },
  {
   "cell_type": "code",
   "execution_count": 527,
   "metadata": {},
   "outputs": [
    {
     "name": "stdout",
     "output_type": "stream",
     "text": [
      "Fitting 5 folds for each of 180 candidates, totalling 900 fits\n"
     ]
    },
    {
     "name": "stderr",
     "output_type": "stream",
     "text": [
      "[Parallel(n_jobs=-1)]: Using backend LokyBackend with 8 concurrent workers.\n",
      "[Parallel(n_jobs=-1)]: Done  34 tasks      | elapsed:   30.2s\n",
      "[Parallel(n_jobs=-1)]: Done 184 tasks      | elapsed:   57.6s\n",
      "[Parallel(n_jobs=-1)]: Done 434 tasks      | elapsed:  1.7min\n",
      "[Parallel(n_jobs=-1)]: Done 784 tasks      | elapsed:  2.8min\n",
      "[Parallel(n_jobs=-1)]: Done 900 out of 900 | elapsed:  3.1min finished\n"
     ]
    },
    {
     "data": {
      "text/plain": [
       "GridSearchCV(cv=5,\n",
       "             estimator=DecisionTreeClassifier(max_depth=5, random_state=17),\n",
       "             n_jobs=-1,\n",
       "             param_grid={'max_depth': range(1, 11),\n",
       "                         'max_features': range(1, 19)},\n",
       "             verbose=True)"
      ]
     },
     "execution_count": 527,
     "metadata": {},
     "output_type": "execute_result"
    }
   ],
   "source": [
    "tree_grid.fit(x_train, y_train)"
   ]
  },
  {
   "cell_type": "code",
   "execution_count": 528,
   "metadata": {},
   "outputs": [
    {
     "data": {
      "text/plain": [
       "(0.8021944722871887, {'max_depth': 1, 'max_features': 1})"
      ]
     },
     "execution_count": 528,
     "metadata": {},
     "output_type": "execute_result"
    }
   ],
   "source": [
    "tree_grid.best_score_,tree_grid.best_params_"
   ]
  },
  {
   "cell_type": "code",
   "execution_count": 529,
   "metadata": {},
   "outputs": [
    {
     "data": {
      "text/plain": [
       "0.78125"
      ]
     },
     "execution_count": 529,
     "metadata": {},
     "output_type": "execute_result"
    }
   ],
   "source": [
    "accuracy_score(y_valid, tree_grid.predict(x_valid))"
   ]
  },
  {
   "cell_type": "code",
   "execution_count": 530,
   "metadata": {},
   "outputs": [
    {
     "data": {
      "image/png": "[encoded data removed]",
      "text/plain": [
       "<Figure size 432x288 with 1 Axes>"
      ]
     },
     "metadata": {
      "needs_background": "light"
     },
     "output_type": "display_data"
    }
   ],
   "source": [
    "fpr, tpr, thresholds = roc_curve(y_valid, tree_grid.predict_proba(x_valid)[:,1], pos_label=1)\n",
    "\n",
    "def plot_roc_curve(fpr, tpr, label=None):\n",
    "    plt.plot(fpr, tpr, linewidth=2, label=label)\n",
    "    plt.plot([0, 1], [0, 1], 'k--') # dashed diagonal\n",
    "    plt.xlabel('False Positive Rate, FPR (1 - specificity)')\n",
    "    plt.ylabel('True Positive Rate, TPR (Recall)')\n",
    "    plt.title('ROC curve')\n",
    "    plt.savefig(\"ROC.png\")\n",
    "plot_roc_curve(fpr, tpr)\n",
    "plt.show()"
   ]
  },
  {
   "cell_type": "code",
   "execution_count": 531,
   "metadata": {},
   "outputs": [
    {
     "name": "stdout",
     "output_type": "stream",
     "text": [
      "              precision    recall  f1-score   support\n",
      "\n",
      "           0       0.78      1.00      0.88      1600\n",
      "           1       0.00      0.00      0.00       448\n",
      "\n",
      "    accuracy                           0.78      2048\n",
      "   macro avg       0.39      0.50      0.44      2048\n",
      "weighted avg       0.61      0.78      0.69      2048\n",
      "\n"
     ]
    },
    {
     "name": "stderr",
     "output_type": "stream",
     "text": [
      "D:\\Alexandra\\Anaconda\\lib\\site-packages\\sklearn\\metrics\\_classification.py:1221: UndefinedMetricWarning: Precision and F-score are ill-defined and being set to 0.0 in labels with no predicted samples. Use `zero_division` parameter to control this behavior.\n",
      "  _warn_prf(average, modifier, msg_start, len(result))\n"
     ]
    }
   ],
   "source": [
    "report = classification_report(y_valid, tree_grid.predict(x_valid), target_names=['0', '1'])\n",
    "print(report)"
   ]
  },
  {
   "cell_type": "markdown",
   "metadata": {},
   "source": [
    "# Метод ближайших соседей"
   ]
  },
  {
   "cell_type": "markdown",
   "metadata": {},
   "source": [
    "Обучаем модель"
   ]
  },
  {
   "cell_type": "code",
   "execution_count": 532,
   "metadata": {},
   "outputs": [
    {
     "data": {
      "text/plain": [
       "KNeighborsClassifier(n_neighbors=3)"
      ]
     },
     "execution_count": 532,
     "metadata": {},
     "output_type": "execute_result"
    }
   ],
   "source": [
    "knn = KNeighborsClassifier(n_neighbors=3)\n",
    "knn.fit(x_train, y_train)"
   ]
  },
  {
   "cell_type": "markdown",
   "metadata": {},
   "source": [
    "Оценка модели"
   ]
  },
  {
   "cell_type": "code",
   "execution_count": 533,
   "metadata": {},
   "outputs": [
    {
     "data": {
      "text/plain": [
       "0.71240234375"
      ]
     },
     "execution_count": 533,
     "metadata": {},
     "output_type": "execute_result"
    }
   ],
   "source": [
    "knn_pred = knn.predict(x_valid)\n",
    "accuracy_score(y_valid, knn_pred) "
   ]
  },
  {
   "cell_type": "code",
   "execution_count": 534,
   "metadata": {},
   "outputs": [
    {
     "data": {
      "image/png": "[encoded data removed]",
      "text/plain": [
       "<Figure size 432x288 with 1 Axes>"
      ]
     },
     "metadata": {
      "needs_background": "light"
     },
     "output_type": "display_data"
    }
   ],
   "source": [
    "fpr, tpr, thresholds = roc_curve(y_valid, knn.predict_proba(x_valid)[:,1], pos_label=1)\n",
    "\n",
    "def plot_roc_curve(fpr, tpr, label=None):\n",
    "    plt.plot(fpr, tpr, linewidth=2, label=label)\n",
    "    plt.plot([0, 1], [0, 1], 'k--') # dashed diagonal\n",
    "    plt.xlabel('False Positive Rate, FPR (1 - specificity)')\n",
    "    plt.ylabel('True Positive Rate, TPR (Recall)')\n",
    "    plt.title('ROC curve')\n",
    "    plt.savefig(\"ROC.png\")\n",
    "plot_roc_curve(fpr, tpr)\n",
    "plt.show()"
   ]
  },
  {
   "cell_type": "code",
   "execution_count": 535,
   "metadata": {},
   "outputs": [
    {
     "name": "stdout",
     "output_type": "stream",
     "text": [
      "              precision    recall  f1-score   support\n",
      "\n",
      "           0       0.77      0.89      0.83      1600\n",
      "           1       0.15      0.07      0.10       448\n",
      "\n",
      "    accuracy                           0.71      2048\n",
      "   macro avg       0.46      0.48      0.46      2048\n",
      "weighted avg       0.64      0.71      0.67      2048\n",
      "\n"
     ]
    }
   ],
   "source": [
    "report = classification_report(y_valid, knn.predict(x_valid), target_names=['0', '1'])\n",
    "print(report)"
   ]
  },
  {
   "cell_type": "markdown",
   "metadata": {},
   "source": [
    "Настроим параметры модели"
   ]
  },
  {
   "cell_type": "code",
   "execution_count": 536,
   "metadata": {},
   "outputs": [],
   "source": [
    "knn_pipe = Pipeline([('scaler', StandardScaler()), ('knn', KNeighborsClassifier(n_jobs=-1))])"
   ]
  },
  {
   "cell_type": "code",
   "execution_count": 537,
   "metadata": {},
   "outputs": [],
   "source": [
    "knn_params = {'knn__n_neighbors': range(1, 10)}"
   ]
  },
  {
   "cell_type": "code",
   "execution_count": 538,
   "metadata": {},
   "outputs": [],
   "source": [
    "knn_grid = GridSearchCV(knn_pipe, knn_params, cv=5, n_jobs=-1, verbose=True)"
   ]
  },
  {
   "cell_type": "code",
   "execution_count": 539,
   "metadata": {},
   "outputs": [
    {
     "name": "stdout",
     "output_type": "stream",
     "text": [
      "Fitting 5 folds for each of 9 candidates, totalling 45 fits\n"
     ]
    },
    {
     "name": "stderr",
     "output_type": "stream",
     "text": [
      "[Parallel(n_jobs=-1)]: Using backend LokyBackend with 8 concurrent workers.\n",
      "[Parallel(n_jobs=-1)]: Done  45 out of  45 | elapsed: 11.5min finished\n"
     ]
    },
    {
     "data": {
      "text/plain": [
       "GridSearchCV(cv=5,\n",
       "             estimator=Pipeline(steps=[('scaler', StandardScaler()),\n",
       "                                       ('knn',\n",
       "                                        KNeighborsClassifier(n_jobs=-1))]),\n",
       "             n_jobs=-1, param_grid={'knn__n_neighbors': range(1, 10)},\n",
       "             verbose=True)"
      ]
     },
     "execution_count": 539,
     "metadata": {},
     "output_type": "execute_result"
    }
   ],
   "source": [
    "knn_grid.fit(x_train, y_train)"
   ]
  },
  {
   "cell_type": "code",
   "execution_count": 540,
   "metadata": {},
   "outputs": [
    {
     "data": {
      "text/plain": [
       "({'knn__n_neighbors': 2}, 0.6236547314103278)"
      ]
     },
     "execution_count": 540,
     "metadata": {},
     "output_type": "execute_result"
    }
   ],
   "source": [
    "knn_grid.best_params_, knn_grid.best_score_"
   ]
  },
  {
   "cell_type": "code",
   "execution_count": 541,
   "metadata": {},
   "outputs": [
    {
     "data": {
      "text/plain": [
       "0.58984375"
      ]
     },
     "execution_count": 541,
     "metadata": {},
     "output_type": "execute_result"
    }
   ],
   "source": [
    "accuracy_score(y_valid, knn_grid.predict(x_valid))"
   ]
  },
  {
   "cell_type": "code",
   "execution_count": 542,
   "metadata": {},
   "outputs": [
    {
     "data": {
      "image/png": "[encoded data removed]",
      "text/plain": [
       "<Figure size 432x288 with 1 Axes>"
      ]
     },
     "metadata": {
      "needs_background": "light"
     },
     "output_type": "display_data"
    }
   ],
   "source": [
    "fpr, tpr, thresholds = roc_curve(y_valid, knn_grid.predict_proba(x_valid)[:,1], pos_label=1)\n",
    "\n",
    "def plot_roc_curve(fpr, tpr, label=None):\n",
    "    plt.plot(fpr, tpr, linewidth=2, label=label)\n",
    "    plt.plot([0, 1], [0, 1], 'k--') # dashed diagonal\n",
    "    plt.xlabel('False Positive Rate, FPR (1 - specificity)')\n",
    "    plt.ylabel('True Positive Rate, TPR (Recall)')\n",
    "    plt.title('ROC curve')\n",
    "    plt.savefig(\"ROC.png\")\n",
    "plot_roc_curve(fpr, tpr)\n",
    "plt.show()"
   ]
  },
  {
   "cell_type": "code",
   "execution_count": 543,
   "metadata": {},
   "outputs": [
    {
     "name": "stdout",
     "output_type": "stream",
     "text": [
      "              precision    recall  f1-score   support\n",
      "\n",
      "           0       0.77      0.68      0.72      1600\n",
      "           1       0.20      0.28      0.23       448\n",
      "\n",
      "    accuracy                           0.59      2048\n",
      "   macro avg       0.48      0.48      0.48      2048\n",
      "weighted avg       0.64      0.59      0.61      2048\n",
      "\n"
     ]
    }
   ],
   "source": [
    "report = classification_report(y_valid, knn_grid.predict(x_valid), target_names=['0', '1'])\n",
    "print(report)"
   ]
  },
  {
   "cell_type": "markdown",
   "metadata": {},
   "source": [
    "# Случайный лес"
   ]
  },
  {
   "cell_type": "code",
   "execution_count": null,
   "metadata": {},
   "outputs": [],
   "source": [
    "forest = RandomForestClassifier(n_estimators=100, n_jobs=-1, random_state=17)\n",
    "print(np.mean(cross_val_score(forest, x_train, y_train, cv=5))) "
   ]
  },
  {
   "cell_type": "code",
   "execution_count": null,
   "metadata": {},
   "outputs": [],
   "source": [
    "forest_params = {'max_depth': range(1,11), 'max_features': range(1,19)}"
   ]
  },
  {
   "cell_type": "code",
   "execution_count": null,
   "metadata": {},
   "outputs": [],
   "source": [
    "forest_grid = GridSearchCV(forest, forest_params, cv=5, n_jobs=-1, verbose=True)"
   ]
  },
  {
   "cell_type": "code",
   "execution_count": null,
   "metadata": {},
   "outputs": [],
   "source": [
    "forest_grid.fit(x_train, y_train)"
   ]
  },
  {
   "cell_type": "code",
   "execution_count": null,
   "metadata": {},
   "outputs": [],
   "source": [
    "forest_grid.best_params_, forest_grid.best_score_ "
   ]
  },
  {
   "cell_type": "code",
   "execution_count": null,
   "metadata": {},
   "outputs": [],
   "source": [
    "accuracy_score(y_valid, forest_grid.predict(x_valid))"
   ]
  },
  {
   "cell_type": "code",
   "execution_count": null,
   "metadata": {},
   "outputs": [],
   "source": [
    "fpr, tpr, thresholds = roc_curve(y_valid, forest_grid.predict_proba(x_valid)[:,1], pos_label=1)\n",
    "\n",
    "def plot_roc_curve(fpr, tpr, label=None):\n",
    "    plt.plot(fpr, tpr, linewidth=2, label=label)\n",
    "    plt.plot([0, 1], [0, 1], 'k--') # dashed diagonal\n",
    "    plt.xlabel('False Positive Rate, FPR (1 - specificity)')\n",
    "    plt.ylabel('True Positive Rate, TPR (Recall)')\n",
    "    plt.title('ROC curve')\n",
    "    plt.savefig(\"ROC.png\")\n",
    "plot_roc_curve(fpr, tpr)\n",
    "plt.show()"
   ]
  },
  {
   "cell_type": "code",
   "execution_count": null,
   "metadata": {},
   "outputs": [],
   "source": [
    "report = classification_report(y_valid, forest_grid.predict(x_valid), target_names=['0', '1'])\n",
    "print(report)"
   ]
  },
  {
   "cell_type": "markdown",
   "metadata": {},
   "source": [
    "# Логистическая регрессия "
   ]
  },
  {
   "cell_type": "code",
   "execution_count": 199,
   "metadata": {},
   "outputs": [],
   "source": [
    "model = LogisticRegression(solver='liblinear', random_state=0)"
   ]
  },
  {
   "cell_type": "code",
   "execution_count": 200,
   "metadata": {},
   "outputs": [
    {
     "name": "stderr",
     "output_type": "stream",
     "text": [
      "D:\\Alexandra\\Anaconda\\lib\\site-packages\\sklearn\\svm\\_base.py:976: ConvergenceWarning: Liblinear failed to converge, increase the number of iterations.\n",
      "  warnings.warn(\"Liblinear failed to converge, increase \"\n"
     ]
    },
    {
     "data": {
      "text/plain": [
       "LogisticRegression(random_state=0, solver='liblinear')"
      ]
     },
     "execution_count": 200,
     "metadata": {},
     "output_type": "execute_result"
    }
   ],
   "source": [
    "model.fit(x_train, y_train)"
   ]
  },
  {
   "cell_type": "code",
   "execution_count": 201,
   "metadata": {},
   "outputs": [],
   "source": [
    "#LogisticRegression(\n",
    "#    C=1.0, \n",
    "#    class_weight=None, \n",
    "#    dual=False, \n",
    "#    fit_intercept=True,\n",
    "#    intercept_scaling=1, \n",
    "#    l1_ratio=None, \n",
    "#    max_iter=100,\n",
    "#    multi_class='warn', \n",
    "#    n_jobs=None, \n",
    "#    penalty='l2',\n",
    "#    random_state=0, \n",
    "#    solver='liblinear', \n",
    "#    tol=0.0001, \n",
    "#    verbose=0,\n",
    "#    warm_start=False\n",
    "#)"
   ]
  },
  {
   "cell_type": "code",
   "execution_count": 202,
   "metadata": {},
   "outputs": [
    {
     "name": "stderr",
     "output_type": "stream",
     "text": [
      "D:\\Alexandra\\Anaconda\\lib\\site-packages\\sklearn\\svm\\_base.py:976: ConvergenceWarning: Liblinear failed to converge, increase the number of iterations.\n",
      "  warnings.warn(\"Liblinear failed to converge, increase \"\n"
     ]
    }
   ],
   "source": [
    "model = LogisticRegression(solver='liblinear', random_state=0).fit(x_train, y_train)"
   ]
  },
  {
   "cell_type": "code",
   "execution_count": 203,
   "metadata": {},
   "outputs": [
    {
     "data": {
      "text/plain": [
       "array([0, 1])"
      ]
     },
     "execution_count": 203,
     "metadata": {},
     "output_type": "execute_result"
    }
   ],
   "source": [
    "#Это пример двоичной классификации, и y может быть 0 или 1\n",
    "model.classes_"
   ]
  },
  {
   "cell_type": "code",
   "execution_count": 204,
   "metadata": {},
   "outputs": [
    {
     "data": {
      "text/plain": [
       "array([[-0.00112907, -0.00176132,  0.0002297 , ...,  0.00120857,\n",
       "         0.00174714,  0.00149023]])"
      ]
     },
     "execution_count": 204,
     "metadata": {},
     "output_type": "execute_result"
    }
   ],
   "source": [
    "#Можно получить значение наклона b1 и точку пересечения b0 линейной функции f следующим образом\n",
    "#b0 задается внутри одномерного массива, а b1 — внутри двумерного массива\n",
    "model.intercept_\n",
    "model.coef_"
   ]
  },
  {
   "cell_type": "code",
   "execution_count": 205,
   "metadata": {},
   "outputs": [
    {
     "data": {
      "text/plain": [
       "array([[9.93534262e-01, 6.46573798e-03],\n",
       "       [9.99261008e-01, 7.38992496e-04],\n",
       "       [9.85571284e-01, 1.44287158e-02],\n",
       "       ...,\n",
       "       [9.96771026e-01, 3.22897448e-03],\n",
       "       [8.86162190e-01, 1.13837810e-01],\n",
       "       [8.91665768e-01, 1.08334232e-01]])"
      ]
     },
     "execution_count": 205,
     "metadata": {},
     "output_type": "execute_result"
    }
   ],
   "source": [
    "#Первый столбец — это вероятность того, что прогнозируемый результат будет равен нулю, то есть 1−p(x).\n",
    "#Второй столбец — это вероятность того, что на выходе будет единица или p(x).\n",
    "model.predict_proba(x_valid)"
   ]
  },
  {
   "cell_type": "code",
   "execution_count": 206,
   "metadata": {},
   "outputs": [
    {
     "data": {
      "text/plain": [
       "array([0, 0, 0, ..., 0, 0, 0])"
      ]
     },
     "execution_count": 206,
     "metadata": {},
     "output_type": "execute_result"
    }
   ],
   "source": [
    "#Фактические прогнозы\n",
    "model.predict(x_valid)"
   ]
  },
  {
   "cell_type": "code",
   "execution_count": 207,
   "metadata": {},
   "outputs": [
    {
     "data": {
      "text/plain": [
       "0.808206106870229"
      ]
     },
     "execution_count": 207,
     "metadata": {},
     "output_type": "execute_result"
    }
   ],
   "source": [
    "model.score(x_valid, y_valid)"
   ]
  },
  {
   "cell_type": "code",
   "execution_count": 208,
   "metadata": {},
   "outputs": [
    {
     "data": {
      "text/plain": [
       "array([[1655,  151],\n",
       "       [ 251,   39]], dtype=int64)"
      ]
     },
     "execution_count": 208,
     "metadata": {},
     "output_type": "execute_result"
    }
   ],
   "source": [
    "#Чтобы создать матрицу ошибок, вы можете использовать confusion_matrix() и предоставить\n",
    "#фактические и прогнозируемые результаты в качестве аргументов:\n",
    "confusion_matrix(y_valid, model.predict(x_valid))"
   ]
  },
  {
   "cell_type": "code",
   "execution_count": null,
   "metadata": {},
   "outputs": [],
   "source": [
    "cm = confusion_matrix(y_valid, model.predict(x_valid))\n",
    "fig, ax = plt.subplots(figsize=(8, 8))\n",
    "ax.imshow(cm)\n",
    "ax.grid(False)\n",
    "ax.xaxis.set(ticks=(0, 1), ticklabels=('Predicted 0s', 'Predicted 1s'))\n",
    "ax.yaxis.set(ticks=(0, 1), ticklabels=('Actual 0s', 'Actual 1s'))\n",
    "ax.set_ylim(1.5, -0.5)\n",
    "for i in range(2):\n",
    "    for j in range(2):\n",
    "        ax.text(j, i, cm[i, j], ha='center', va='center', color='red')\n",
    "plt.show()"
   ]
  },
  {
   "cell_type": "code",
   "execution_count": null,
   "metadata": {},
   "outputs": [],
   "source": [
    "fpr, tpr, thresholds = roc_curve(y_valid, model.predict_proba(x_valid)[:,1], pos_label=1)\n",
    "\n",
    "def plot_roc_curve(fpr, tpr, label=None):\n",
    "    plt.plot(fpr, tpr, linewidth=2, label=label)\n",
    "    plt.plot([0, 1], [0, 1], 'k--') # dashed diagonal\n",
    "    plt.xlabel('False Positive Rate, FPR (1 - specificity)')\n",
    "    plt.ylabel('True Positive Rate, TPR (Recall)')\n",
    "    plt.title('ROC curve')\n",
    "    plt.savefig(\"ROC.png\")\n",
    "plot_roc_curve(fpr, tpr)\n",
    "plt.show()"
   ]
  },
  {
   "cell_type": "code",
   "execution_count": 209,
   "metadata": {},
   "outputs": [
    {
     "name": "stdout",
     "output_type": "stream",
     "text": [
      "              precision    recall  f1-score   support\n",
      "\n",
      "           0       0.87      0.92      0.89      1806\n",
      "           1       0.21      0.13      0.16       290\n",
      "\n",
      "    accuracy                           0.81      2096\n",
      "   macro avg       0.54      0.53      0.53      2096\n",
      "weighted avg       0.78      0.81      0.79      2096\n",
      "\n"
     ]
    }
   ],
   "source": [
    "report = classification_report(y_valid, model.predict(x_valid), target_names=['0', '1'])\n",
    "print(report)"
   ]
  },
  {
   "cell_type": "code",
   "execution_count": 210,
   "metadata": {},
   "outputs": [
    {
     "name": "stdout",
     "output_type": "stream",
     "text": [
      "              precision    recall  f1-score   support\n",
      "\n",
      "           0       0.87      0.92      0.89      1806\n",
      "           1       0.21      0.13      0.16       290\n",
      "\n",
      "    accuracy                           0.81      2096\n",
      "   macro avg       0.54      0.53      0.53      2096\n",
      "weighted avg       0.78      0.81      0.79      2096\n",
      "\n"
     ]
    }
   ],
   "source": [
    "print(classification_report(y_valid, model.predict(x_valid)))"
   ]
  },
  {
   "cell_type": "markdown",
   "metadata": {},
   "source": [
    "# Улучшенная модель логистической регрессии Попытка провалилась (C=10.0)"
   ]
  },
  {
   "cell_type": "code",
   "execution_count": null,
   "metadata": {},
   "outputs": [],
   "source": [
    "model = LogisticRegression(solver='liblinear', C=10.0, random_state=0)\n",
    "model.fit(x_train, y_train)"
   ]
  },
  {
   "cell_type": "code",
   "execution_count": null,
   "metadata": {},
   "outputs": [],
   "source": [
    "model.intercept_,model.coef_"
   ]
  },
  {
   "cell_type": "code",
   "execution_count": null,
   "metadata": {},
   "outputs": [],
   "source": [
    "model.predict_proba(x_valid)"
   ]
  },
  {
   "cell_type": "code",
   "execution_count": null,
   "metadata": {},
   "outputs": [],
   "source": [
    "model.predict(x_valid)"
   ]
  },
  {
   "cell_type": "code",
   "execution_count": null,
   "metadata": {},
   "outputs": [],
   "source": [
    "model.score(x_valid, y_valid)"
   ]
  },
  {
   "cell_type": "code",
   "execution_count": null,
   "metadata": {},
   "outputs": [],
   "source": [
    "confusion_matrix(y_valid, model.predict(x_valid))"
   ]
  },
  {
   "cell_type": "code",
   "execution_count": null,
   "metadata": {},
   "outputs": [],
   "source": [
    "fpr, tpr, thresholds = roc_curve(y_valid, model.predict_proba(x_valid)[:,1], pos_label=1)\n",
    "\n",
    "def plot_roc_curve(fpr, tpr, label=None):\n",
    "    plt.plot(fpr, tpr, linewidth=2, label=label)\n",
    "    plt.plot([0, 1], [0, 1], 'k--') # dashed diagonal\n",
    "    plt.xlabel('False Positive Rate, FPR (1 - specificity)')\n",
    "    plt.ylabel('True Positive Rate, TPR (Recall)')\n",
    "    plt.title('ROC curve')\n",
    "    plt.savefig(\"ROC.png\")\n",
    "plot_roc_curve(fpr, tpr)\n",
    "plt.show()"
   ]
  },
  {
   "cell_type": "code",
   "execution_count": null,
   "metadata": {},
   "outputs": [],
   "source": [
    "print(classification_report(y_valid, model.predict(x_valid)))"
   ]
  },
  {
   "cell_type": "markdown",
   "metadata": {},
   "source": [
    "# Стохастический градиентный спуск (Stochastic Gradient Descent SGD)"
   ]
  },
  {
   "cell_type": "code",
   "execution_count": null,
   "metadata": {},
   "outputs": [],
   "source": [
    "sgd_clf = SGDClassifier(random_state=42) \n",
    "sgd_clf.fit(x_valid, y_valid) \n",
    "y_train_pred = cross_val_predict(sgd_clf, x_valid, y_valid, cv=3)"
   ]
  },
  {
   "cell_type": "code",
   "execution_count": null,
   "metadata": {},
   "outputs": [],
   "source": [
    "accuracy_score(y_valid, y_train_pred)"
   ]
  },
  {
   "cell_type": "code",
   "execution_count": null,
   "metadata": {},
   "outputs": [],
   "source": [
    "np.mean(cross_val_score(sgd_clf, x_train, y_train, cv=3))"
   ]
  },
  {
   "cell_type": "code",
   "execution_count": null,
   "metadata": {},
   "outputs": [],
   "source": [
    "y_scores = cross_val_predict(sgd_clf, x_valid, y_valid, cv=3, method=\"decision_function\")\n",
    "fpr, tpr, thresholds = roc_curve(y_valid, y_scores)\n",
    "def plot_roc_curve(fpr, tpr, label=None):\n",
    "    plt.plot(fpr, tpr, linewidth=2, label=label)\n",
    "    plt.plot([0, 1], [0, 1], 'k--') # dashed diagonal\n",
    "    plt.xlabel('False Positive Rate, FPR (1 - specificity)')\n",
    "    plt.ylabel('True Positive Rate, TPR (Recall)')\n",
    "    plt.title('ROC curve')\n",
    "    plt.savefig(\"ROC.png\")\n",
    "plot_roc_curve(fpr, tpr)\n",
    "plt.show()"
   ]
  },
  {
   "cell_type": "code",
   "execution_count": null,
   "metadata": {},
   "outputs": [],
   "source": [
    "print(classification_report(y_valid, sgd_clf.predict(x_valid)))"
   ]
  },
  {
   "cell_type": "markdown",
   "metadata": {},
   "source": [
    "# Визуализация дерева решений"
   ]
  },
  {
   "cell_type": "code",
   "execution_count": null,
   "metadata": {},
   "outputs": [],
   "source": [
    "dot_data = tree.export_graphviz(tree_grid.best_estimator_, out_file='tree.dot',filled=True)"
   ]
  },
  {
   "cell_type": "code",
   "execution_count": null,
   "metadata": {},
   "outputs": [],
   "source": [
    "!dir *png"
   ]
  },
  {
   "cell_type": "code",
   "execution_count": null,
   "metadata": {},
   "outputs": [],
   "source": [
    "!dot -Tpng tree.dot -o tree.png"
   ]
  },
  {
   "cell_type": "code",
   "execution_count": null,
   "metadata": {},
   "outputs": [],
   "source": [
    "Image(filename='tree.png') "
   ]
  },
  {
   "cell_type": "markdown",
   "metadata": {},
   "source": [
    "# Построение кривых валидации для kNN"
   ]
  },
  {
   "cell_type": "code",
   "execution_count": null,
   "metadata": {},
   "outputs": [],
   "source": [
    "train_scores, valid_scores = [], []\n",
    "n_neighb = [1, 2, 3, 5, 6, 7] + list(range(50, 500, 50))\n",
    "\n",
    "for k in n_neighb:\n",
    "    knn = KNeighborsClassifier(n_neighbors=k)\n",
    "    train_scores.append(np.mean(cross_val_score(knn, x_train, y_train, cv=5)))\n",
    "    knn.fit(x_train, y_train)\n",
    "    valid_scores.append(accuracy_score(y_valid, knn.predict(x_valid)))  \n",
    "\n",
    "plt.plot(n_neighb, train_scores, label='train')\n",
    "plt.plot(n_neighb, valid_scores, label='valid')\n",
    "plt.title('kNN')\n",
    "plt.legend();"
   ]
  },
  {
   "cell_type": "code",
   "execution_count": null,
   "metadata": {},
   "outputs": [],
   "source": [
    "mel_basis = librosa.filters.mel(sr=22050, n_fft=512, n_mels=10,fmin=0, fmax=sr / 2)"
   ]
  },
  {
   "cell_type": "code",
   "execution_count": null,
   "metadata": {},
   "outputs": [],
   "source": [
    "plt.subplot(2,1,1)\n",
    "plt.pcolormesh(mel_basis)\n",
    "plt.colorbar()"
   ]
  },
  {
   "cell_type": "code",
   "execution_count": null,
   "metadata": {},
   "outputs": [],
   "source": [
    "sr = 22050\n",
    "mel_basis = librosa.filters.mel(sr=sr, n_fft=512, n_mels=10,fmin=0, fmax=sr / 2, htk=False, norm=None)"
   ]
  },
  {
   "cell_type": "code",
   "execution_count": null,
   "metadata": {},
   "outputs": [],
   "source": [
    "plt.plot(mel_basis.T)\n",
    "plt.show()"
   ]
  },
  {
   "cell_type": "code",
   "execution_count": null,
   "metadata": {},
   "outputs": [],
   "source": []
  },
  {
   "cell_type": "code",
   "execution_count": null,
   "metadata": {},
   "outputs": [],
   "source": []
  },
  {
   "cell_type": "code",
   "execution_count": null,
   "metadata": {},
   "outputs": [],
   "source": []
  }
 ],
 "metadata": {
  "kernelspec": {
   "display_name": "Python 3",
   "language": "python",
   "name": "python3"
  },
  "language_info": {
   "codemirror_mode": {
    "name": "ipython",
    "version": 3
   },
   "file_extension": ".py",
   "mimetype": "text/x-python",
   "name": "python",
   "nbconvert_exporter": "python",
   "pygments_lexer": "ipython3",
   "version": "3.8.5"
  }
 },
 "nbformat": 4,
 "nbformat_minor": 4
}
