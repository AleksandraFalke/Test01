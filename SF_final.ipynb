{
 "cells": [
  {
   "cell_type": "code",
   "execution_count": 1,
   "metadata": {},
   "outputs": [],
   "source": [
    "%matplotlib inline\n",
    "import librosa.display\n",
    "from matplotlib import pyplot as plt\n",
    "import numpy as np\n",
    "import pandas as pd\n",
    "import os\n",
    "import librosa\n",
    "import IPython.display as ipd\n",
    "import librosa.display\n",
    "from scipy.io import wavfile\n",
    "import sklearn as sk\n",
    "from sklearn import preprocessing\n",
    "from sklearn.linear_model import LogisticRegression\n",
    "from sklearn.metrics import classification_report, confusion_matrix\n",
    "from sklearn import tree\n",
    "from sklearn.metrics import roc_curve\n",
    "import seaborn as sns\n",
    "import matplotlib.pyplot as plt\n",
    "from sklearn.datasets import fetch_openml\n",
    "from sklearn.linear_model import SGDClassifier\n",
    "from sklearn.model_selection import cross_val_predict\n",
    "import soundfile as sf"
   ]
  },
  {
   "cell_type": "markdown",
   "metadata": {},
   "source": [
    "# Загружаем аудио"
   ]
  },
  {
   "cell_type": "code",
   "execution_count": 2,
   "metadata": {},
   "outputs": [
    {
     "name": "stdout",
     "output_type": "stream",
     "text": [
      "['002.wav', '003.wav', '004.wav']\n"
     ]
    }
   ],
   "source": [
    "files = [f for f in os.listdir('../../Test003/SF1/') if os.path.isfile(f) and f.endswith(\".wav\")]\n",
    "print(files)"
   ]
  },
  {
   "cell_type": "code",
   "execution_count": 3,
   "metadata": {},
   "outputs": [
    {
     "name": "stdout",
     "output_type": "stream",
     "text": [
      "['C:\\\\Users\\\\Alexandra\\\\Test003\\\\SF — копия (2) — копия\\\\002.wav']\n"
     ]
    }
   ],
   "source": [
    "c=[os.path.abspath(files[0])]\n",
    "print(c)"
   ]
  },
  {
   "cell_type": "markdown",
   "metadata": {},
   "source": [
    "# Делим дорожку на кадры"
   ]
  },
  {
   "cell_type": "code",
   "execution_count": 4,
   "metadata": {},
   "outputs": [],
   "source": [
    "frame_length=15433\n",
    "hop_length=500\n",
    "frame = []\n",
    "frame1=[]\n",
    "for i in range(len(files)): \n",
    "    y , sr = librosa.load(files[i])\n",
    "    frame1.append(librosa.util.frame(y, frame_length=frame_length, hop_length=hop_length))"
   ]
  },
  {
   "cell_type": "code",
   "execution_count": 5,
   "metadata": {},
   "outputs": [],
   "source": [
    "frames=np.hstack((frame1))"
   ]
  },
  {
   "cell_type": "code",
   "execution_count": 6,
   "metadata": {},
   "outputs": [
    {
     "data": {
      "text/plain": [
       "2602"
      ]
     },
     "execution_count": 6,
     "metadata": {},
     "output_type": "execute_result"
    }
   ],
   "source": [
    "len(frames[0])"
   ]
  },
  {
   "cell_type": "code",
   "execution_count": 7,
   "metadata": {},
   "outputs": [
    {
     "data": {
      "text/plain": [
       "0.00019233007"
      ]
     },
     "execution_count": 7,
     "metadata": {},
     "output_type": "execute_result"
    }
   ],
   "source": [
    "frames[0,3]"
   ]
  },
  {
   "cell_type": "code",
   "execution_count": 8,
   "metadata": {},
   "outputs": [],
   "source": [
    "#y , sr = librosa.load(files[0])\n",
    "#frame1=librosa.util.frame(y, frame_length=frame_length, hop_length=hop_length)"
   ]
  },
  {
   "cell_type": "code",
   "execution_count": 9,
   "metadata": {},
   "outputs": [],
   "source": [
    "#len(frame1[0])"
   ]
  },
  {
   "cell_type": "code",
   "execution_count": 10,
   "metadata": {},
   "outputs": [],
   "source": [
    "#frame1[0,3]"
   ]
  },
  {
   "cell_type": "code",
   "execution_count": 11,
   "metadata": {},
   "outputs": [],
   "source": [
    "#frame_length=15433\n",
    "#hop_length=500\n",
    "#frame = []\n",
    "#for i in range(len(files)): \n",
    "#    y , sr = librosa.load(files[i])\n",
    "#    frame=np.vstack(librosa.util.frame(y, frame_length=frame_length, hop_length=hop_length))"
   ]
  },
  {
   "cell_type": "markdown",
   "metadata": {},
   "source": [
    "# Загружаем метки"
   ]
  },
  {
   "cell_type": "markdown",
   "metadata": {},
   "source": [
    "Metki = [f for f in os.listdir('../../Test003/SF1/') if os.path.isfile(f) and f.endswith(\".txt\")]\n",
    "metki = []\n",
    "for i in range(len(Metki)): \n",
    "    m=np.hstack(np.genfromtxt(Metki[i]))\n",
    "    metki.append(m)"
   ]
  },
  {
   "cell_type": "code",
   "execution_count": 12,
   "metadata": {},
   "outputs": [],
   "source": [
    "Metki = [f for f in os.listdir('../../Test003/SF1/') if os.path.isfile(f) and f.endswith(\".txt\")]\n",
    "metki = []\n",
    "for i in range(len(Metki)): \n",
    "    metki.append(np.genfromtxt(Metki[i],dtype='str'))"
   ]
  },
  {
   "cell_type": "code",
   "execution_count": 13,
   "metadata": {},
   "outputs": [],
   "source": [
    "metki=np.vstack(metki)"
   ]
  },
  {
   "cell_type": "code",
   "execution_count": 14,
   "metadata": {},
   "outputs": [
    {
     "data": {
      "text/plain": [
       "2"
      ]
     },
     "execution_count": 14,
     "metadata": {},
     "output_type": "execute_result"
    }
   ],
   "source": [
    "len(metki[0])"
   ]
  },
  {
   "cell_type": "code",
   "execution_count": 15,
   "metadata": {},
   "outputs": [
    {
     "data": {
      "text/plain": [
       "'5.876366'"
      ]
     },
     "execution_count": 15,
     "metadata": {},
     "output_type": "execute_result"
    }
   ],
   "source": [
    "metki[11,1]"
   ]
  },
  {
   "cell_type": "code",
   "execution_count": 16,
   "metadata": {},
   "outputs": [],
   "source": [
    "#Metki = [f for f in os.listdir('../../Test003/SF1/') if os.path.isfile(f) and f.endswith(\".txt\")]\n",
    "#metki1 = []\n",
    "#metki2 = []\n",
    "#for i in range(len(Metki)): \n",
    "#    m=np.genfromtxt(Metki[i],dtype='str')\n",
    "#    metki1.append(m[i,0])\n",
    "#   metki2.append(m[i,1])"
   ]
  },
  {
   "cell_type": "code",
   "execution_count": 17,
   "metadata": {},
   "outputs": [],
   "source": [
    "#metki1=np.array(metki1)\n",
    "#metki2=np.array(metki2)\n",
    "#metki1 = metki1.reshape(-1,1)\n",
    "#metki2 = metki2.reshape(-1,1)"
   ]
  },
  {
   "cell_type": "code",
   "execution_count": 18,
   "metadata": {},
   "outputs": [],
   "source": [
    "#metki=np.hstack((metki1, metki2)).reshape(-1, 2)"
   ]
  },
  {
   "cell_type": "code",
   "execution_count": 19,
   "metadata": {},
   "outputs": [],
   "source": [
    "#metki[0,1]"
   ]
  },
  {
   "cell_type": "code",
   "execution_count": 20,
   "metadata": {},
   "outputs": [],
   "source": [
    "times_frame=frame_length/sr                      #Сколько в секунде кадров\n",
    "times_hop=(hop_length/sr)                        #Сколько в секунде прыжков"
   ]
  },
  {
   "cell_type": "markdown",
   "metadata": {},
   "source": [
    "Делим аудио по времени на кадры."
   ]
  },
  {
   "cell_type": "code",
   "execution_count": 21,
   "metadata": {},
   "outputs": [],
   "source": [
    "times = []\n",
    "for i in range(len(frames[0])):\n",
    "    times.append([times_hop*i,times_frame+times_hop*i])        \n",
    "#print(times)"
   ]
  },
  {
   "cell_type": "markdown",
   "metadata": {},
   "source": [
    "Загружаем в таблицу"
   ]
  },
  {
   "cell_type": "code",
   "execution_count": 22,
   "metadata": {},
   "outputs": [
    {
     "name": "stdout",
     "output_type": "stream",
     "text": [
      "     mfccs                                      frames event_label\n",
      "0      NaN                   (0.0, 0.6999092970521542)         NaN\n",
      "1      NaN  (0.022675736961451247, 0.7225850340136054)         NaN\n",
      "2      NaN  (0.045351473922902494, 0.7452607709750567)         NaN\n",
      "3      NaN   (0.06802721088435373, 0.7679365079365079)         NaN\n",
      "4      NaN   (0.09070294784580499, 0.7906122448979592)         NaN\n",
      "...    ...                                         ...         ...\n",
      "2597   NaN     (58.888888888888886, 59.58879818594104)         NaN\n",
      "2598   NaN      (58.91156462585034, 59.61147392290249)         NaN\n",
      "2599   NaN     (58.93424036281179, 59.634149659863944)         NaN\n",
      "2600   NaN      (58.956916099773245, 59.6568253968254)         NaN\n",
      "2601   NaN      (58.97959183673469, 59.67950113378684)         NaN\n",
      "\n",
      "[2602 rows x 3 columns]\n",
      "Wall time: 18.3 s\n"
     ]
    }
   ],
   "source": [
    "%%time\n",
    "df = pd.DataFrame(columns = ['mfccs','frames','event_label'])\n",
    "m = times\n",
    "for mark in m:\n",
    "    df = df.append({'frames':(mark[0],mark[1])},ignore_index=True)\n",
    "print(df)"
   ]
  },
  {
   "cell_type": "markdown",
   "metadata": {},
   "source": [
    "# Смотрим попала ли метка в кадр"
   ]
  },
  {
   "cell_type": "code",
   "execution_count": 23,
   "metadata": {},
   "outputs": [],
   "source": [
    "block = np.zeros((len(frames[0])), dtype=int)\n",
    "for i,mark in enumerate(times):   \n",
    "    for j in range(len(metki)):    \n",
    "        if (mark[0]) <= float(metki[j,0]) <= (mark[1]) and (mark[0]) <= float(metki[j,1]) <= (mark[1]):\n",
    "            block[i]=1\n",
    "#print(block)"
   ]
  },
  {
   "cell_type": "code",
   "execution_count": 24,
   "metadata": {},
   "outputs": [
    {
     "data": {
      "text/html": [
       "<div>\n",
       "<style scoped>\n",
       "    .dataframe tbody tr th:only-of-type {\n",
       "        vertical-align: middle;\n",
       "    }\n",
       "\n",
       "    .dataframe tbody tr th {\n",
       "        vertical-align: top;\n",
       "    }\n",
       "\n",
       "    .dataframe thead th {\n",
       "        text-align: right;\n",
       "    }\n",
       "</style>\n",
       "<table border=\"1\" class=\"dataframe\">\n",
       "  <thead>\n",
       "    <tr style=\"text-align: right;\">\n",
       "      <th></th>\n",
       "      <th>mfccs</th>\n",
       "      <th>frames</th>\n",
       "      <th>event_label</th>\n",
       "    </tr>\n",
       "  </thead>\n",
       "  <tbody>\n",
       "    <tr>\n",
       "      <th>0</th>\n",
       "      <td>NaN</td>\n",
       "      <td>(0.0, 0.6999092970521542)</td>\n",
       "      <td>0</td>\n",
       "    </tr>\n",
       "    <tr>\n",
       "      <th>1</th>\n",
       "      <td>NaN</td>\n",
       "      <td>(0.022675736961451247, 0.7225850340136054)</td>\n",
       "      <td>0</td>\n",
       "    </tr>\n",
       "    <tr>\n",
       "      <th>2</th>\n",
       "      <td>NaN</td>\n",
       "      <td>(0.045351473922902494, 0.7452607709750567)</td>\n",
       "      <td>0</td>\n",
       "    </tr>\n",
       "    <tr>\n",
       "      <th>3</th>\n",
       "      <td>NaN</td>\n",
       "      <td>(0.06802721088435373, 0.7679365079365079)</td>\n",
       "      <td>0</td>\n",
       "    </tr>\n",
       "    <tr>\n",
       "      <th>4</th>\n",
       "      <td>NaN</td>\n",
       "      <td>(0.09070294784580499, 0.7906122448979592)</td>\n",
       "      <td>0</td>\n",
       "    </tr>\n",
       "  </tbody>\n",
       "</table>\n",
       "</div>"
      ],
      "text/plain": [
       "  mfccs                                      frames  event_label\n",
       "0   NaN                   (0.0, 0.6999092970521542)            0\n",
       "1   NaN  (0.022675736961451247, 0.7225850340136054)            0\n",
       "2   NaN  (0.045351473922902494, 0.7452607709750567)            0\n",
       "3   NaN   (0.06802721088435373, 0.7679365079365079)            0\n",
       "4   NaN   (0.09070294784580499, 0.7906122448979592)            0"
      ]
     },
     "execution_count": 24,
     "metadata": {},
     "output_type": "execute_result"
    }
   ],
   "source": [
    "df['event_label'] = block\n",
    "df.head()"
   ]
  },
  {
   "cell_type": "code",
   "execution_count": 25,
   "metadata": {},
   "outputs": [
    {
     "data": {
      "text/plain": [
       "0    2207\n",
       "1     395\n",
       "Name: event_label, dtype: int64"
      ]
     },
     "execution_count": 25,
     "metadata": {},
     "output_type": "execute_result"
    }
   ],
   "source": [
    "df[\"event_label\"].value_counts()"
   ]
  },
  {
   "cell_type": "markdown",
   "metadata": {},
   "source": [
    "# mel filterbank"
   ]
  },
  {
   "cell_type": "code",
   "execution_count": 638,
   "metadata": {},
   "outputs": [],
   "source": [
    "mel = []\n",
    "for i in range(len(frames[0])):   \n",
    "    mel.append(librosa.feature.melspectrogram(y=frames[:,i], n_fft = 512, hop_length = 500, win_length = None, window = 'hann', center = True, dtype = None, pad_mode = 'reflect'))"
   ]
  },
  {
   "cell_type": "code",
   "execution_count": 639,
   "metadata": {},
   "outputs": [],
   "source": [
    "MEL = []\n",
    "scaler = preprocessing.StandardScaler()\n",
    "for i in range(len(mel)): \n",
    "    scaler.fit(mel[i])\n",
    "for i in range(len(mel)): \n",
    "    MEL.append(scaler.transform(mel[i]))"
   ]
  },
  {
   "cell_type": "code",
   "execution_count": 640,
   "metadata": {},
   "outputs": [
    {
     "data": {
      "text/plain": [
       "(2602, 128, 31)"
      ]
     },
     "execution_count": 640,
     "metadata": {},
     "output_type": "execute_result"
    }
   ],
   "source": [
    "MEL=np.array(MEL)\n",
    "MEL.shape"
   ]
  },
  {
   "cell_type": "code",
   "execution_count": 641,
   "metadata": {},
   "outputs": [],
   "source": [
    "MEL2 = []\n",
    "for i in range(len(frames[0])): \n",
    "    MEL2.append(MEL[i].flatten())"
   ]
  },
  {
   "cell_type": "code",
   "execution_count": 642,
   "metadata": {},
   "outputs": [
    {
     "data": {
      "text/plain": [
       "(2602, 3968)"
      ]
     },
     "execution_count": 642,
     "metadata": {},
     "output_type": "execute_result"
    }
   ],
   "source": [
    "MEL2=np.array(MEL2, dtype=float)\n",
    "#print(MEL2[0])\n",
    "MEL2.shape"
   ]
  },
  {
   "cell_type": "code",
   "execution_count": 649,
   "metadata": {},
   "outputs": [
    {
     "data": {
      "text/plain": [
       "[Text(0.5, 1.0, 'Mel-frequency spectrogram')]"
      ]
     },
     "execution_count": 649,
     "metadata": {},
     "output_type": "execute_result"
    },
    {
     "data": {
      "image/png": "[encoded data removed]",
      "text/plain": [
       "<Figure size 432x288 with 2 Axes>"
      ]
     },
     "metadata": {
      "needs_background": "light"
     },
     "output_type": "display_data"
    }
   ],
   "source": [
    "fig, ax = plt.subplots()\n",
    "S_dB = librosa.power_to_db(mel[0], ref=np.max)\n",
    "img = librosa.display.specshow(S_dB, x_axis='time',\n",
    "                         y_axis='mel', sr=sr,\n",
    "                         fmax=8000, ax=ax)\n",
    "fig.colorbar(img, ax=ax, format='%+2.0f dB')\n",
    "ax.set(title='Mel-frequency spectrogram')"
   ]
  },
  {
   "cell_type": "code",
   "execution_count": 650,
   "metadata": {},
   "outputs": [
    {
     "data": {
      "text/plain": [
       "[Text(0.5, 1.0, 'Mel-frequency spectrogram')]"
      ]
     },
     "execution_count": 650,
     "metadata": {},
     "output_type": "execute_result"
    },
    {
     "data": {
      "image/png": "[encoded data removed]",
      "text/plain": [
       "<Figure size 432x288 with 2 Axes>"
      ]
     },
     "metadata": {
      "needs_background": "light"
     },
     "output_type": "display_data"
    }
   ],
   "source": [
    "fig, ax = plt.subplots()\n",
    "S_dB = librosa.power_to_db(MEL[0], ref=np.max)\n",
    "img = librosa.display.specshow(S_dB, x_axis='time',\n",
    "                         y_axis='mel', sr=sr,\n",
    "                         fmax=8000, ax=ax)\n",
    "fig.colorbar(img, ax=ax, format='%+2.0f dB')\n",
    "ax.set(title='Mel-frequency spectrogram')"
   ]
  },
  {
   "cell_type": "markdown",
   "metadata": {},
   "source": [
    "# Кепстральные коэффициенты Mel-частоты (MFCC)"
   ]
  },
  {
   "cell_type": "markdown",
   "metadata": {},
   "source": [
    "Делим коэффициенты на кадры"
   ]
  },
  {
   "cell_type": "code",
   "execution_count": 248,
   "metadata": {},
   "outputs": [],
   "source": [
    "mfccs1 = []\n",
    "for i in range(len(frames[0])):   \n",
    "    mfccs1.append(librosa.feature.mfcc(y=frames[:,i], sr=sr, hop_length=512, htk=True, n_mfcc=15,dct_type = 2,norm = None))"
   ]
  },
  {
   "cell_type": "code",
   "execution_count": 249,
   "metadata": {},
   "outputs": [],
   "source": [
    "mfccs1=np.array(mfccs1)"
   ]
  },
  {
   "cell_type": "markdown",
   "metadata": {},
   "source": [
    "Нормируем все коэффициенты"
   ]
  },
  {
   "cell_type": "code",
   "execution_count": 421,
   "metadata": {},
   "outputs": [],
   "source": [
    "mfccs = []\n",
    "scaler = preprocessing.StandardScaler()\n",
    "for i in range(len(mfccs1)): \n",
    "    scaler.fit(mfccs1[i])\n",
    "for i in range(len(mfccs1)): \n",
    "    mfccs.append(scaler.transform(mfccs1[i]))"
   ]
  },
  {
   "cell_type": "code",
   "execution_count": 420,
   "metadata": {},
   "outputs": [],
   "source": [
    "#mfccs = []\n",
    "#for i in range(len(frames[0])):   \n",
    "#    mfccs.append(sk.preprocessing.scale(mfccs1[i], axis=1, with_mean= True, with_std= True, copy=True))"
   ]
  },
  {
   "cell_type": "code",
   "execution_count": 423,
   "metadata": {},
   "outputs": [],
   "source": [
    "MFCCS = []\n",
    "for i in range(len(frames[0])): \n",
    "    MFCCS.append(mfccs[i].flatten())\n",
    "#    print(MFCCS[0])"
   ]
  },
  {
   "cell_type": "code",
   "execution_count": 597,
   "metadata": {},
   "outputs": [
    {
     "data": {
      "text/plain": [
       "(2602, 465)"
      ]
     },
     "execution_count": 597,
     "metadata": {},
     "output_type": "execute_result"
    }
   ],
   "source": [
    "MFCCS=np.array(MFCCS, dtype=float)\n",
    "MFCCS.shape"
   ]
  },
  {
   "cell_type": "code",
   "execution_count": 425,
   "metadata": {},
   "outputs": [],
   "source": [
    "df['mfccs'] = list(MFCCS)\n",
    "#df.head()"
   ]
  },
  {
   "cell_type": "markdown",
   "metadata": {},
   "source": [
    "# Оконное преобразование Фурье (STFT)."
   ]
  },
  {
   "cell_type": "code",
   "execution_count": 426,
   "metadata": {},
   "outputs": [],
   "source": [
    "stft1 = []\n",
    "for i in range(len(frames[0])):   \n",
    "    stft1.append(librosa.stft(y=frames[:,i], n_fft = 512, hop_length = 500, win_length = None, window = 'hann', center = True, dtype = None, pad_mode = 'reflect'))"
   ]
  },
  {
   "cell_type": "code",
   "execution_count": 427,
   "metadata": {},
   "outputs": [],
   "source": [
    "window=('kaiser', 4.0)"
   ]
  },
  {
   "cell_type": "code",
   "execution_count": 428,
   "metadata": {},
   "outputs": [],
   "source": [
    "stft1 = []\n",
    "for i in range(len(frames[0])):   \n",
    "    stft1.append(librosa.stft(y=frames[:,i], n_fft = 512, hop_length = 500, win_length = None, window = window, center = True, dtype = None, pad_mode = 'reflect'))"
   ]
  },
  {
   "cell_type": "markdown",
   "metadata": {},
   "source": [
    "boxcar\n",
    "triang\n",
    "blackman\n",
    "hamming\n",
    "hann\n",
    "bartlett\n",
    "flattop\n",
    "parzen\n",
    "bohman\n",
    "blackmanharris\n",
    "nuttall\n",
    "barthann\n",
    "cosine\n",
    "exponential\n",
    "tukey\n",
    "taylor\n",
    "kaiser (нужна бета)\n",
    "gaussian (требуется стандартное отклонение)\n",
    "general_cosine (требуются весовые коэффициенты)\n",
    "general_gaussian (требуется мощность, ширина)\n",
    "general_hamming (требуется оконный коэффициент)\n",
    "dpss (требуется нормализованная половина полосы пропускания)\n",
    "chebwin (требуется затухание)\n",
    "(В некоторых источниках используется альфа = бета / пи."
   ]
  },
  {
   "cell_type": "code",
   "execution_count": 429,
   "metadata": {},
   "outputs": [
    {
     "name": "stderr",
     "output_type": "stream",
     "text": [
      "<ipython-input-429-9b7e0eff9cae>:3: ComplexWarning: Casting complex values to real discards the imaginary part\n",
      "  stft2.append(stft1[i].astype(np.float32))\n"
     ]
    }
   ],
   "source": [
    "stft2 = []\n",
    "for i in range(len(frames[0])): \n",
    "    stft2.append(stft1[i].astype(np.float32))"
   ]
  },
  {
   "cell_type": "code",
   "execution_count": 431,
   "metadata": {},
   "outputs": [],
   "source": [
    "stft = []\n",
    "scaler = preprocessing.StandardScaler()\n",
    "for i in range(len(stft2)): \n",
    "    scaler.fit(stft2[i])\n",
    "for i in range(len(stft2)): \n",
    "    stft.append(scaler.transform(stft2[i]))"
   ]
  },
  {
   "cell_type": "code",
   "execution_count": 432,
   "metadata": {},
   "outputs": [],
   "source": [
    "#stft = []\n",
    "#for i in range(len(frames[0])):   \n",
    "#    stft.append(sk.preprocessing.scale(stft2[i], axis=1, with_mean= True, with_std= True, copy=True))"
   ]
  },
  {
   "cell_type": "code",
   "execution_count": 433,
   "metadata": {},
   "outputs": [
    {
     "name": "stderr",
     "output_type": "stream",
     "text": [
      "D:\\Alexandra\\Anaconda\\lib\\site-packages\\librosa\\core\\spectrum.py:1641: UserWarning: amplitude_to_db was called on complex input so phase information will be discarded. To suppress this warning, call amplitude_to_db(np.abs(S)) instead.\n",
      "  warnings.warn(\n"
     ]
    },
    {
     "data": {
      "text/plain": [
       "<matplotlib.colorbar.Colorbar at 0x2748a49c940>"
      ]
     },
     "execution_count": 433,
     "metadata": {},
     "output_type": "execute_result"
    },
    {
     "data": {
      "image/png": "[encoded data removed]",
      "text/plain": [
       "<Figure size 432x288 with 2 Axes>"
      ]
     },
     "metadata": {
      "needs_background": "light"
     },
     "output_type": "display_data"
    }
   ],
   "source": [
    "fig, ax = plt.subplots()\n",
    "img = librosa.display.specshow(librosa.amplitude_to_db(stft1[0],\n",
    "                                                       ref=np.max),\n",
    "                               y_axis='log', x_axis='time', ax=ax)\n",
    "ax.set_title('Power spectrogram')\n",
    "fig.colorbar(img, ax=ax, format=\"%+2.0f dB\")"
   ]
  },
  {
   "cell_type": "code",
   "execution_count": 434,
   "metadata": {},
   "outputs": [
    {
     "data": {
      "text/plain": [
       "<matplotlib.colorbar.Colorbar at 0x27489c1f4c0>"
      ]
     },
     "execution_count": 434,
     "metadata": {},
     "output_type": "execute_result"
    },
    {
     "data": {
      "image/png": "[encoded data removed]",
      "text/plain": [
       "<Figure size 432x288 with 2 Axes>"
      ]
     },
     "metadata": {
      "needs_background": "light"
     },
     "output_type": "display_data"
    }
   ],
   "source": [
    "fig, ax = plt.subplots()\n",
    "img = librosa.display.specshow(librosa.amplitude_to_db(stft[0],\n",
    "                                                       ref=np.max),\n",
    "                               y_axis='log', x_axis='time', ax=ax)\n",
    "ax.set_title('Power spectrogram')\n",
    "fig.colorbar(img, ax=ax, format=\"%+2.0f dB\")"
   ]
  },
  {
   "cell_type": "code",
   "execution_count": 435,
   "metadata": {},
   "outputs": [],
   "source": [
    "STFT = []\n",
    "for i in range(len(frames[0])): \n",
    "    STFT.append(stft[i].flatten())"
   ]
  },
  {
   "cell_type": "code",
   "execution_count": 436,
   "metadata": {},
   "outputs": [
    {
     "data": {
      "text/plain": [
       "(2602, 7967)"
      ]
     },
     "execution_count": 436,
     "metadata": {},
     "output_type": "execute_result"
    }
   ],
   "source": [
    "STFT=np.array(STFT, dtype=float)\n",
    "#print(STFT[0])\n",
    "STFT.shape"
   ]
  },
  {
   "cell_type": "code",
   "execution_count": 437,
   "metadata": {},
   "outputs": [],
   "source": [
    "#x_df = STFT\n",
    "#y_df = block"
   ]
  },
  {
   "cell_type": "markdown",
   "metadata": {},
   "source": [
    "# Вейвлет-преобразование "
   ]
  },
  {
   "cell_type": "code",
   "execution_count": 438,
   "metadata": {},
   "outputs": [],
   "source": [
    "import pywt"
   ]
  },
  {
   "cell_type": "code",
   "execution_count": 439,
   "metadata": {},
   "outputs": [
    {
     "data": {
      "text/plain": [
       "['haar',\n",
       " 'db',\n",
       " 'sym',\n",
       " 'coif',\n",
       " 'bior',\n",
       " 'rbio',\n",
       " 'dmey',\n",
       " 'gaus',\n",
       " 'mexh',\n",
       " 'morl',\n",
       " 'cgau',\n",
       " 'shan',\n",
       " 'fbsp',\n",
       " 'cmor']"
      ]
     },
     "execution_count": 439,
     "metadata": {},
     "output_type": "execute_result"
    }
   ],
   "source": [
    "#Возвращает список доступных встроенных семейств вейвлетов.\n",
    "#Хаар ( haar )\n",
    "#Добеши ( db )\n",
    "#Symlets ( sym )\n",
    "#Койфлеты ( coif )\n",
    "#Биортогональный ( bior )\n",
    "#Обратный биортогональный ( rbio )\n",
    "#«Дискретное» FIR-приближение вейвлета Мейера ( dmey )\n",
    "pywt.families()"
   ]
  },
  {
   "cell_type": "code",
   "execution_count": 440,
   "metadata": {},
   "outputs": [
    {
     "name": "stdout",
     "output_type": "stream",
     "text": [
      "['dmey']\n"
     ]
    }
   ],
   "source": [
    "print(pywt.wavelist( 'dmey'))"
   ]
  },
  {
   "cell_type": "code",
   "execution_count": 441,
   "metadata": {},
   "outputs": [
    {
     "name": "stdout",
     "output_type": "stream",
     "text": [
      "Wavelet dmey\n",
      "  Family name:    Discrete Meyer (FIR Approximation)\n",
      "  Short name:     dmey\n",
      "  Filters length: 62\n",
      "  Orthogonal:     True\n",
      "  Biorthogonal:   True\n",
      "  Symmetry:       symmetric\n",
      "  DWT:            True\n",
      "  CWT:            False\n"
     ]
    }
   ],
   "source": [
    "wavelet = pywt.Wavelet('dmey')\n",
    "print(wavelet)"
   ]
  },
  {
   "cell_type": "code",
   "execution_count": 555,
   "metadata": {},
   "outputs": [],
   "source": [
    "waveletcad = []\n",
    "for i in range(len(frames[0])):  \n",
    "    cad  = pywt.dwt(frames[:,i], wavelet , mode='symmetric', axis=-1)\n",
    "    waveletcad.append(cad)"
   ]
  },
  {
   "cell_type": "code",
   "execution_count": 443,
   "metadata": {},
   "outputs": [],
   "source": [
    "#wavelet.filter_bank\n",
    "#(w.dec_lo, w.dec_hi, w.rec_lo, w.rec_hi) "
   ]
  },
  {
   "cell_type": "code",
   "execution_count": 556,
   "metadata": {},
   "outputs": [],
   "source": [
    "waveletcAD = []\n",
    "scaler = preprocessing.StandardScaler()\n",
    "for i in range(len(waveletcad)): \n",
    "    scaler.fit(waveletcad[i])\n",
    "for i in range(len(waveletcad)): \n",
    "    waveletcAD.append(scaler.transform(waveletcad[i]))"
   ]
  },
  {
   "cell_type": "code",
   "execution_count": 557,
   "metadata": {},
   "outputs": [
    {
     "data": {
      "text/plain": [
       "(2602, 2, 7747)"
      ]
     },
     "execution_count": 557,
     "metadata": {},
     "output_type": "execute_result"
    }
   ],
   "source": [
    "waveletcAD=np.array(waveletcAD, dtype=float)\n",
    "#print(waveletCA[0])\n",
    "waveletcAD.shape"
   ]
  },
  {
   "cell_type": "code",
   "execution_count": 59,
   "metadata": {},
   "outputs": [],
   "source": [
    "#x_df = waveletcAD\n",
    "#y_df = block"
   ]
  },
  {
   "cell_type": "markdown",
   "metadata": {},
   "source": [
    "# Делим на обучающую и тестовую выборки и обучаем"
   ]
  },
  {
   "cell_type": "code",
   "execution_count": 612,
   "metadata": {},
   "outputs": [],
   "source": [
    "x_df = MEL2"
   ]
  },
  {
   "cell_type": "code",
   "execution_count": 613,
   "metadata": {},
   "outputs": [],
   "source": [
    "y_df = block"
   ]
  },
  {
   "cell_type": "code",
   "execution_count": 579,
   "metadata": {},
   "outputs": [],
   "source": [
    "from sklearn.ensemble import RandomForestClassifier\n",
    "from sklearn.metrics import accuracy_score, confusion_matrix, roc_auc_score\n",
    "from sklearn.model_selection import GridSearchCV\n",
    "from sklearn.tree import DecisionTreeClassifier, export_graphviz\n",
    "from sklearn.model_selection import train_test_split,cross_val_score\n",
    "from sklearn.neighbors import KNeighborsClassifier\n",
    "from sklearn.pipeline import Pipeline\n",
    "from sklearn.preprocessing import StandardScaler\n",
    "from sklearn.tree import export_graphviz\n",
    "from sklearn import tree\n",
    "from IPython.display import Image\n",
    "from sklearn.tree import DecisionTreeClassifier, export_graphviz"
   ]
  },
  {
   "cell_type": "markdown",
   "metadata": {},
   "source": [
    "Видим, что выборка несбалонсированна. "
   ]
  },
  {
   "cell_type": "code",
   "execution_count": 614,
   "metadata": {},
   "outputs": [],
   "source": [
    "x_train, x_valid, y_train, y_valid = train_test_split(x_df,y_df, test_size=0.3, random_state=17)"
   ]
  },
  {
   "cell_type": "code",
   "execution_count": 615,
   "metadata": {},
   "outputs": [
    {
     "data": {
      "text/plain": [
       "121"
      ]
     },
     "execution_count": 615,
     "metadata": {},
     "output_type": "execute_result"
    }
   ],
   "source": [
    "np.count_nonzero(y_valid == 1)"
   ]
  },
  {
   "cell_type": "code",
   "execution_count": 616,
   "metadata": {},
   "outputs": [
    {
     "data": {
      "text/plain": [
       "660"
      ]
     },
     "execution_count": 616,
     "metadata": {},
     "output_type": "execute_result"
    }
   ],
   "source": [
    "np.count_nonzero(y_valid == 0)"
   ]
  },
  {
   "cell_type": "code",
   "execution_count": 617,
   "metadata": {},
   "outputs": [
    {
     "data": {
      "text/plain": [
       "274"
      ]
     },
     "execution_count": 617,
     "metadata": {},
     "output_type": "execute_result"
    }
   ],
   "source": [
    " np.count_nonzero(y_train == 1)"
   ]
  },
  {
   "cell_type": "code",
   "execution_count": 618,
   "metadata": {},
   "outputs": [
    {
     "data": {
      "text/plain": [
       "1547"
      ]
     },
     "execution_count": 618,
     "metadata": {},
     "output_type": "execute_result"
    }
   ],
   "source": [
    "np.count_nonzero(y_train == 0)"
   ]
  },
  {
   "cell_type": "markdown",
   "metadata": {},
   "source": [
    "# Нейронная сеть"
   ]
  },
  {
   "cell_type": "code",
   "execution_count": 587,
   "metadata": {},
   "outputs": [],
   "source": [
    "import tensorflow as tf\n",
    "from tensorflow import keras\n",
    "from  tensorflow.keras import layers"
   ]
  },
  {
   "cell_type": "code",
   "execution_count": 622,
   "metadata": {},
   "outputs": [
    {
     "name": "stdout",
     "output_type": "stream",
     "text": [
      "3968 1821\n"
     ]
    }
   ],
   "source": [
    "r=len(x_train)\n",
    "u=len(x_train[0])\n",
    "print(u,r)"
   ]
  },
  {
   "cell_type": "code",
   "execution_count": 623,
   "metadata": {},
   "outputs": [],
   "source": [
    "model = tf.keras.Sequential([                                       #Sequential группирует линейную стопку слоев в tf.keras.Model.\n",
    "    tf.keras.layers.Flatten(input_shape=(u,)),                      #преобразует матрицу ввода в единый массив.\n",
    "#   tf.keras.layers.Dense(128, kernel_initializer='orthogonal'),    #генерирует случайные веса\n",
    "    tf.keras.layers.Dense(128, activation=tf.nn.relu),              #Применяет функцию активации выпрямленного линейного блока.   \n",
    "#Схемы регуляризации добавляемые к весам слоя (ядро и сдвиг), такие как L1 или L2 регуляризации.\n",
    "#kernel_regularizer : функция регуляризатора, применяемая к матрице весов ядра.\n",
    "#bias_regularizer : функция регуляризатора, применяемая к вектору смещения.\n",
    "    tf.keras.layers.Dense(128, kernel_regularizer=tf.keras.regularizers.l1(0.01)),\n",
    "    tf.keras.layers.Dense(64, bias_regularizer=tf.keras.regularizers.l2(0.01)),\n",
    "    tf.keras.layers.Dense(64, activation=tf.nn.relu),\n",
    "    tf.keras.layers.Dense(2, activation=tf.nn.softmax),   #2 категории 0 и 1; преобразует вектор значений в распределение вероятностей\n",
    "])"
   ]
  },
  {
   "cell_type": "code",
   "execution_count": 624,
   "metadata": {},
   "outputs": [],
   "source": [
    "model.compile(optimizer = tf.keras.optimizers.Adam(),\n",
    "              loss = 'sparse_categorical_crossentropy',\n",
    "              metrics=['accuracy'])"
   ]
  },
  {
   "cell_type": "code",
   "execution_count": 625,
   "metadata": {},
   "outputs": [
    {
     "name": "stdout",
     "output_type": "stream",
     "text": [
      "Epoch 1/5\n",
      "57/57 [==============================] - 2s 14ms/step - loss: 15.1834 - accuracy: 0.8029\n",
      "Epoch 2/5\n",
      "57/57 [==============================] - 1s 18ms/step - loss: 12.4661 - accuracy: 0.8880\n",
      "Epoch 3/5\n",
      "57/57 [==============================] - 1s 19ms/step - loss: 11.6298 - accuracy: 0.9050\n",
      "Epoch 4/5\n",
      "57/57 [==============================] - 1s 19ms/step - loss: 10.9420 - accuracy: 0.8990: 0s - loss: 10.7942 - accuracy: \n",
      "Epoch 5/5\n",
      "57/57 [==============================] - 1s 15ms/step - loss: 9.8819 - accuracy: 0.9116\n"
     ]
    }
   ],
   "source": [
    "history = model.fit(x_train, y_train, epochs=5)"
   ]
  },
  {
   "cell_type": "code",
   "execution_count": 536,
   "metadata": {},
   "outputs": [
    {
     "name": "stdout",
     "output_type": "stream",
     "text": [
      "25/25 [==============================] - 0s 2ms/step - loss: 0.4472 - accuracy: 0.8451\n",
      "Test accuracy: 0.8450704216957092\n",
      "Test loss: 0.44717085361480713\n"
     ]
    }
   ],
   "source": [
    "test_loss, test_acc = model.evaluate(x_valid, y_valid)\n",
    "print('Test accuracy:', test_acc)\n",
    "print('Test loss:', test_loss)"
   ]
  },
  {
   "cell_type": "code",
   "execution_count": 537,
   "metadata": {},
   "outputs": [],
   "source": [
    "predictions = model.predict(x_valid)"
   ]
  },
  {
   "cell_type": "code",
   "execution_count": 538,
   "metadata": {},
   "outputs": [
    {
     "name": "stdout",
     "output_type": "stream",
     "text": [
      "              precision    recall  f1-score   support\n",
      "\n",
      "           0       0.85      1.00      0.92       660\n",
      "           1       0.00      0.00      0.00       121\n",
      "\n",
      "    accuracy                           0.85       781\n",
      "   macro avg       0.42      0.50      0.46       781\n",
      "weighted avg       0.71      0.85      0.77       781\n",
      "\n",
      "              precision    recall  f1-score   support\n",
      "\n",
      "           0       0.85      1.00      0.92       660\n",
      "           1       0.00      0.00      0.00       121\n",
      "\n",
      "    accuracy                           0.85       781\n",
      "   macro avg       0.42      0.50      0.46       781\n",
      "weighted avg       0.71      0.85      0.77       781\n",
      "\n"
     ]
    },
    {
     "name": "stderr",
     "output_type": "stream",
     "text": [
      "D:\\Alexandra\\Anaconda\\lib\\site-packages\\sklearn\\metrics\\_classification.py:1221: UndefinedMetricWarning: Precision and F-score are ill-defined and being set to 0.0 in labels with no predicted samples. Use `zero_division` parameter to control this behavior.\n",
      "  _warn_prf(average, modifier, msg_start, len(result))\n"
     ]
    }
   ],
   "source": [
    "from sklearn.metrics import classification_report\n",
    "print(classification_report(y_valid,predictions.argmax(axis=1)))\n",
    "print(classification_report(y_valid,np.zeros(y_valid.shape[0])))"
   ]
  },
  {
   "cell_type": "code",
   "execution_count": 540,
   "metadata": {},
   "outputs": [
    {
     "data": {
      "text/plain": [
       "(array([0, 0, 0, 0, 0, 0, 0, 0, 0, 0, 0, 0, 0, 0, 0, 0, 0, 0, 0, 0, 0, 0,\n",
       "        0, 0, 0, 0, 0, 0, 0, 0, 0, 0, 0, 0, 0, 0, 0, 0, 0, 0, 0, 0, 0, 0,\n",
       "        0, 0, 0, 0, 0, 0, 0, 0, 0, 0, 0, 0, 0, 0, 0, 0, 0, 0, 0, 0, 0, 0,\n",
       "        0, 0, 0, 0, 0, 0, 0, 0, 0, 0, 0, 0, 0, 0, 0, 0, 0, 0, 0, 0, 0, 0,\n",
       "        0, 0, 0, 0, 0, 0, 0, 0, 0, 0, 0, 0, 0, 0, 0, 0, 0, 0, 0, 0, 0, 0,\n",
       "        0, 0, 0, 0, 0, 0, 0, 0, 0, 0, 0, 0, 0, 0, 0, 0, 0, 0, 0, 0, 0, 0,\n",
       "        0, 0, 0, 0, 0, 0, 0, 0, 0, 0, 0, 0, 0, 0, 0, 0, 0, 0, 0, 0, 0, 0,\n",
       "        0, 0, 0, 0, 0, 0, 0, 0, 0, 0, 0, 0, 0, 0, 0, 0, 0, 0, 0, 0, 0, 0,\n",
       "        0, 0, 0, 0, 0, 0, 0, 0, 0, 0, 0, 0, 0, 0, 0, 0, 0, 0, 0, 0, 0, 0,\n",
       "        0, 0, 0, 0, 0, 0, 0, 0, 0, 0, 0, 0, 0, 0, 0, 0, 0, 0, 0, 0, 0, 0,\n",
       "        0, 0, 0, 0, 0, 0, 0, 0, 0, 0, 0, 0, 0, 0, 0, 0, 0, 0, 0, 0, 0, 0,\n",
       "        0, 0, 0, 0, 0, 0, 0, 0, 0, 0, 0, 0, 0, 0, 0, 0, 0, 0, 0, 0, 0, 0,\n",
       "        0, 0, 0, 0, 0, 0, 0, 0, 0, 0, 0, 0, 0, 0, 0, 0, 0, 0, 0, 0, 0, 0,\n",
       "        0, 0, 0, 0, 0, 0, 0, 0, 0, 0, 0, 0, 0, 0, 0, 0, 0, 0, 0, 0, 0, 0,\n",
       "        0, 0, 0, 0, 0, 0, 0, 0, 0, 0, 0, 0, 0, 0, 0, 0, 0, 0, 0, 0, 0, 0,\n",
       "        0, 0, 0, 0, 0, 0, 0, 0, 0, 0, 0, 0, 0, 0, 0, 0, 0, 0, 0, 0, 0, 0,\n",
       "        0, 0, 0, 0, 0, 0, 0, 0, 0, 0, 0, 0, 0, 0, 0, 0, 0, 0, 0, 0, 0, 0,\n",
       "        0, 0, 0, 0, 0, 0, 0, 0, 0, 0, 0, 0, 0, 0, 0, 0, 0, 0, 0, 0, 0, 0,\n",
       "        0, 0, 0, 0, 0, 0, 0, 0, 0, 0, 0, 0, 0, 0, 0, 0, 0, 0, 0, 0, 0, 0,\n",
       "        0, 0, 0, 0, 0, 0, 0, 0, 0, 0, 0, 0, 0, 0, 0, 0, 0, 0, 0, 0, 0, 0,\n",
       "        0, 0, 0, 0, 0, 0, 0, 0, 0, 0, 0, 0, 0, 0, 0, 0, 0, 0, 0, 0, 0, 0,\n",
       "        0, 0, 0, 0, 0, 0, 0, 0, 0, 0, 0, 0, 0, 0, 0, 0, 0, 0, 0, 0, 0, 0,\n",
       "        0, 0, 0, 0, 0, 0, 0, 0, 0, 0, 0, 0, 0, 0, 0, 0, 0, 0, 0, 0, 0, 0,\n",
       "        0, 0, 0, 0, 0, 0, 0, 0, 0, 0, 0, 0, 0, 0, 0, 0, 0, 0, 0, 0, 0, 0,\n",
       "        0, 0, 0, 0, 0, 0, 0, 0, 0, 0, 0, 0, 0, 0, 0, 0, 0, 0, 0, 0, 0, 0,\n",
       "        0, 0, 0, 0, 0, 0, 0, 0, 0, 0, 0, 0, 0, 0, 0, 0, 0, 0, 0, 0, 0, 0,\n",
       "        0, 0, 0, 0, 0, 0, 0, 0, 0, 0, 0, 0, 0, 0, 0, 0, 0, 0, 0, 0, 0, 0,\n",
       "        0, 0, 0, 0, 0, 0, 0, 0, 0, 0, 0, 0, 0, 0, 0, 0, 0, 0, 0, 0, 0, 0,\n",
       "        0, 0, 0, 0, 0, 0, 0, 0, 0, 0, 0, 0, 0, 0, 0, 0, 0, 0, 0, 0, 0, 0,\n",
       "        0, 0, 0, 0, 0, 0, 0, 0, 0, 0, 0, 0, 0, 0, 0, 0, 0, 0, 0, 0, 0, 0,\n",
       "        0, 0, 0, 0, 0, 0, 0, 0, 0, 0, 0, 0, 0, 0, 0, 0, 0, 0, 0, 0, 0, 0,\n",
       "        0, 0, 0, 0, 0, 0, 0, 0, 0, 0, 0, 0, 0, 0, 0, 0, 0, 0, 0, 0, 0, 0,\n",
       "        0, 0, 0, 0, 0, 0, 0, 0, 0, 0, 0, 0, 0, 0, 0, 0, 0, 0, 0, 0, 0, 0,\n",
       "        0, 0, 0, 0, 0, 0, 0, 0, 0, 0, 0, 0, 0, 0, 0, 0, 0, 0, 0, 0, 0, 0,\n",
       "        0, 0, 0, 0, 0, 0, 0, 0, 0, 0, 0, 0, 0, 0, 0, 0, 0, 0, 0, 0, 0, 0,\n",
       "        0, 0, 0, 0, 0, 0, 0, 0, 0, 0, 0], dtype=int64),\n",
       " array([1, 0, 0, 0, 0, 1, 0, 0, 1, 0, 0, 0, 0, 0, 0, 0, 0, 1, 1, 1, 0, 0,\n",
       "        0, 0, 0, 0, 0, 0, 0, 0, 0, 0, 0, 0, 0, 0, 1, 0, 0, 0, 0, 0, 0, 1,\n",
       "        0, 0, 0, 0, 0, 0, 0, 0, 0, 1, 0, 0, 0, 0, 0, 0, 0, 0, 0, 0, 0, 0,\n",
       "        0, 0, 0, 0, 0, 0, 0, 0, 0, 1, 0, 0, 1, 0, 0, 1, 0, 0, 0, 0, 0, 0,\n",
       "        0, 0, 1, 0, 0, 0, 0, 0, 0, 0, 0, 0, 1, 0, 0, 0, 0, 0, 0, 0, 0, 0,\n",
       "        0, 0, 0, 0, 0, 0, 0, 0, 0, 0, 0, 1, 0, 0, 0, 1, 0, 0, 0, 0, 0, 0,\n",
       "        0, 0, 0, 0, 0, 0, 0, 0, 0, 0, 0, 0, 0, 0, 0, 0, 0, 0, 0, 1, 0, 0,\n",
       "        0, 0, 0, 0, 0, 0, 0, 0, 0, 1, 0, 0, 0, 0, 0, 0, 1, 0, 1, 0, 0, 0,\n",
       "        0, 0, 0, 0, 0, 0, 0, 0, 0, 0, 0, 0, 0, 0, 1, 0, 0, 0, 0, 0, 0, 0,\n",
       "        0, 0, 0, 0, 0, 0, 0, 0, 0, 0, 0, 0, 0, 0, 0, 0, 0, 0, 0, 0, 1, 0,\n",
       "        0, 0, 0, 0, 0, 0, 0, 0, 0, 0, 0, 1, 0, 0, 1, 0, 0, 0, 0, 0, 1, 0,\n",
       "        0, 1, 0, 0, 1, 0, 0, 0, 0, 1, 0, 0, 0, 0, 1, 0, 0, 0, 0, 0, 1, 0,\n",
       "        0, 1, 0, 0, 0, 1, 0, 0, 0, 0, 1, 0, 1, 1, 0, 0, 0, 0, 0, 0, 0, 0,\n",
       "        0, 0, 0, 0, 0, 1, 0, 0, 0, 0, 0, 1, 0, 1, 0, 0, 0, 0, 1, 1, 0, 0,\n",
       "        0, 1, 0, 0, 0, 1, 0, 0, 0, 1, 0, 0, 0, 0, 0, 1, 0, 0, 1, 0, 0, 0,\n",
       "        0, 0, 0, 0, 0, 0, 1, 0, 0, 0, 0, 0, 0, 0, 0, 0, 1, 1, 1, 0, 1, 0,\n",
       "        0, 0, 0, 0, 0, 1, 0, 1, 0, 0, 1, 1, 1, 1, 0, 0, 0, 1, 0, 0, 0, 0,\n",
       "        0, 0, 0, 0, 0, 0, 0, 0, 1, 1, 0, 0, 0, 0, 0, 1, 0, 0, 0, 0, 1, 0,\n",
       "        0, 0, 1, 1, 0, 0, 0, 0, 0, 0, 0, 0, 0, 0, 0, 0, 0, 0, 0, 0, 1, 0,\n",
       "        0, 0, 0, 0, 0, 0, 0, 0, 0, 0, 0, 0, 0, 1, 0, 0, 0, 0, 0, 0, 0, 1,\n",
       "        1, 1, 0, 1, 1, 0, 1, 0, 0, 0, 0, 0, 0, 0, 0, 0, 0, 0, 0, 0, 0, 0,\n",
       "        0, 0, 0, 0, 0, 0, 0, 0, 1, 0, 0, 0, 1, 0, 0, 0, 0, 0, 0, 0, 0, 0,\n",
       "        1, 0, 0, 0, 0, 0, 0, 0, 0, 0, 1, 1, 0, 0, 0, 1, 0, 1, 1, 0, 0, 0,\n",
       "        0, 0, 0, 0, 0, 0, 0, 0, 0, 0, 0, 0, 0, 0, 0, 0, 0, 0, 0, 0, 0, 1,\n",
       "        0, 0, 0, 0, 0, 1, 0, 0, 0, 0, 0, 0, 0, 0, 0, 0, 0, 1, 0, 1, 0, 0,\n",
       "        0, 0, 0, 0, 1, 0, 0, 0, 0, 0, 0, 0, 0, 0, 0, 0, 0, 1, 0, 0, 0, 0,\n",
       "        0, 0, 0, 0, 0, 1, 0, 0, 0, 0, 0, 0, 0, 0, 0, 0, 0, 1, 1, 0, 0, 0,\n",
       "        0, 0, 1, 0, 0, 1, 0, 0, 0, 0, 0, 1, 1, 0, 1, 0, 1, 0, 0, 0, 0, 0,\n",
       "        0, 1, 0, 0, 0, 1, 0, 0, 0, 1, 0, 0, 0, 0, 0, 1, 0, 0, 0, 1, 0, 0,\n",
       "        0, 0, 0, 0, 1, 0, 0, 0, 0, 0, 0, 0, 0, 0, 0, 0, 0, 0, 0, 1, 0, 0,\n",
       "        1, 0, 0, 0, 0, 0, 0, 0, 0, 0, 1, 0, 1, 1, 0, 0, 0, 0, 1, 0, 0, 0,\n",
       "        0, 0, 0, 0, 1, 0, 0, 0, 0, 0, 0, 1, 0, 0, 1, 0, 0, 0, 0, 0, 0, 0,\n",
       "        0, 0, 1, 0, 0, 0, 0, 0, 1, 0, 0, 0, 0, 0, 0, 0, 0, 0, 0, 0, 0, 0,\n",
       "        0, 0, 0, 0, 1, 0, 1, 0, 0, 0, 0, 0, 0, 0, 0, 0, 1, 0, 1, 1, 0, 0,\n",
       "        0, 0, 1, 0, 0, 0, 0, 1, 0, 1, 0, 0, 0, 0, 0, 0, 0, 0, 0, 0, 0, 1,\n",
       "        0, 0, 0, 0, 1, 0, 0, 0, 0, 0, 0]))"
      ]
     },
     "execution_count": 540,
     "metadata": {},
     "output_type": "execute_result"
    }
   ],
   "source": [
    "predictions.argmax(axis=1), y_valid"
   ]
  },
  {
   "cell_type": "markdown",
   "metadata": {},
   "source": [
    "# Сверточная нейронная сеть"
   ]
  },
  {
   "cell_type": "code",
   "execution_count": 541,
   "metadata": {},
   "outputs": [],
   "source": [
    "x_cnn_df = mfccs\n",
    "y_cnn_df = block"
   ]
  },
  {
   "cell_type": "code",
   "execution_count": 542,
   "metadata": {},
   "outputs": [],
   "source": [
    "x_cnn_train, x_cnn_valid, y_cnn_train, y_cnn_valid = train_test_split(x_cnn_df,y_cnn_df, test_size=0.3, random_state=17)"
   ]
  },
  {
   "cell_type": "code",
   "execution_count": 543,
   "metadata": {},
   "outputs": [],
   "source": [
    "x_cnn_train=np.array(x_cnn_train)\n",
    "x_cnn_valid=np.array(x_cnn_valid)"
   ]
  },
  {
   "cell_type": "code",
   "execution_count": 544,
   "metadata": {},
   "outputs": [],
   "source": [
    "model = tf.keras.Sequential([    \n",
    "    tf.keras.layers.Conv1D(64, kernel_size = 3, activation=\"relu\"),\n",
    "    tf.keras.layers.MaxPooling1D(pool_size=2),\n",
    "    tf.keras.layers.Conv1D(64, kernel_size = 3, activation=\"relu\"),\n",
    "    tf.keras.layers.MaxPooling1D(pool_size=2),\n",
    "    tf.keras.layers.Flatten(input_shape=()),\n",
    "    tf.keras.layers.Dense(2, activation=tf.nn.softmax)   \n",
    "])"
   ]
  },
  {
   "cell_type": "code",
   "execution_count": 545,
   "metadata": {},
   "outputs": [],
   "source": [
    "model.compile(optimizer = tf.keras.optimizers.Adam(),\n",
    "              loss = 'sparse_categorical_crossentropy',\n",
    "              metrics=['accuracy'])"
   ]
  },
  {
   "cell_type": "code",
   "execution_count": 546,
   "metadata": {},
   "outputs": [
    {
     "name": "stdout",
     "output_type": "stream",
     "text": [
      "Epoch 1/5\n",
      "57/57 [==============================] - 2s 8ms/step - loss: 0.4600 - accuracy: 0.8287\n",
      "Epoch 2/5\n",
      "57/57 [==============================] - 0s 8ms/step - loss: 0.3926 - accuracy: 0.8495\n",
      "Epoch 3/5\n",
      "57/57 [==============================] - 0s 7ms/step - loss: 0.3566 - accuracy: 0.8501\n",
      "Epoch 4/5\n",
      "57/57 [==============================] - 0s 6ms/step - loss: 0.3063 - accuracy: 0.8666\n",
      "Epoch 5/5\n",
      "57/57 [==============================] - 0s 8ms/step - loss: 0.2777 - accuracy: 0.8918: 0s - loss: 0.2694 - accu\n"
     ]
    },
    {
     "data": {
      "text/plain": [
       "<tensorflow.python.keras.callbacks.History at 0x274806a2ca0>"
      ]
     },
     "execution_count": 546,
     "metadata": {},
     "output_type": "execute_result"
    }
   ],
   "source": [
    "model.fit(x_cnn_train, y_cnn_train, epochs=5)"
   ]
  },
  {
   "cell_type": "code",
   "execution_count": 547,
   "metadata": {},
   "outputs": [
    {
     "name": "stdout",
     "output_type": "stream",
     "text": [
      "25/25 [==============================] - 1s 3ms/step - loss: 0.2847 - accuracy: 0.8848\n",
      "Test accuracy: 0.8847631216049194\n",
      "Test loss: 0.2846831977367401\n"
     ]
    }
   ],
   "source": [
    "test_loss, test_acc = model.evaluate(x_cnn_valid, y_cnn_valid)\n",
    "print('Test accuracy:', test_acc)\n",
    "print('Test loss:', test_loss)"
   ]
  },
  {
   "cell_type": "markdown",
   "metadata": {},
   "source": [
    "Вейвлет"
   ]
  },
  {
   "cell_type": "code",
   "execution_count": 558,
   "metadata": {},
   "outputs": [],
   "source": [
    "x_cnn_df = waveletcAD\n",
    "y_df=block"
   ]
  },
  {
   "cell_type": "code",
   "execution_count": 559,
   "metadata": {},
   "outputs": [],
   "source": [
    "x_cnn_train, x_cnn_valid, y_cnn_train, y_cnn_valid = train_test_split(x_cnn_df,y_df, test_size=0.3, random_state=17)"
   ]
  },
  {
   "cell_type": "code",
   "execution_count": 560,
   "metadata": {},
   "outputs": [],
   "source": [
    "model2 = tf.keras.Sequential([    \n",
    "    tf.keras.layers.Conv1D(128, kernel_size = 1, activation=\"relu\"),\n",
    "    tf.keras.layers.MaxPooling1D(pool_size=1,padding='same'),\n",
    "    tf.keras.layers.Conv1D(128, kernel_size = 1, activation=\"relu\"),\n",
    "    tf.keras.layers.MaxPooling1D(pool_size=1,padding='same'),\n",
    "    tf.keras.layers.Dense(2, activation=tf.nn.softmax),   \n",
    "    tf.keras.layers.Flatten(input_shape=())\n",
    "    ])"
   ]
  },
  {
   "cell_type": "code",
   "execution_count": 561,
   "metadata": {},
   "outputs": [],
   "source": [
    "model2.compile(optimizer = tf.keras.optimizers.Adam(),\n",
    "              loss = 'sparse_categorical_crossentropy',\n",
    "              metrics=['accuracy'])"
   ]
  },
  {
   "cell_type": "code",
   "execution_count": 562,
   "metadata": {},
   "outputs": [
    {
     "name": "stdout",
     "output_type": "stream",
     "text": [
      "Epoch 1/5\n",
      "57/57 [==============================] - 5s 35ms/step - loss: 5.2875 - accuracy: 0.7062\n",
      "Epoch 2/5\n",
      "57/57 [==============================] - 1s 26ms/step - loss: 3.1215 - accuracy: 0.8490\n",
      "Epoch 3/5\n",
      "57/57 [==============================] - 2s 26ms/step - loss: 3.1184 - accuracy: 0.8495\n",
      "Epoch 4/5\n",
      "57/57 [==============================] - 1s 26ms/step - loss: 3.1184 - accuracy: 0.8495\n",
      "Epoch 5/5\n",
      "57/57 [==============================] - 1s 26ms/step - loss: 3.1184 - accuracy: 0.8495\n"
     ]
    },
    {
     "data": {
      "text/plain": [
       "<tensorflow.python.keras.callbacks.History at 0x2748a77c490>"
      ]
     },
     "execution_count": 562,
     "metadata": {},
     "output_type": "execute_result"
    }
   ],
   "source": [
    "model2.fit(x_cnn_train, y_cnn_train, epochs=5)"
   ]
  },
  {
   "cell_type": "code",
   "execution_count": 563,
   "metadata": {},
   "outputs": [
    {
     "name": "stdout",
     "output_type": "stream",
     "text": [
      "25/25 [==============================] - 0s 6ms/step - loss: 3.1903 - accuracy: 0.8438\n",
      "Test accuracy: 0.8437899947166443\n",
      "Test loss: 3.1903178691864014\n"
     ]
    }
   ],
   "source": [
    "test_loss, test_acc = model2.evaluate(x_cnn_valid, y_cnn_valid)\n",
    "print('Test accuracy:', test_acc)\n",
    "print('Test loss:', test_loss)"
   ]
  },
  {
   "cell_type": "markdown",
   "metadata": {},
   "source": [
    "# Дерево решений"
   ]
  },
  {
   "cell_type": "markdown",
   "metadata": {},
   "source": [
    "Обучаем модель"
   ]
  },
  {
   "cell_type": "code",
   "execution_count": 564,
   "metadata": {},
   "outputs": [
    {
     "data": {
      "text/plain": [
       "DecisionTreeClassifier(max_depth=5, random_state=17)"
      ]
     },
     "execution_count": 564,
     "metadata": {},
     "output_type": "execute_result"
    }
   ],
   "source": [
    "tree = DecisionTreeClassifier(max_depth=5, random_state=17)\n",
    "tree.fit(x_train, y_train)"
   ]
  },
  {
   "cell_type": "markdown",
   "metadata": {},
   "source": [
    "Оценка модели"
   ]
  },
  {
   "cell_type": "code",
   "execution_count": 565,
   "metadata": {},
   "outputs": [
    {
     "data": {
      "text/plain": [
       "0.8873239436619719"
      ]
     },
     "execution_count": 565,
     "metadata": {},
     "output_type": "execute_result"
    }
   ],
   "source": [
    "tree_pred = tree.predict(x_valid)\n",
    "accuracy_score(y_valid, tree_pred) "
   ]
  },
  {
   "cell_type": "markdown",
   "metadata": {},
   "source": [
    "ROC-кривая (англ. receiver operating characteristic, рабочая характеристика приёмника) — график, позволяющий оценить\n",
    "качество бинарной классификации, отображает соотношение между долей объектов от общего количества носителей признака,\n",
    "верно классифицированных как несущие признак (англ. true positive rate, TPR, называемой чувствительностью алгоритма\n",
    "классификации), и долей объектов от общего количества объектов, не несущих признака, ошибочно классифицированных\n",
    "как несущие признак (англ. false positive rate, FPR, величина 1-FPR называется специфичностью алгоритма классификации) \n",
    "при варьировании порога решающего правила.\n",
    "\n",
    "Также известна как кривая ошибок. Анализ классификаций с применением ROC-кривых называется ROC-анализом.\n",
    "\n",
    "Количественная интерпретация ROC даёт показатель AUC (англ. Area Under Curve, площадь под кривой) — площадь, ограниченная\n",
    "ROC-кривой и осью доли ложных положительных классификаций. Чем выше показатель AUC, тем качественнее классификатор, \n",
    "при этом значение 0,5 демонстрирует непригодность выбранного метода классификации (соответствует случайному гаданию).\n",
    "Значение менее 0,5 говорит, что классификатор действует с точностью до наоборот: если положительные назвать отрицательными\n",
    "и наоборот, классификатор будет работать лучше."
   ]
  },
  {
   "cell_type": "code",
   "execution_count": 566,
   "metadata": {},
   "outputs": [
    {
     "data": {
      "image/png": "[encoded data removed]",
      "text/plain": [
       "<Figure size 432x288 with 1 Axes>"
      ]
     },
     "metadata": {
      "needs_background": "light"
     },
     "output_type": "display_data"
    }
   ],
   "source": [
    "fpr, tpr, thresholds = roc_curve(y_valid, tree.predict_proba(x_valid)[:,1], pos_label=1)\n",
    "\n",
    "def plot_roc_curve(fpr, tpr, label=None):\n",
    "    plt.plot(fpr, tpr, linewidth=2, label=label)\n",
    "    plt.plot([0, 1], [0, 1], 'k--') # dashed diagonal\n",
    "    plt.xlabel('False Positive Rate, FPR (1 - specificity)')\n",
    "    plt.ylabel('True Positive Rate, TPR (Recall)')\n",
    "    plt.title('ROC curve')\n",
    "    plt.savefig(\"ROC.png\")\n",
    "plot_roc_curve(fpr, tpr)\n",
    "plt.show()"
   ]
  },
  {
   "cell_type": "markdown",
   "metadata": {},
   "source": [
    "Precision можно интерпретировать как долю объектов, названных классификатором положительными и при этом действительно \n",
    "являющимися положительными, а recall показывает, какую долю объектов положительного класса из всех объектов положительного\n",
    "класса нашел алгоритм. Precision и recall не зависят, в отличие от accuracy, от соотношения классов и потому применимы \n",
    "в условиях несбалансированных выборок.\n",
    "\n",
    "F-мера достигает максимума при максимальной полноте и точности, и близка к нулю, если один из аргументов близок к нулю. \n",
    "F-мера является хорошим кандидатом на формальную метрику оценки качества классификатора. \n",
    "Она сводит к одному числу две других основополагающих метрики: точность и полноту. \n",
    "Имея \"F-меру\" гораздо проще ответить на вопрос: \"поменялся алгоритм в лучшую сторону или нет?\""
   ]
  },
  {
   "cell_type": "code",
   "execution_count": 567,
   "metadata": {},
   "outputs": [
    {
     "name": "stdout",
     "output_type": "stream",
     "text": [
      "              precision    recall  f1-score   support\n",
      "\n",
      "           0       0.91      0.96      0.94       660\n",
      "           1       0.70      0.47      0.56       121\n",
      "\n",
      "    accuracy                           0.89       781\n",
      "   macro avg       0.81      0.72      0.75       781\n",
      "weighted avg       0.88      0.89      0.88       781\n",
      "\n"
     ]
    }
   ],
   "source": [
    "report = classification_report(y_valid, tree.predict(x_valid), target_names=['0', '1'])\n",
    "print(report)"
   ]
  },
  {
   "cell_type": "markdown",
   "metadata": {},
   "source": [
    "# Настроим параметры модели"
   ]
  },
  {
   "cell_type": "code",
   "execution_count": 99,
   "metadata": {},
   "outputs": [],
   "source": [
    "tree_params = {'max_depth': range(1,11),'max_features': range(1,19)}"
   ]
  },
  {
   "cell_type": "code",
   "execution_count": 100,
   "metadata": {},
   "outputs": [],
   "source": [
    "tree_grid = GridSearchCV(tree, tree_params, cv=5, n_jobs=-1, verbose=True)"
   ]
  },
  {
   "cell_type": "code",
   "execution_count": 101,
   "metadata": {},
   "outputs": [
    {
     "name": "stdout",
     "output_type": "stream",
     "text": [
      "Fitting 5 folds for each of 180 candidates, totalling 900 fits\n"
     ]
    },
    {
     "name": "stderr",
     "output_type": "stream",
     "text": [
      "[Parallel(n_jobs=-1)]: Using backend LokyBackend with 8 concurrent workers.\n",
      "[Parallel(n_jobs=-1)]: Done  34 tasks      | elapsed:    3.7s\n",
      "[Parallel(n_jobs=-1)]: Done 864 tasks      | elapsed:    8.4s\n",
      "[Parallel(n_jobs=-1)]: Done 900 out of 900 | elapsed:    8.8s finished\n"
     ]
    },
    {
     "data": {
      "text/plain": [
       "GridSearchCV(cv=5,\n",
       "             estimator=DecisionTreeClassifier(max_depth=5, random_state=17),\n",
       "             n_jobs=-1,\n",
       "             param_grid={'max_depth': range(1, 11),\n",
       "                         'max_features': range(1, 19)},\n",
       "             verbose=True)"
      ]
     },
     "execution_count": 101,
     "metadata": {},
     "output_type": "execute_result"
    }
   ],
   "source": [
    "tree_grid.fit(x_train, y_train)"
   ]
  },
  {
   "cell_type": "code",
   "execution_count": 102,
   "metadata": {},
   "outputs": [
    {
     "data": {
      "text/plain": [
       "(0.8500842992623815, {'max_depth': 2, 'max_features': 11})"
      ]
     },
     "execution_count": 102,
     "metadata": {},
     "output_type": "execute_result"
    }
   ],
   "source": [
    "tree_grid.best_score_,tree_grid.best_params_"
   ]
  },
  {
   "cell_type": "code",
   "execution_count": 103,
   "metadata": {},
   "outputs": [
    {
     "data": {
      "text/plain": [
       "0.8220230473751601"
      ]
     },
     "execution_count": 103,
     "metadata": {},
     "output_type": "execute_result"
    }
   ],
   "source": [
    "accuracy_score(y_valid, tree_grid.predict(x_valid))"
   ]
  },
  {
   "cell_type": "code",
   "execution_count": 104,
   "metadata": {},
   "outputs": [
    {
     "data": {
      "image/png": "[encoded data removed]",
      "text/plain": [
       "<Figure size 432x288 with 1 Axes>"
      ]
     },
     "metadata": {
      "needs_background": "light"
     },
     "output_type": "display_data"
    }
   ],
   "source": [
    "fpr, tpr, thresholds = roc_curve(y_valid, tree_grid.predict_proba(x_valid)[:,1], pos_label=1)\n",
    "\n",
    "def plot_roc_curve(fpr, tpr, label=None):\n",
    "    plt.plot(fpr, tpr, linewidth=2, label=label)\n",
    "    plt.plot([0, 1], [0, 1], 'k--') # dashed diagonal\n",
    "    plt.xlabel('False Positive Rate, FPR (1 - specificity)')\n",
    "    plt.ylabel('True Positive Rate, TPR (Recall)')\n",
    "    plt.title('ROC curve')\n",
    "    plt.savefig(\"ROC.png\")\n",
    "plot_roc_curve(fpr, tpr)\n",
    "plt.show()"
   ]
  },
  {
   "cell_type": "code",
   "execution_count": 105,
   "metadata": {},
   "outputs": [
    {
     "name": "stdout",
     "output_type": "stream",
     "text": [
      "              precision    recall  f1-score   support\n",
      "\n",
      "           0       0.85      0.96      0.90       660\n",
      "           1       0.24      0.07      0.10       121\n",
      "\n",
      "    accuracy                           0.82       781\n",
      "   macro avg       0.54      0.51      0.50       781\n",
      "weighted avg       0.75      0.82      0.78       781\n",
      "\n"
     ]
    }
   ],
   "source": [
    "report = classification_report(y_valid, tree_grid.predict(x_valid), target_names=['0', '1'])\n",
    "print(report)"
   ]
  },
  {
   "cell_type": "markdown",
   "metadata": {},
   "source": [
    "# Метод ближайших соседей"
   ]
  },
  {
   "cell_type": "markdown",
   "metadata": {},
   "source": [
    "Обучаем модель"
   ]
  },
  {
   "cell_type": "code",
   "execution_count": 106,
   "metadata": {},
   "outputs": [
    {
     "data": {
      "text/plain": [
       "KNeighborsClassifier(n_neighbors=10)"
      ]
     },
     "execution_count": 106,
     "metadata": {},
     "output_type": "execute_result"
    }
   ],
   "source": [
    "knn = KNeighborsClassifier(n_neighbors=10)\n",
    "knn.fit(x_train, y_train)"
   ]
  },
  {
   "cell_type": "markdown",
   "metadata": {},
   "source": [
    "Оценка модели"
   ]
  },
  {
   "cell_type": "code",
   "execution_count": 107,
   "metadata": {},
   "outputs": [
    {
     "data": {
      "text/plain": [
       "0.8950064020486556"
      ]
     },
     "execution_count": 107,
     "metadata": {},
     "output_type": "execute_result"
    }
   ],
   "source": [
    "knn_pred = knn.predict(x_valid)\n",
    "accuracy_score(y_valid, knn_pred) "
   ]
  },
  {
   "cell_type": "code",
   "execution_count": 108,
   "metadata": {},
   "outputs": [
    {
     "data": {
      "image/png": "[encoded data removed]",
      "text/plain": [
       "<Figure size 432x288 with 1 Axes>"
      ]
     },
     "metadata": {
      "needs_background": "light"
     },
     "output_type": "display_data"
    }
   ],
   "source": [
    "fpr, tpr, thresholds = roc_curve(y_valid, knn.predict_proba(x_valid)[:,1], pos_label=1)\n",
    "\n",
    "def plot_roc_curve(fpr, tpr, label=None):\n",
    "    plt.plot(fpr, tpr, linewidth=2, label=label)\n",
    "    plt.plot([0, 1], [0, 1], 'k--') # dashed diagonal\n",
    "    plt.xlabel('False Positive Rate, FPR (1 - specificity)')\n",
    "    plt.ylabel('True Positive Rate, TPR (Recall)')\n",
    "    plt.title('ROC curve')\n",
    "    plt.savefig(\"ROC.png\")\n",
    "plot_roc_curve(fpr, tpr)\n",
    "plt.show()"
   ]
  },
  {
   "cell_type": "code",
   "execution_count": 109,
   "metadata": {},
   "outputs": [
    {
     "name": "stdout",
     "output_type": "stream",
     "text": [
      "              precision    recall  f1-score   support\n",
      "\n",
      "           0       0.91      0.97      0.94       660\n",
      "           1       0.75      0.48      0.59       121\n",
      "\n",
      "    accuracy                           0.90       781\n",
      "   macro avg       0.83      0.73      0.76       781\n",
      "weighted avg       0.89      0.90      0.89       781\n",
      "\n"
     ]
    }
   ],
   "source": [
    "report = classification_report(y_valid, knn.predict(x_valid), target_names=['0', '1'])\n",
    "print(report)"
   ]
  },
  {
   "cell_type": "markdown",
   "metadata": {},
   "source": [
    "Настроим параметры модели"
   ]
  },
  {
   "cell_type": "code",
   "execution_count": 110,
   "metadata": {},
   "outputs": [],
   "source": [
    "knn_pipe = Pipeline([('scaler', StandardScaler()), ('knn', KNeighborsClassifier(n_jobs=-1))])"
   ]
  },
  {
   "cell_type": "code",
   "execution_count": 111,
   "metadata": {},
   "outputs": [],
   "source": [
    "knn_params = {'knn__n_neighbors': range(1, 10)}"
   ]
  },
  {
   "cell_type": "code",
   "execution_count": 112,
   "metadata": {},
   "outputs": [],
   "source": [
    "knn_grid = GridSearchCV(knn_pipe, knn_params, cv=5, n_jobs=-1, verbose=True)"
   ]
  },
  {
   "cell_type": "code",
   "execution_count": 113,
   "metadata": {},
   "outputs": [
    {
     "name": "stdout",
     "output_type": "stream",
     "text": [
      "Fitting 5 folds for each of 9 candidates, totalling 45 fits\n"
     ]
    },
    {
     "name": "stderr",
     "output_type": "stream",
     "text": [
      "[Parallel(n_jobs=-1)]: Using backend LokyBackend with 8 concurrent workers.\n",
      "[Parallel(n_jobs=-1)]: Done  45 out of  45 | elapsed:    8.4s finished\n"
     ]
    },
    {
     "data": {
      "text/plain": [
       "GridSearchCV(cv=5,\n",
       "             estimator=Pipeline(steps=[('scaler', StandardScaler()),\n",
       "                                       ('knn',\n",
       "                                        KNeighborsClassifier(n_jobs=-1))]),\n",
       "             n_jobs=-1, param_grid={'knn__n_neighbors': range(1, 10)},\n",
       "             verbose=True)"
      ]
     },
     "execution_count": 113,
     "metadata": {},
     "output_type": "execute_result"
    }
   ],
   "source": [
    "knn_grid.fit(x_train, y_train)"
   ]
  },
  {
   "cell_type": "code",
   "execution_count": 114,
   "metadata": {},
   "outputs": [
    {
     "data": {
      "text/plain": [
       "({'knn__n_neighbors': 1}, 0.9357458979376789)"
      ]
     },
     "execution_count": 114,
     "metadata": {},
     "output_type": "execute_result"
    }
   ],
   "source": [
    "knn_grid.best_params_, knn_grid.best_score_"
   ]
  },
  {
   "cell_type": "code",
   "execution_count": 115,
   "metadata": {},
   "outputs": [
    {
     "data": {
      "text/plain": [
       "0.9603072983354674"
      ]
     },
     "execution_count": 115,
     "metadata": {},
     "output_type": "execute_result"
    }
   ],
   "source": [
    "accuracy_score(y_valid, knn_grid.predict(x_valid))"
   ]
  },
  {
   "cell_type": "code",
   "execution_count": 116,
   "metadata": {},
   "outputs": [
    {
     "data": {
      "image/png": "[encoded data removed]",
      "text/plain": [
       "<Figure size 432x288 with 1 Axes>"
      ]
     },
     "metadata": {
      "needs_background": "light"
     },
     "output_type": "display_data"
    }
   ],
   "source": [
    "fpr, tpr, thresholds = roc_curve(y_valid, knn_grid.predict_proba(x_valid)[:,1], pos_label=1)\n",
    "\n",
    "def plot_roc_curve(fpr, tpr, label=None):\n",
    "    plt.plot(fpr, tpr, linewidth=2, label=label)\n",
    "    plt.plot([0, 1], [0, 1], 'k--') # dashed diagonal\n",
    "    plt.xlabel('False Positive Rate, FPR (1 - specificity)')\n",
    "    plt.ylabel('True Positive Rate, TPR (Recall)')\n",
    "    plt.title('ROC curve')\n",
    "    plt.savefig(\"ROC.png\")\n",
    "plot_roc_curve(fpr, tpr)\n",
    "plt.show()"
   ]
  },
  {
   "cell_type": "code",
   "execution_count": 117,
   "metadata": {},
   "outputs": [
    {
     "name": "stdout",
     "output_type": "stream",
     "text": [
      "              precision    recall  f1-score   support\n",
      "\n",
      "           0       0.98      0.97      0.98       660\n",
      "           1       0.85      0.90      0.88       121\n",
      "\n",
      "    accuracy                           0.96       781\n",
      "   macro avg       0.92      0.94      0.93       781\n",
      "weighted avg       0.96      0.96      0.96       781\n",
      "\n"
     ]
    }
   ],
   "source": [
    "report = classification_report(y_valid, knn_grid.predict(x_valid), target_names=['0', '1'])\n",
    "print(report)"
   ]
  },
  {
   "cell_type": "markdown",
   "metadata": {},
   "source": [
    "# Случайный лес"
   ]
  },
  {
   "cell_type": "code",
   "execution_count": 118,
   "metadata": {},
   "outputs": [
    {
     "name": "stdout",
     "output_type": "stream",
     "text": [
      "0.8632605750413969\n"
     ]
    }
   ],
   "source": [
    "forest = RandomForestClassifier(n_estimators=100, n_jobs=-1, random_state=17)\n",
    "print(np.mean(cross_val_score(forest, x_train, y_train, cv=5))) "
   ]
  },
  {
   "cell_type": "code",
   "execution_count": 119,
   "metadata": {},
   "outputs": [],
   "source": [
    "forest_params = {'max_depth': range(1,11), 'max_features': range(1,19)}"
   ]
  },
  {
   "cell_type": "code",
   "execution_count": 120,
   "metadata": {},
   "outputs": [],
   "source": [
    "forest_grid = GridSearchCV(forest, forest_params, cv=5, n_jobs=-1, verbose=True)"
   ]
  },
  {
   "cell_type": "code",
   "execution_count": 121,
   "metadata": {},
   "outputs": [
    {
     "name": "stdout",
     "output_type": "stream",
     "text": [
      "Fitting 5 folds for each of 180 candidates, totalling 900 fits\n"
     ]
    },
    {
     "name": "stderr",
     "output_type": "stream",
     "text": [
      "[Parallel(n_jobs=-1)]: Using backend LokyBackend with 8 concurrent workers.\n",
      "[Parallel(n_jobs=-1)]: Done  34 tasks      | elapsed:    3.4s\n",
      "[Parallel(n_jobs=-1)]: Done 184 tasks      | elapsed:   23.6s\n",
      "[Parallel(n_jobs=-1)]: Done 434 tasks      | elapsed:  1.2min\n",
      "[Parallel(n_jobs=-1)]: Done 784 tasks      | elapsed:  2.9min\n",
      "[Parallel(n_jobs=-1)]: Done 900 out of 900 | elapsed:  3.6min finished\n"
     ]
    },
    {
     "data": {
      "text/plain": [
       "GridSearchCV(cv=5, estimator=RandomForestClassifier(n_jobs=-1, random_state=17),\n",
       "             n_jobs=-1,\n",
       "             param_grid={'max_depth': range(1, 11),\n",
       "                         'max_features': range(1, 19)},\n",
       "             verbose=True)"
      ]
     },
     "execution_count": 121,
     "metadata": {},
     "output_type": "execute_result"
    }
   ],
   "source": [
    "forest_grid.fit(x_train, y_train)"
   ]
  },
  {
   "cell_type": "code",
   "execution_count": 122,
   "metadata": {},
   "outputs": [
    {
     "data": {
      "text/plain": [
       "({'max_depth': 10, 'max_features': 12}, 0.8577690802348338)"
      ]
     },
     "execution_count": 122,
     "metadata": {},
     "output_type": "execute_result"
    }
   ],
   "source": [
    "forest_grid.best_params_, forest_grid.best_score_ "
   ]
  },
  {
   "cell_type": "code",
   "execution_count": 123,
   "metadata": {},
   "outputs": [
    {
     "data": {
      "text/plain": [
       "0.8501920614596671"
      ]
     },
     "execution_count": 123,
     "metadata": {},
     "output_type": "execute_result"
    }
   ],
   "source": [
    "accuracy_score(y_valid, forest_grid.predict(x_valid))"
   ]
  },
  {
   "cell_type": "code",
   "execution_count": 124,
   "metadata": {},
   "outputs": [
    {
     "data": {
      "image/png": "[encoded data removed]",
      "text/plain": [
       "<Figure size 432x288 with 1 Axes>"
      ]
     },
     "metadata": {
      "needs_background": "light"
     },
     "output_type": "display_data"
    }
   ],
   "source": [
    "fpr, tpr, thresholds = roc_curve(y_valid, forest_grid.predict_proba(x_valid)[:,1], pos_label=1)\n",
    "\n",
    "def plot_roc_curve(fpr, tpr, label=None):\n",
    "    plt.plot(fpr, tpr, linewidth=2, label=label)\n",
    "    plt.plot([0, 1], [0, 1], 'k--') # dashed diagonal\n",
    "    plt.xlabel('False Positive Rate, FPR (1 - specificity)')\n",
    "    plt.ylabel('True Positive Rate, TPR (Recall)')\n",
    "    plt.title('ROC curve')\n",
    "    plt.savefig(\"ROC.png\")\n",
    "plot_roc_curve(fpr, tpr)\n",
    "plt.show()"
   ]
  },
  {
   "cell_type": "code",
   "execution_count": 125,
   "metadata": {},
   "outputs": [
    {
     "name": "stdout",
     "output_type": "stream",
     "text": [
      "              precision    recall  f1-score   support\n",
      "\n",
      "           0       0.85      1.00      0.92       660\n",
      "           1       1.00      0.03      0.06       121\n",
      "\n",
      "    accuracy                           0.85       781\n",
      "   macro avg       0.92      0.52      0.49       781\n",
      "weighted avg       0.87      0.85      0.79       781\n",
      "\n"
     ]
    }
   ],
   "source": [
    "report = classification_report(y_valid, forest_grid.predict(x_valid), target_names=['0', '1'])\n",
    "print(report)"
   ]
  },
  {
   "cell_type": "markdown",
   "metadata": {},
   "source": [
    "# Логистическая регрессия "
   ]
  },
  {
   "cell_type": "code",
   "execution_count": 126,
   "metadata": {},
   "outputs": [],
   "source": [
    "model = LogisticRegression(solver='liblinear', random_state=0)"
   ]
  },
  {
   "cell_type": "code",
   "execution_count": 127,
   "metadata": {},
   "outputs": [
    {
     "data": {
      "text/plain": [
       "LogisticRegression(random_state=0, solver='liblinear')"
      ]
     },
     "execution_count": 127,
     "metadata": {},
     "output_type": "execute_result"
    }
   ],
   "source": [
    "model.fit(x_train, y_train)"
   ]
  },
  {
   "cell_type": "code",
   "execution_count": 128,
   "metadata": {},
   "outputs": [],
   "source": [
    "#LogisticRegression(\n",
    "#    C=1.0, \n",
    "#    class_weight=None, \n",
    "#    dual=False, \n",
    "#    fit_intercept=True,\n",
    "#    intercept_scaling=1, \n",
    "#    l1_ratio=None, \n",
    "#    max_iter=100,\n",
    "#    multi_class='warn', \n",
    "#    n_jobs=None, \n",
    "#    penalty='l2',\n",
    "#    random_state=0, \n",
    "#    solver='liblinear', \n",
    "#    tol=0.0001, \n",
    "#    verbose=0,\n",
    "#    warm_start=False\n",
    "#)"
   ]
  },
  {
   "cell_type": "code",
   "execution_count": 129,
   "metadata": {},
   "outputs": [],
   "source": [
    "model = LogisticRegression(solver='liblinear', random_state=0).fit(x_train, y_train)"
   ]
  },
  {
   "cell_type": "code",
   "execution_count": 130,
   "metadata": {},
   "outputs": [
    {
     "data": {
      "text/plain": [
       "array([0, 1])"
      ]
     },
     "execution_count": 130,
     "metadata": {},
     "output_type": "execute_result"
    }
   ],
   "source": [
    "#Это пример двоичной классификации, и y может быть 0 или 1\n",
    "model.classes_"
   ]
  },
  {
   "cell_type": "code",
   "execution_count": 131,
   "metadata": {},
   "outputs": [
    {
     "data": {
      "text/plain": [
       "array([[ 1.01128228e+00, -1.30327918e+00,  7.53231856e-01,\n",
       "        -2.01742725e-01,  4.63130175e-01, -3.66791725e-01,\n",
       "        -2.78358933e-01,  3.95640827e-02,  1.33555903e-01,\n",
       "        -1.39424809e-01,  4.38649029e-02,  2.35156891e-01,\n",
       "        -3.53777928e-02,  7.90398822e-02,  3.16612407e-01,\n",
       "        -2.33345506e-01,  2.63112408e-01, -7.67046324e-02,\n",
       "         2.28348614e-01, -2.75146363e-01, -2.04666472e-02,\n",
       "        -4.00894508e-02,  2.32561687e-01, -3.26981311e-01,\n",
       "         3.05152986e-01, -6.89445333e-01,  9.55727753e-02,\n",
       "        -2.41097380e-01,  4.30528931e-01, -1.15161865e+00,\n",
       "         7.49153882e-01,  4.80199544e-01, -7.94599000e-01,\n",
       "         4.84626832e-02, -1.75244138e-01, -1.90976659e-01,\n",
       "        -5.90677145e-02,  4.20440203e-01, -6.35092322e-02,\n",
       "         7.32190397e-02, -9.32715397e-02,  4.64303984e-02,\n",
       "        -8.96735474e-02,  6.51613783e-02, -1.89059239e-01,\n",
       "        -2.29524129e-01,  3.19122369e-01, -1.51823536e-01,\n",
       "         3.57782140e-01,  6.00392126e-02,  1.30341250e-01,\n",
       "         3.32842642e-02,  2.42168124e-01, -3.89447359e-02,\n",
       "        -1.43460644e-02, -1.40805983e-01,  3.43912323e-01,\n",
       "        -9.34332079e-02, -3.28411958e-02, -1.47253459e-02,\n",
       "        -2.43797477e-01, -4.91541481e-03,  7.44534486e-02,\n",
       "         1.42741297e-01,  5.63346159e-02,  2.41192852e-01,\n",
       "        -8.28562246e-02,  2.03848501e-01, -2.24039710e-01,\n",
       "        -6.11959550e-02,  2.82781635e-01, -4.10315766e-01,\n",
       "         5.88938681e-03,  1.55960093e-02, -2.86536021e-02,\n",
       "        -4.35620304e-03,  1.38073974e-01, -4.84163201e-01,\n",
       "         3.77183324e-01, -5.11558602e-01,  3.21947970e-01,\n",
       "        -2.17264657e-01,  2.48165667e-01, -1.75308012e-01,\n",
       "        -3.49995886e-02,  7.74762049e-02,  1.93305526e-01,\n",
       "        -5.25126863e-01,  2.15149128e-01,  1.62674155e-01,\n",
       "        -2.12816462e-01,  3.07199843e-02,  1.85123438e-01,\n",
       "         1.68971932e-01, -4.53225641e-01,  3.01558818e-01,\n",
       "        -2.71137281e-01,  4.61451487e-01,  2.23090868e-02,\n",
       "         2.03242224e-01, -7.70045908e-02, -1.62015835e-02,\n",
       "        -3.54813024e-02,  1.13151532e-02, -3.06590583e-02,\n",
       "         1.09832543e-01, -5.32760855e-02, -2.04623527e-01,\n",
       "         2.54186886e-01, -3.89123859e-01, -3.59352119e-02,\n",
       "         1.77696672e-01, -6.61491859e-01,  3.00696816e-01,\n",
       "        -1.95809436e-02,  1.41900510e-02, -2.24950671e-01,\n",
       "        -4.48501185e-02,  3.36604757e-01, -2.80463744e-01,\n",
       "         3.20543669e-01, -1.62314726e-01,  5.09572685e-01,\n",
       "        -2.31850050e-01,  1.23489012e-01,  4.49610570e-01,\n",
       "        -1.64961572e-01,  3.94391770e-01, -8.40805066e-02,\n",
       "         1.08659860e-01, -4.58103526e-01,  2.34112815e-01,\n",
       "         1.15781040e-01, -1.26705697e-01,  2.89062702e-01,\n",
       "         2.00047162e-01,  2.85857409e-01, -2.29241334e-01,\n",
       "         3.11830752e-01, -1.60467511e-01,  4.05346499e-02,\n",
       "         2.22257128e-01,  4.79106282e-02,  2.47550646e-01,\n",
       "        -1.72174377e-01, -2.82291404e-02, -2.51437057e-01,\n",
       "         2.09285950e-02, -1.64659901e-01, -2.12180405e-01,\n",
       "        -1.02010734e-01, -3.85836107e-01, -9.86908106e-02,\n",
       "        -4.68766297e-01,  1.55135253e-02,  3.89706876e-02,\n",
       "        -4.55587085e-01,  8.05912385e-02, -2.77113507e-01,\n",
       "        -5.10354249e-02, -3.03778212e-01,  2.94133820e-01,\n",
       "        -6.90015153e-02, -2.52450294e-01,  2.11386552e-02,\n",
       "         1.84287002e-01, -2.71728624e-01,  1.71997680e-01,\n",
       "        -2.36098764e-01, -2.53954047e-02,  3.42883015e-01,\n",
       "        -8.70471413e-02,  2.92353007e-01,  1.77173351e-01,\n",
       "        -3.89596393e-01, -9.14164525e-02,  9.05386882e-02,\n",
       "         6.34939965e-02, -2.46102596e-01,  3.09992710e-01,\n",
       "         1.79353296e-01, -8.05731010e-02,  2.09372774e-01,\n",
       "         1.37608291e-01,  9.50785283e-02,  1.47959629e-01,\n",
       "         1.35096294e-01, -1.73925675e-02,  1.59129212e-01,\n",
       "         1.89202743e-02,  9.47404008e-02, -4.13393057e-01,\n",
       "         1.00462494e-02, -3.41112850e-01,  1.20109175e-01,\n",
       "        -1.13729738e-01, -2.09540479e-02, -1.33036354e-01,\n",
       "         1.80247274e-01, -9.09274711e-02, -4.91255245e-02,\n",
       "        -2.00932291e-02,  9.13612865e-02,  8.70982310e-02,\n",
       "         5.22861173e-02,  4.56212926e-01, -1.84997413e-01,\n",
       "         1.08148640e-01, -1.24604331e-01,  8.42068092e-02,\n",
       "        -1.62462422e-01,  1.01471173e-01, -7.50393997e-02,\n",
       "        -6.12179997e-03,  2.11713454e-01, -3.66722400e-01,\n",
       "         2.08925049e-01,  2.75729413e-02, -4.77058235e-01,\n",
       "        -1.36975291e-01, -4.10508705e-01,  9.16370389e-02,\n",
       "         1.08478278e-01, -2.61562243e-02,  1.81132721e-01,\n",
       "        -2.76223941e-01, -1.10836032e-02,  3.38503227e-01,\n",
       "        -3.25980765e-01,  8.68196835e-02,  1.07074940e-01,\n",
       "        -1.44930165e-02,  2.64113759e-01,  4.52328309e-02,\n",
       "        -1.83488716e-01,  1.32843405e-01, -2.08183016e-01,\n",
       "         2.41609020e-01, -1.79691346e-01,  4.93659798e-02,\n",
       "         1.82433189e-01,  4.28605795e-02,  1.80562666e-01,\n",
       "        -8.43825899e-02,  4.15843278e-02, -1.06926255e-01,\n",
       "         1.78126417e-01,  1.41203619e-01,  1.12445921e-01,\n",
       "         4.52390000e-02, -1.22266696e-01,  5.89974820e-01,\n",
       "        -6.72621764e-01,  1.79430845e-01, -1.23639634e-01,\n",
       "        -6.80258073e-02,  5.02093931e-01, -2.06609878e-01,\n",
       "         1.12495218e-01, -2.39080535e-02,  1.30009884e-01,\n",
       "        -9.98207378e-02, -1.39160001e-01, -3.53087580e-02,\n",
       "        -9.21745386e-02,  2.37472798e-01,  1.31961609e-01,\n",
       "        -2.49605510e-01, -1.23313258e-01,  9.07465952e-02,\n",
       "        -1.12355976e-01,  6.94783118e-02, -1.68436415e-01,\n",
       "        -8.85761514e-02,  5.95132161e-02,  4.13596781e-02,\n",
       "        -4.02212797e-02, -1.00756616e-01,  1.64581741e-01,\n",
       "         2.52137174e-01, -3.09540342e-01,  3.35303304e-01,\n",
       "        -4.46483623e-01,  4.37711190e-01, -2.55684219e-01,\n",
       "         2.05666889e-01, -1.17302312e-02, -1.06287324e-01,\n",
       "        -1.95426507e-02, -1.82880955e-01,  1.90365622e-02,\n",
       "         2.27456780e-02, -6.42964307e-02, -7.48752158e-02,\n",
       "         7.01955882e-02, -8.76990445e-02, -8.12046808e-02,\n",
       "        -1.57563004e-01,  9.76521825e-02,  6.50400243e-02,\n",
       "        -1.62215989e-01,  1.45163642e-01, -3.58161075e-02,\n",
       "        -9.63760344e-02,  5.72050074e-02, -7.60768818e-02,\n",
       "         2.19867512e-01,  4.08732788e-02,  9.77560042e-03,\n",
       "         1.89897685e-01,  1.93896698e-01,  2.92858804e-02,\n",
       "        -3.75078035e-01,  3.76948299e-01, -1.41582706e-01,\n",
       "        -5.24343982e-02, -3.27631650e-02, -2.58181061e-01,\n",
       "         2.09260196e-01, -3.25131288e-01,  1.99871674e-01,\n",
       "         8.74232870e-03, -2.86155128e-02,  2.37634960e-01,\n",
       "        -1.61417196e-01, -1.33263818e-01,  1.48890463e-01,\n",
       "        -1.16235853e-01,  2.04500563e-01, -1.08626411e-02,\n",
       "        -2.51617619e-01,  2.53278386e-01,  3.07311862e-02,\n",
       "        -1.62548962e-01,  5.08397156e-02,  1.03761385e-03,\n",
       "        -9.21577842e-02,  3.13289680e-01, -1.31109659e-01,\n",
       "         2.11972611e-01, -1.97177584e-01, -4.69654757e-02,\n",
       "        -1.83965193e-02,  5.78989429e-02, -2.31378268e-01,\n",
       "         7.93316818e-02, -7.71670846e-02,  4.57790242e-01,\n",
       "        -7.03146254e-02,  7.28344812e-02,  1.50261896e-01,\n",
       "        -1.60661322e-01,  2.25086349e-01,  1.30015947e-01,\n",
       "        -1.63907578e-01,  3.04993735e-01,  1.47624294e-02,\n",
       "         2.31286939e-01, -1.37673130e-01,  7.14981172e-02,\n",
       "        -2.19972113e-01,  2.81172260e-01, -2.70721045e-01,\n",
       "        -9.08803151e-02,  2.48336384e-01,  1.31750688e-03,\n",
       "        -2.84780085e-01,  1.57999538e-01, -4.72364439e-01,\n",
       "         9.12094171e-02, -5.04603001e-01,  1.73993696e-01,\n",
       "        -3.06374433e-01,  5.19009537e-01, -1.83415350e-01,\n",
       "         3.80089222e-01,  2.25098493e-01, -6.21033051e-02,\n",
       "        -7.38019866e-02,  4.79589310e-01, -2.99190554e-01,\n",
       "         6.50292185e-02,  3.81373910e-02, -5.15639158e-01,\n",
       "         3.30102176e-02, -6.33892331e-02, -1.96137368e-01,\n",
       "         3.41792822e-03,  1.93871019e-01, -1.58233501e-01,\n",
       "         1.90795545e-01,  1.81807799e-02, -2.42908795e-01,\n",
       "         1.18591006e-01,  2.21537812e-01, -4.09617149e-01,\n",
       "        -2.33518499e-01,  2.21951630e-01, -3.51157205e-01,\n",
       "         5.84687750e-01, -3.83707972e-01,  3.49554027e-01,\n",
       "        -1.63360809e-01,  3.04046446e-01, -4.65505566e-01,\n",
       "         8.65960914e-02, -4.45464890e-02, -2.31105565e-01,\n",
       "         1.10243766e-01, -1.35019816e-01,  2.68195098e-02,\n",
       "        -2.04787420e-01,  4.18443530e-01, -2.83536251e-01,\n",
       "         1.63702517e-01,  1.76388089e-01, -2.93052230e-01,\n",
       "         2.14227222e-01,  3.38437977e-04, -1.05703711e-01,\n",
       "         1.09077318e-01,  5.65448970e-02, -2.03884801e-01,\n",
       "         1.34506954e-01, -6.06299077e-02,  9.64257182e-02,\n",
       "        -2.91296950e-02,  1.59430940e-01, -4.33828036e-01,\n",
       "         4.49448395e-01, -2.49180701e-01,  1.54221795e-01,\n",
       "        -1.70780837e-02,  9.65265907e-02, -4.93496501e-02,\n",
       "         2.15214571e-01,  1.45859644e-01, -3.34539804e-02,\n",
       "         1.84441037e-01, -1.46080682e-01,  1.23926997e-01,\n",
       "        -1.14641941e-01,  1.17534457e-01, -2.99754491e-01,\n",
       "         1.00721511e-01, -2.17583851e-01,  2.42886433e-02,\n",
       "        -7.35658644e-02,  4.87095814e-02, -2.37500060e-02,\n",
       "        -1.87045970e-01, -4.42272350e-02, -1.37428676e-01,\n",
       "        -2.32343635e-02, -3.93263997e-02,  1.26635770e-01,\n",
       "         1.24145950e-01,  6.05837253e-02, -3.63570524e-02,\n",
       "         3.70244934e-01, -2.86770771e-01,  1.63699092e-01,\n",
       "         4.22572109e-02, -3.35988971e-01,  2.00296063e-01]])"
      ]
     },
     "execution_count": 131,
     "metadata": {},
     "output_type": "execute_result"
    }
   ],
   "source": [
    "#Можно получить значение наклона b1 и точку пересечения b0 линейной функции f следующим образом\n",
    "#b0 задается внутри одномерного массива, а b1 — внутри двумерного массива\n",
    "model.intercept_\n",
    "model.coef_"
   ]
  },
  {
   "cell_type": "code",
   "execution_count": 132,
   "metadata": {},
   "outputs": [
    {
     "data": {
      "text/plain": [
       "array([[0.98735049, 0.01264951],\n",
       "       [0.89243544, 0.10756456],\n",
       "       [0.93216558, 0.06783442],\n",
       "       ...,\n",
       "       [0.57490081, 0.42509919],\n",
       "       [0.96876729, 0.03123271],\n",
       "       [0.04516939, 0.95483061]])"
      ]
     },
     "execution_count": 132,
     "metadata": {},
     "output_type": "execute_result"
    }
   ],
   "source": [
    "#Первый столбец — это вероятность того, что прогнозируемый результат будет равен нулю, то есть 1−p(x).\n",
    "#Второй столбец — это вероятность того, что на выходе будет единица или p(x).\n",
    "model.predict_proba(x_valid)"
   ]
  },
  {
   "cell_type": "code",
   "execution_count": 133,
   "metadata": {},
   "outputs": [
    {
     "data": {
      "text/plain": [
       "array([0, 0, 0, 0, 0, 0, 0, 0, 0, 0, 0, 0, 0, 0, 0, 0, 0, 0, 0, 0, 0, 0,\n",
       "       1, 1, 0, 0, 0, 0, 0, 0, 0, 0, 0, 1, 0, 0, 0, 0, 0, 0, 0, 0, 0, 0,\n",
       "       0, 0, 0, 0, 0, 0, 0, 0, 0, 0, 0, 1, 0, 1, 0, 0, 0, 0, 0, 0, 0, 0,\n",
       "       0, 0, 0, 1, 0, 0, 0, 0, 0, 1, 0, 0, 1, 0, 0, 0, 1, 0, 0, 1, 0, 0,\n",
       "       0, 0, 0, 1, 0, 0, 1, 1, 0, 0, 0, 0, 0, 0, 0, 1, 0, 0, 0, 0, 0, 0,\n",
       "       0, 0, 0, 0, 0, 0, 0, 0, 0, 0, 1, 0, 0, 0, 0, 0, 0, 0, 0, 0, 0, 0,\n",
       "       0, 0, 0, 0, 0, 1, 0, 0, 0, 0, 0, 1, 0, 0, 0, 0, 0, 0, 0, 1, 0, 0,\n",
       "       0, 0, 0, 0, 0, 0, 0, 0, 0, 1, 0, 1, 0, 0, 0, 0, 1, 0, 0, 0, 0, 1,\n",
       "       0, 1, 0, 0, 0, 0, 0, 0, 1, 0, 0, 0, 1, 0, 1, 1, 0, 0, 0, 0, 0, 0,\n",
       "       1, 0, 1, 0, 0, 0, 0, 0, 0, 0, 0, 0, 0, 0, 1, 0, 0, 0, 0, 0, 0, 0,\n",
       "       1, 0, 0, 0, 0, 1, 0, 0, 0, 0, 1, 0, 1, 0, 0, 0, 0, 0, 0, 1, 0, 0,\n",
       "       0, 0, 0, 0, 0, 0, 0, 0, 0, 0, 1, 0, 0, 0, 0, 0, 1, 0, 0, 1, 0, 0,\n",
       "       0, 1, 0, 1, 0, 0, 0, 0, 0, 0, 0, 1, 0, 1, 1, 0, 0, 1, 0, 0, 0, 0,\n",
       "       0, 0, 0, 0, 0, 0, 0, 0, 0, 0, 0, 0, 0, 0, 0, 0, 0, 0, 0, 0, 0, 0,\n",
       "       0, 0, 0, 0, 0, 0, 0, 0, 0, 0, 0, 0, 0, 0, 0, 0, 0, 0, 0, 0, 0, 1,\n",
       "       0, 0, 0, 1, 0, 0, 0, 0, 0, 1, 0, 0, 0, 0, 0, 0, 0, 0, 0, 0, 0, 0,\n",
       "       0, 1, 0, 0, 0, 0, 0, 0, 0, 0, 0, 0, 1, 0, 0, 0, 0, 0, 0, 0, 0, 0,\n",
       "       0, 0, 0, 1, 1, 0, 0, 0, 0, 0, 0, 0, 0, 0, 0, 0, 0, 1, 0, 0, 0, 1,\n",
       "       0, 0, 0, 0, 0, 1, 0, 0, 1, 0, 0, 0, 0, 0, 0, 1, 0, 0, 0, 0, 0, 0,\n",
       "       0, 0, 0, 0, 0, 0, 0, 0, 0, 0, 0, 0, 0, 0, 0, 0, 1, 0, 0, 0, 0, 0,\n",
       "       0, 0, 0, 0, 0, 0, 1, 1, 1, 0, 0, 0, 0, 0, 0, 0, 0, 0, 0, 1, 0, 0,\n",
       "       0, 0, 0, 0, 0, 0, 0, 0, 0, 0, 0, 0, 0, 0, 0, 1, 0, 0, 0, 0, 0, 0,\n",
       "       1, 0, 0, 0, 0, 0, 0, 1, 0, 0, 0, 0, 1, 0, 1, 0, 0, 0, 0, 0, 0, 0,\n",
       "       0, 0, 0, 1, 0, 0, 0, 0, 0, 0, 0, 0, 0, 0, 0, 1, 1, 0, 0, 0, 0, 0,\n",
       "       0, 0, 0, 1, 0, 0, 1, 0, 0, 0, 0, 0, 0, 0, 0, 0, 0, 0, 0, 0, 0, 0,\n",
       "       0, 0, 0, 0, 0, 0, 0, 0, 0, 1, 0, 0, 1, 0, 0, 0, 0, 0, 0, 0, 0, 0,\n",
       "       0, 0, 0, 0, 0, 0, 0, 0, 0, 0, 0, 0, 0, 0, 0, 0, 0, 0, 0, 0, 0, 0,\n",
       "       1, 0, 0, 0, 0, 0, 0, 0, 0, 0, 0, 0, 0, 0, 1, 0, 0, 0, 1, 0, 0, 0,\n",
       "       0, 0, 0, 0, 0, 0, 1, 0, 0, 0, 0, 0, 0, 1, 0, 0, 0, 0, 1, 1, 1, 0,\n",
       "       0, 1, 0, 0, 0, 1, 0, 0, 0, 1, 0, 0, 0, 0, 1, 0, 0, 1, 0, 0, 0, 1,\n",
       "       0, 0, 1, 0, 0, 0, 0, 0, 0, 0, 0, 0, 0, 0, 0, 0, 0, 0, 0, 0, 0, 0,\n",
       "       0, 0, 0, 0, 0, 0, 0, 0, 0, 1, 1, 0, 0, 0, 0, 0, 0, 0, 0, 1, 0, 0,\n",
       "       0, 0, 0, 0, 0, 0, 0, 0, 0, 0, 0, 0, 0, 0, 0, 0, 1, 0, 0, 0, 0, 0,\n",
       "       0, 1, 0, 0, 0, 0, 0, 0, 0, 0, 0, 0, 0, 0, 0, 1, 0, 0, 0, 0, 1, 0,\n",
       "       0, 0, 0, 0, 1, 1, 0, 0, 0, 0, 0, 0, 0, 0, 0, 0, 0, 0, 0, 1, 0, 0,\n",
       "       0, 0, 1, 0, 0, 0, 0, 0, 0, 0, 1])"
      ]
     },
     "execution_count": 133,
     "metadata": {},
     "output_type": "execute_result"
    }
   ],
   "source": [
    "#Фактические прогнозы\n",
    "model.predict(x_valid)"
   ]
  },
  {
   "cell_type": "code",
   "execution_count": 134,
   "metadata": {},
   "outputs": [
    {
     "data": {
      "text/plain": [
       "0.7503201024327785"
      ]
     },
     "execution_count": 134,
     "metadata": {},
     "output_type": "execute_result"
    }
   ],
   "source": [
    "model.score(x_valid, y_valid)"
   ]
  },
  {
   "cell_type": "code",
   "execution_count": 135,
   "metadata": {},
   "outputs": [
    {
     "data": {
      "text/plain": [
       "array([[573,  87],\n",
       "       [108,  13]], dtype=int64)"
      ]
     },
     "execution_count": 135,
     "metadata": {},
     "output_type": "execute_result"
    }
   ],
   "source": [
    "#Чтобы создать матрицу ошибок, вы можете использовать confusion_matrix() и предоставить\n",
    "#фактические и прогнозируемые результаты в качестве аргументов:\n",
    "confusion_matrix(y_valid, model.predict(x_valid))"
   ]
  },
  {
   "cell_type": "code",
   "execution_count": 136,
   "metadata": {},
   "outputs": [
    {
     "data": {
      "image/png": "[encoded data removed]",
      "text/plain": [
       "<Figure size 576x576 with 1 Axes>"
      ]
     },
     "metadata": {
      "needs_background": "light"
     },
     "output_type": "display_data"
    }
   ],
   "source": [
    "cm = confusion_matrix(y_valid, model.predict(x_valid))\n",
    "fig, ax = plt.subplots(figsize=(8, 8))\n",
    "ax.imshow(cm)\n",
    "ax.grid(False)\n",
    "ax.xaxis.set(ticks=(0, 1), ticklabels=('Predicted 0s', 'Predicted 1s'))\n",
    "ax.yaxis.set(ticks=(0, 1), ticklabels=('Actual 0s', 'Actual 1s'))\n",
    "ax.set_ylim(1.5, -0.5)\n",
    "for i in range(2):\n",
    "    for j in range(2):\n",
    "        ax.text(j, i, cm[i, j], ha='center', va='center', color='red')\n",
    "plt.show()"
   ]
  },
  {
   "cell_type": "code",
   "execution_count": 137,
   "metadata": {},
   "outputs": [
    {
     "data": {
      "image/png": "[encoded data removed]",
      "text/plain": [
       "<Figure size 432x288 with 1 Axes>"
      ]
     },
     "metadata": {
      "needs_background": "light"
     },
     "output_type": "display_data"
    }
   ],
   "source": [
    "fpr, tpr, thresholds = roc_curve(y_valid, model.predict_proba(x_valid)[:,1], pos_label=1)\n",
    "\n",
    "def plot_roc_curve(fpr, tpr, label=None):\n",
    "    plt.plot(fpr, tpr, linewidth=2, label=label)\n",
    "    plt.plot([0, 1], [0, 1], 'k--') # dashed diagonal\n",
    "    plt.xlabel('False Positive Rate, FPR (1 - specificity)')\n",
    "    plt.ylabel('True Positive Rate, TPR (Recall)')\n",
    "    plt.title('ROC curve')\n",
    "    plt.savefig(\"ROC.png\")\n",
    "plot_roc_curve(fpr, tpr)\n",
    "plt.show()"
   ]
  },
  {
   "cell_type": "code",
   "execution_count": 138,
   "metadata": {},
   "outputs": [
    {
     "name": "stdout",
     "output_type": "stream",
     "text": [
      "              precision    recall  f1-score   support\n",
      "\n",
      "           0       0.84      0.87      0.85       660\n",
      "           1       0.13      0.11      0.12       121\n",
      "\n",
      "    accuracy                           0.75       781\n",
      "   macro avg       0.49      0.49      0.49       781\n",
      "weighted avg       0.73      0.75      0.74       781\n",
      "\n"
     ]
    }
   ],
   "source": [
    "report = classification_report(y_valid, model.predict(x_valid), target_names=['0', '1'])\n",
    "print(report)"
   ]
  },
  {
   "cell_type": "code",
   "execution_count": 139,
   "metadata": {},
   "outputs": [
    {
     "name": "stdout",
     "output_type": "stream",
     "text": [
      "              precision    recall  f1-score   support\n",
      "\n",
      "           0       0.84      0.87      0.85       660\n",
      "           1       0.13      0.11      0.12       121\n",
      "\n",
      "    accuracy                           0.75       781\n",
      "   macro avg       0.49      0.49      0.49       781\n",
      "weighted avg       0.73      0.75      0.74       781\n",
      "\n"
     ]
    }
   ],
   "source": [
    "print(classification_report(y_valid, model.predict(x_valid)))"
   ]
  },
  {
   "cell_type": "markdown",
   "metadata": {},
   "source": [
    "# Улучшенная модель логистической регрессии Попытка провалилась (C=10.0)"
   ]
  },
  {
   "cell_type": "code",
   "execution_count": 140,
   "metadata": {},
   "outputs": [
    {
     "data": {
      "text/plain": [
       "LogisticRegression(C=10.0, random_state=0, solver='liblinear')"
      ]
     },
     "execution_count": 140,
     "metadata": {},
     "output_type": "execute_result"
    }
   ],
   "source": [
    "model = LogisticRegression(solver='liblinear', C=10.0, random_state=0)\n",
    "model.fit(x_train, y_train)"
   ]
  },
  {
   "cell_type": "code",
   "execution_count": 141,
   "metadata": {},
   "outputs": [
    {
     "data": {
      "text/plain": [
       "(array([-1.77653233]),\n",
       " array([[ 1.30962078e+00, -1.77092813e+00,  1.09501816e+00,\n",
       "         -4.05271499e-01,  7.42126635e-01, -5.79739885e-01,\n",
       "         -2.77281743e-01,  9.48868525e-03,  2.92825983e-01,\n",
       "         -3.41556620e-01,  1.24158687e-01,  2.83417859e-01,\n",
       "         -1.45489239e-02, -2.55483415e-02,  6.29631983e-01,\n",
       "         -5.72956479e-01,  5.57536098e-01, -3.23742343e-01,\n",
       "          4.66640668e-01, -4.49905358e-01,  1.01006504e-01,\n",
       "         -2.21812689e-01,  5.46753901e-01, -7.20529389e-01,\n",
       "          7.39219617e-01, -1.26194283e+00,  4.95990676e-01,\n",
       "         -6.60068673e-01,  8.83604425e-01, -1.71031284e+00,\n",
       "          1.05909971e+00,  5.50391269e-01, -9.03125659e-01,\n",
       "          6.51699426e-03, -1.31561144e-01, -3.31306457e-01,\n",
       "         -5.09481772e-02,  5.61073414e-01, -9.25932112e-02,\n",
       "          6.11276501e-02, -1.03611828e-01,  6.66539641e-02,\n",
       "         -1.25677976e-01,  7.22148913e-02, -1.94388132e-01,\n",
       "         -3.95497146e-01,  5.65072520e-01, -3.92269187e-01,\n",
       "          6.30778716e-01, -5.91452260e-02,  1.86930876e-01,\n",
       "         -7.67835162e-04,  3.71206717e-01, -1.78170876e-01,\n",
       "          1.32105700e-01, -3.93877238e-01,  7.73701506e-01,\n",
       "         -4.15875949e-01,  2.41735085e-01, -2.96055295e-01,\n",
       "          1.89335260e-02, -1.73542871e-01,  4.67331390e-02,\n",
       "          2.24294995e-01,  2.80610623e-02,  3.18283196e-01,\n",
       "         -1.20337400e-01,  2.56368506e-01, -2.99275289e-01,\n",
       "         -9.38949716e-02,  4.33687033e-01, -6.57361624e-01,\n",
       "          1.39310653e-01, -7.66136865e-02,  8.28213915e-02,\n",
       "         -1.35635135e-01,  3.56381547e-01, -7.82665397e-01,\n",
       "          6.83988788e-01, -8.79332461e-01,  6.11360538e-01,\n",
       "         -4.21232298e-01,  4.41479444e-01, -3.55776901e-01,\n",
       "          1.35232780e-01, -4.24923909e-02,  4.03871509e-01,\n",
       "         -8.88598943e-01,  4.82187234e-01, -2.15174291e-03,\n",
       "         -5.55683200e-02, -1.72220938e-01,  3.39108570e-01,\n",
       "          2.49554659e-01, -6.64934279e-01,  5.09791122e-01,\n",
       "         -4.62283504e-01,  6.72801019e-01, -9.07169795e-02,\n",
       "          3.20347790e-01, -6.40463755e-02, -7.44975245e-02,\n",
       "          1.12528601e-02, -4.11045096e-02, -2.35020267e-02,\n",
       "          1.17663644e-01,  1.03208259e-02, -3.50842171e-01,\n",
       "          4.36257888e-01, -5.91465344e-01,  1.54239097e-02,\n",
       "          2.27338568e-01, -8.32737553e-01,  4.01556420e-01,\n",
       "         -5.93874114e-02,  1.79411491e-02, -2.53017133e-01,\n",
       "         -1.18749926e-01,  5.59718147e-01, -5.00452424e-01,\n",
       "          5.58978386e-01, -3.98391380e-01,  7.89725925e-01,\n",
       "         -3.72529578e-01,  7.67472530e-02,  6.99216747e-01,\n",
       "         -4.01315363e-01,  6.56605504e-01, -2.18431107e-01,\n",
       "          1.98223281e-01, -6.07829047e-01,  2.57167173e-01,\n",
       "          1.98474301e-01, -2.64245234e-01,  4.35860979e-01,\n",
       "          2.03275568e-01,  3.69229288e-01, -3.33668453e-01,\n",
       "          4.63735025e-01, -2.40223152e-01,  4.99198493e-02,\n",
       "          2.65360980e-01,  3.62210318e-02,  3.21159970e-01,\n",
       "         -2.27806571e-01, -3.04734993e-02, -2.69937461e-01,\n",
       "         -4.54579087e-05, -1.39944513e-01, -3.42580605e-01,\n",
       "         -3.42125959e-02, -5.24579899e-01, -6.24334089e-03,\n",
       "         -6.88478477e-01,  9.87778700e-02,  8.04467755e-02,\n",
       "         -6.28784944e-01,  1.85152626e-01, -4.31846414e-01,\n",
       "          3.71405760e-02, -4.55575354e-01,  4.16505797e-01,\n",
       "         -5.78025284e-02, -3.18261756e-01,  9.07294521e-02,\n",
       "          1.76512777e-01, -3.25065570e-01,  2.16779798e-01,\n",
       "         -2.92716528e-01, -8.64211675e-02,  4.32792247e-01,\n",
       "         -9.51659415e-02,  3.54294660e-01,  2.36799253e-01,\n",
       "         -5.33424180e-01, -7.12248126e-02,  9.54609502e-02,\n",
       "          1.01225248e-01, -3.37790290e-01,  4.08147532e-01,\n",
       "          2.49163714e-01, -1.43177837e-01,  2.77479638e-01,\n",
       "          1.00243278e-01,  1.55230156e-01,  1.63164009e-01,\n",
       "          1.61594938e-01, -3.11776758e-02,  1.72982690e-01,\n",
       "          4.16396336e-02,  1.46070406e-01, -5.25656739e-01,\n",
       "          6.71887907e-02, -5.00797100e-01,  2.15276999e-01,\n",
       "         -2.36437039e-01,  9.74104192e-02, -2.38343749e-01,\n",
       "          2.86300288e-01, -2.06479205e-01,  5.77188200e-02,\n",
       "         -1.03998298e-01,  1.68748953e-01,  8.23288897e-02,\n",
       "          3.09215305e-02,  6.37237711e-01, -2.83872364e-01,\n",
       "          1.55914913e-01, -1.76595439e-01,  1.03529523e-01,\n",
       "         -1.87877804e-01,  8.86083687e-02, -4.58873229e-02,\n",
       "         -5.51476388e-02,  3.17209770e-01, -5.05550776e-01,\n",
       "          2.67137295e-01,  6.72094143e-02, -6.51630022e-01,\n",
       "         -5.38668799e-02, -5.70161677e-01,  1.48307915e-01,\n",
       "          1.51288829e-01, -6.00663929e-02,  2.81815323e-01,\n",
       "         -3.50637413e-01,  9.18148230e-03,  3.61540030e-01,\n",
       "         -3.74105042e-01,  9.90072041e-02,  1.43128548e-01,\n",
       "         -6.52341408e-02,  3.88817207e-01,  2.08142439e-02,\n",
       "         -2.17873418e-01,  1.73844925e-01, -2.68809100e-01,\n",
       "          3.20793945e-01, -2.82083144e-01,  9.34171471e-02,\n",
       "          2.36849901e-01,  2.95355719e-02,  2.09917679e-01,\n",
       "         -1.01468934e-01,  6.84161439e-02, -1.87492787e-01,\n",
       "          2.42126952e-01,  1.37435328e-01,  2.69544515e-02,\n",
       "          1.85320725e-01, -2.88427325e-01,  9.04410947e-01,\n",
       "         -9.60847856e-01,  3.08837573e-01, -2.38523481e-01,\n",
       "         -4.34540935e-02,  6.21464287e-01, -3.28544995e-01,\n",
       "          2.01912416e-01, -8.20813785e-02,  2.21257014e-01,\n",
       "         -1.29205586e-01, -1.65661814e-01, -7.19341558e-02,\n",
       "         -7.54207576e-02,  2.43716491e-01,  1.57366691e-01,\n",
       "         -2.52018229e-01, -2.01924488e-01,  1.66968189e-01,\n",
       "         -1.72596484e-01,  1.13921783e-01, -2.24010782e-01,\n",
       "         -7.59402412e-02,  5.16800111e-02,  4.19627841e-02,\n",
       "         -2.84838734e-02, -1.15589507e-01,  2.08905643e-01,\n",
       "          3.69773832e-01, -5.28967815e-01,  5.55378481e-01,\n",
       "         -6.76448839e-01,  6.39852326e-01, -4.31109393e-01,\n",
       "          3.67716456e-01, -3.62047176e-02, -1.13911702e-01,\n",
       "         -6.10705921e-03, -2.52098345e-01,  5.12576640e-02,\n",
       "          4.34143649e-05, -7.00472727e-02, -9.96259707e-02,\n",
       "          9.50266808e-02, -9.45517381e-02, -1.16198552e-01,\n",
       "         -1.87882520e-01,  1.02162727e-01,  1.03152833e-01,\n",
       "         -2.16127285e-01,  1.71791641e-01, -3.52178573e-02,\n",
       "         -1.04696909e-01,  7.92174714e-02, -1.20358453e-01,\n",
       "          2.96851965e-01,  3.26282666e-02,  1.08236336e-02,\n",
       "          2.13866511e-01,  2.05319954e-01,  1.24291151e-01,\n",
       "         -5.40098938e-01,  5.02045548e-01, -1.82667106e-01,\n",
       "         -6.27854825e-02, -5.78298417e-02, -3.19995407e-01,\n",
       "          3.10958907e-01, -4.62055845e-01,  2.85018395e-01,\n",
       "         -6.42708469e-03, -3.83296288e-02,  2.99522034e-01,\n",
       "         -2.13339702e-01, -1.04853078e-01,  1.26947179e-01,\n",
       "         -1.21820522e-01,  2.31232988e-01, -2.06913859e-02,\n",
       "         -2.92668915e-01,  3.34532565e-01,  3.53577517e-02,\n",
       "         -1.57564457e-01, -2.81456962e-02,  8.08258223e-02,\n",
       "         -2.23601511e-01,  4.55304617e-01, -2.03486681e-01,\n",
       "          3.22092919e-01, -2.77069598e-01, -8.12953241e-02,\n",
       "         -3.90313767e-02,  8.93077541e-02, -2.84710793e-01,\n",
       "          8.24680720e-02, -9.22589649e-02,  5.49393871e-01,\n",
       "         -7.99752712e-02,  1.01120844e-01,  1.33287903e-01,\n",
       "         -1.86380005e-01,  2.35430539e-01,  2.34686853e-01,\n",
       "         -3.07189235e-01,  4.96506959e-01, -1.15586228e-01,\n",
       "          3.71694159e-01, -2.09909088e-01,  1.17370888e-01,\n",
       "         -2.80257160e-01,  3.72646608e-01, -3.49371853e-01,\n",
       "         -8.24921926e-02,  2.69670481e-01,  1.05965997e-01,\n",
       "         -5.11335121e-01,  3.63656849e-01, -7.24936066e-01,\n",
       "          2.72384152e-01, -7.36267859e-01,  2.85430697e-01,\n",
       "         -3.97182178e-01,  6.83357624e-01, -2.74610959e-01,\n",
       "          5.00029443e-01,  2.37056326e-01, -4.64495717e-02,\n",
       "         -1.23406515e-01,  6.09471993e-01, -3.85330647e-01,\n",
       "          5.80345830e-02,  7.06278098e-02, -6.62265532e-01,\n",
       "          3.35097860e-02, -4.14487148e-02, -2.82951470e-01,\n",
       "          8.73520855e-02,  1.79776794e-01, -1.81808480e-01,\n",
       "          2.40905267e-01,  3.10408499e-03, -3.08933166e-01,\n",
       "          1.96988479e-01,  2.54804806e-01, -5.06386755e-01,\n",
       "         -3.30193214e-01,  4.04212969e-01, -5.66201037e-01,\n",
       "          8.96775776e-01, -6.46771202e-01,  5.60699655e-01,\n",
       "         -2.62793511e-01,  4.25849471e-01, -7.24655936e-01,\n",
       "          2.62524260e-01, -1.27195396e-01, -2.40574277e-01,\n",
       "          1.22720003e-01, -1.58214322e-01,  6.38075846e-02,\n",
       "         -2.77733699e-01,  5.55955444e-01, -3.68615449e-01,\n",
       "          2.33714138e-01,  2.10308749e-01, -3.89411534e-01,\n",
       "          3.20449843e-01, -5.82410077e-02, -1.18867476e-01,\n",
       "          1.55034676e-01,  5.77852518e-02, -2.20801869e-01,\n",
       "          1.59103321e-01, -7.25618380e-02,  9.47123661e-02,\n",
       "         -2.74892102e-02,  2.38070612e-01, -6.19949427e-01,\n",
       "          6.35098731e-01, -4.33581628e-01,  2.48847888e-01,\n",
       "         -1.05904613e-01,  1.59813897e-01, -1.00203038e-01,\n",
       "          3.30422046e-01,  1.31344529e-01, -3.65806243e-02,\n",
       "          2.17121187e-01, -1.84100723e-01,  1.51039369e-01,\n",
       "         -1.26349280e-01,  1.48818818e-01, -3.97800351e-01,\n",
       "          1.58087747e-01, -2.88473869e-01,  3.05446992e-02,\n",
       "         -7.35697650e-02,  3.96678756e-02,  1.00442565e-03,\n",
       "         -2.57866263e-01, -3.56722874e-02, -1.66217969e-01,\n",
       "         -3.01275024e-02, -6.25000532e-02,  1.31739954e-01,\n",
       "          2.16342710e-01,  1.03314638e-02, -1.95016974e-02,\n",
       "          4.70724660e-01, -4.00281086e-01,  2.80801868e-01,\n",
       "         -6.85812926e-03, -3.44153461e-01,  2.12261223e-01]]))"
      ]
     },
     "execution_count": 141,
     "metadata": {},
     "output_type": "execute_result"
    }
   ],
   "source": [
    "model.intercept_,model.coef_"
   ]
  },
  {
   "cell_type": "code",
   "execution_count": 142,
   "metadata": {},
   "outputs": [
    {
     "data": {
      "text/plain": [
       "array([[0.99382918, 0.00617082],\n",
       "       [0.94641337, 0.05358663],\n",
       "       [0.9668801 , 0.0331199 ],\n",
       "       ...,\n",
       "       [0.58281649, 0.41718351],\n",
       "       [0.95592122, 0.04407878],\n",
       "       [0.01628086, 0.98371914]])"
      ]
     },
     "execution_count": 142,
     "metadata": {},
     "output_type": "execute_result"
    }
   ],
   "source": [
    "model.predict_proba(x_valid)"
   ]
  },
  {
   "cell_type": "code",
   "execution_count": 143,
   "metadata": {},
   "outputs": [
    {
     "data": {
      "text/plain": [
       "array([0, 0, 0, 0, 1, 0, 0, 0, 0, 0, 0, 0, 0, 0, 0, 0, 0, 0, 0, 0, 0, 0,\n",
       "       1, 1, 0, 0, 0, 0, 0, 0, 0, 0, 0, 1, 0, 0, 0, 0, 0, 1, 0, 0, 0, 0,\n",
       "       0, 0, 0, 0, 0, 0, 0, 0, 0, 0, 0, 1, 0, 1, 0, 0, 0, 0, 0, 0, 0, 0,\n",
       "       0, 0, 0, 1, 1, 0, 0, 0, 0, 1, 0, 0, 1, 0, 0, 0, 1, 0, 0, 1, 0, 0,\n",
       "       0, 0, 0, 1, 0, 0, 1, 1, 0, 0, 0, 0, 0, 0, 0, 1, 0, 0, 0, 0, 0, 1,\n",
       "       0, 0, 0, 0, 0, 0, 0, 0, 1, 0, 1, 0, 0, 0, 0, 0, 0, 0, 1, 0, 0, 0,\n",
       "       0, 0, 0, 0, 0, 1, 0, 0, 0, 0, 0, 1, 0, 0, 0, 0, 0, 0, 0, 1, 0, 0,\n",
       "       0, 0, 0, 0, 0, 0, 0, 0, 0, 1, 0, 1, 0, 0, 0, 0, 1, 0, 0, 1, 0, 1,\n",
       "       0, 1, 0, 0, 0, 0, 0, 0, 1, 0, 0, 0, 1, 0, 1, 1, 0, 0, 0, 0, 0, 0,\n",
       "       1, 0, 1, 0, 0, 0, 0, 0, 0, 0, 0, 0, 0, 0, 1, 0, 0, 0, 0, 0, 0, 0,\n",
       "       1, 0, 0, 0, 0, 1, 0, 0, 0, 0, 1, 0, 1, 0, 0, 0, 0, 0, 0, 1, 0, 0,\n",
       "       0, 0, 0, 0, 0, 0, 0, 0, 0, 0, 1, 0, 0, 0, 0, 0, 1, 0, 0, 1, 0, 0,\n",
       "       0, 1, 0, 1, 0, 0, 0, 0, 0, 0, 0, 1, 0, 1, 1, 0, 0, 1, 0, 0, 0, 1,\n",
       "       0, 0, 0, 0, 0, 0, 0, 0, 0, 0, 0, 0, 0, 0, 0, 0, 0, 0, 0, 0, 0, 0,\n",
       "       0, 0, 0, 0, 0, 0, 0, 0, 0, 0, 0, 0, 0, 0, 0, 0, 0, 0, 0, 0, 0, 1,\n",
       "       0, 0, 1, 1, 0, 0, 0, 1, 0, 1, 0, 0, 1, 0, 0, 0, 0, 0, 0, 0, 0, 0,\n",
       "       0, 1, 0, 0, 0, 0, 0, 0, 0, 0, 0, 0, 1, 0, 0, 0, 0, 0, 0, 0, 0, 0,\n",
       "       0, 0, 0, 1, 1, 0, 0, 0, 0, 0, 0, 0, 0, 0, 0, 0, 0, 1, 0, 0, 0, 1,\n",
       "       0, 0, 0, 0, 0, 1, 0, 0, 1, 0, 0, 0, 0, 0, 0, 1, 0, 0, 0, 0, 0, 0,\n",
       "       0, 0, 0, 0, 0, 0, 0, 0, 0, 0, 0, 0, 0, 0, 0, 0, 1, 0, 0, 0, 0, 0,\n",
       "       0, 0, 0, 0, 0, 0, 1, 1, 1, 0, 0, 0, 0, 0, 0, 0, 0, 0, 0, 1, 0, 0,\n",
       "       0, 0, 0, 0, 0, 0, 0, 0, 0, 0, 0, 0, 0, 0, 0, 1, 0, 0, 0, 0, 0, 0,\n",
       "       1, 0, 0, 0, 0, 0, 0, 1, 0, 0, 0, 0, 1, 0, 1, 0, 0, 0, 0, 0, 0, 0,\n",
       "       0, 0, 0, 1, 0, 0, 0, 0, 0, 0, 0, 0, 0, 0, 0, 1, 1, 0, 0, 0, 0, 0,\n",
       "       0, 0, 0, 1, 0, 0, 0, 0, 1, 0, 0, 0, 0, 0, 0, 0, 0, 0, 0, 0, 0, 0,\n",
       "       0, 0, 0, 0, 0, 0, 0, 0, 0, 1, 0, 0, 1, 0, 0, 0, 0, 0, 0, 0, 0, 0,\n",
       "       0, 0, 0, 0, 0, 0, 0, 0, 0, 0, 0, 0, 0, 0, 0, 0, 0, 0, 0, 0, 0, 0,\n",
       "       1, 0, 0, 0, 0, 0, 0, 0, 0, 0, 0, 0, 0, 0, 1, 0, 0, 0, 1, 0, 0, 0,\n",
       "       0, 0, 0, 0, 0, 0, 1, 0, 0, 0, 0, 0, 0, 1, 0, 0, 0, 0, 1, 1, 1, 0,\n",
       "       0, 1, 0, 0, 0, 1, 0, 0, 0, 1, 0, 0, 0, 0, 1, 0, 0, 1, 0, 0, 0, 1,\n",
       "       0, 0, 1, 0, 0, 0, 0, 0, 0, 0, 0, 0, 0, 0, 1, 0, 0, 0, 0, 0, 0, 0,\n",
       "       0, 0, 0, 0, 0, 0, 0, 0, 0, 1, 1, 0, 0, 0, 0, 0, 0, 0, 0, 1, 0, 0,\n",
       "       0, 0, 0, 0, 0, 0, 0, 0, 0, 0, 0, 0, 0, 0, 0, 0, 1, 0, 0, 0, 0, 0,\n",
       "       0, 1, 0, 0, 0, 0, 0, 0, 0, 0, 0, 0, 0, 0, 0, 1, 0, 0, 0, 0, 1, 0,\n",
       "       0, 0, 0, 0, 1, 1, 0, 0, 0, 0, 0, 0, 0, 0, 0, 0, 0, 0, 0, 1, 0, 0,\n",
       "       0, 0, 1, 0, 1, 0, 0, 0, 0, 0, 1])"
      ]
     },
     "execution_count": 143,
     "metadata": {},
     "output_type": "execute_result"
    }
   ],
   "source": [
    "model.predict(x_valid)"
   ]
  },
  {
   "cell_type": "code",
   "execution_count": 144,
   "metadata": {},
   "outputs": [
    {
     "data": {
      "text/plain": [
       "0.736235595390525"
      ]
     },
     "execution_count": 144,
     "metadata": {},
     "output_type": "execute_result"
    }
   ],
   "source": [
    "model.score(x_valid, y_valid)"
   ]
  },
  {
   "cell_type": "code",
   "execution_count": 145,
   "metadata": {},
   "outputs": [
    {
     "data": {
      "text/plain": [
       "array([[561,  99],\n",
       "       [107,  14]], dtype=int64)"
      ]
     },
     "execution_count": 145,
     "metadata": {},
     "output_type": "execute_result"
    }
   ],
   "source": [
    "confusion_matrix(y_valid, model.predict(x_valid))"
   ]
  },
  {
   "cell_type": "code",
   "execution_count": 146,
   "metadata": {},
   "outputs": [
    {
     "data": {
      "image/png": "[encoded data removed]",
      "text/plain": [
       "<Figure size 432x288 with 1 Axes>"
      ]
     },
     "metadata": {
      "needs_background": "light"
     },
     "output_type": "display_data"
    }
   ],
   "source": [
    "fpr, tpr, thresholds = roc_curve(y_valid, model.predict_proba(x_valid)[:,1], pos_label=1)\n",
    "\n",
    "def plot_roc_curve(fpr, tpr, label=None):\n",
    "    plt.plot(fpr, tpr, linewidth=2, label=label)\n",
    "    plt.plot([0, 1], [0, 1], 'k--') # dashed diagonal\n",
    "    plt.xlabel('False Positive Rate, FPR (1 - specificity)')\n",
    "    plt.ylabel('True Positive Rate, TPR (Recall)')\n",
    "    plt.title('ROC curve')\n",
    "    plt.savefig(\"ROC.png\")\n",
    "plot_roc_curve(fpr, tpr)\n",
    "plt.show()"
   ]
  },
  {
   "cell_type": "code",
   "execution_count": 147,
   "metadata": {},
   "outputs": [
    {
     "name": "stdout",
     "output_type": "stream",
     "text": [
      "              precision    recall  f1-score   support\n",
      "\n",
      "           0       0.84      0.85      0.84       660\n",
      "           1       0.12      0.12      0.12       121\n",
      "\n",
      "    accuracy                           0.74       781\n",
      "   macro avg       0.48      0.48      0.48       781\n",
      "weighted avg       0.73      0.74      0.73       781\n",
      "\n"
     ]
    }
   ],
   "source": [
    "print(classification_report(y_valid, model.predict(x_valid)))"
   ]
  },
  {
   "cell_type": "markdown",
   "metadata": {},
   "source": [
    "# Стохастический градиентный спуск (Stochastic Gradient Descent SGD)"
   ]
  },
  {
   "cell_type": "code",
   "execution_count": 148,
   "metadata": {},
   "outputs": [],
   "source": [
    "sgd_clf = SGDClassifier(random_state=42) \n",
    "sgd_clf.fit(x_valid, y_valid) \n",
    "y_train_pred = cross_val_predict(sgd_clf, x_valid, y_valid, cv=3)"
   ]
  },
  {
   "cell_type": "code",
   "execution_count": 149,
   "metadata": {},
   "outputs": [
    {
     "data": {
      "text/plain": [
       "0.7695262483994878"
      ]
     },
     "execution_count": 149,
     "metadata": {},
     "output_type": "execute_result"
    }
   ],
   "source": [
    "accuracy_score(y_valid, y_train_pred)"
   ]
  },
  {
   "cell_type": "code",
   "execution_count": 150,
   "metadata": {},
   "outputs": [
    {
     "data": {
      "text/plain": [
       "0.71554091158704"
      ]
     },
     "execution_count": 150,
     "metadata": {},
     "output_type": "execute_result"
    }
   ],
   "source": [
    "np.mean(cross_val_score(sgd_clf, x_train, y_train, cv=3))"
   ]
  },
  {
   "cell_type": "code",
   "execution_count": 151,
   "metadata": {},
   "outputs": [
    {
     "data": {
      "image/png": "[encoded data removed]",
      "text/plain": [
       "<Figure size 432x288 with 1 Axes>"
      ]
     },
     "metadata": {
      "needs_background": "light"
     },
     "output_type": "display_data"
    }
   ],
   "source": [
    "y_scores = cross_val_predict(sgd_clf, x_valid, y_valid, cv=3, method=\"decision_function\")\n",
    "fpr, tpr, thresholds = roc_curve(y_valid, y_scores)\n",
    "def plot_roc_curve(fpr, tpr, label=None):\n",
    "    plt.plot(fpr, tpr, linewidth=2, label=label)\n",
    "    plt.plot([0, 1], [0, 1], 'k--') # dashed diagonal\n",
    "    plt.xlabel('False Positive Rate, FPR (1 - specificity)')\n",
    "    plt.ylabel('True Positive Rate, TPR (Recall)')\n",
    "    plt.title('ROC curve')\n",
    "    plt.savefig(\"ROC.png\")\n",
    "plot_roc_curve(fpr, tpr)\n",
    "plt.show()"
   ]
  },
  {
   "cell_type": "code",
   "execution_count": 152,
   "metadata": {},
   "outputs": [
    {
     "name": "stdout",
     "output_type": "stream",
     "text": [
      "              precision    recall  f1-score   support\n",
      "\n",
      "           0       0.99      1.00      0.99       660\n",
      "           1       0.97      0.92      0.94       121\n",
      "\n",
      "    accuracy                           0.98       781\n",
      "   macro avg       0.98      0.96      0.97       781\n",
      "weighted avg       0.98      0.98      0.98       781\n",
      "\n"
     ]
    }
   ],
   "source": [
    "print(classification_report(y_valid, sgd_clf.predict(x_valid)))"
   ]
  },
  {
   "cell_type": "markdown",
   "metadata": {},
   "source": [
    "# Визуализация дерева решений"
   ]
  },
  {
   "cell_type": "code",
   "execution_count": 153,
   "metadata": {},
   "outputs": [
    {
     "ename": "AttributeError",
     "evalue": "'DecisionTreeClassifier' object has no attribute 'export_graphviz'",
     "output_type": "error",
     "traceback": [
      "\u001b[1;31m---------------------------------------------------------------------------\u001b[0m",
      "\u001b[1;31mAttributeError\u001b[0m                            Traceback (most recent call last)",
      "\u001b[1;32m<ipython-input-153-82e0a63ec3b1>\u001b[0m in \u001b[0;36m<module>\u001b[1;34m\u001b[0m\n\u001b[1;32m----> 1\u001b[1;33m \u001b[0mdot_data\u001b[0m \u001b[1;33m=\u001b[0m \u001b[0mtree\u001b[0m\u001b[1;33m.\u001b[0m\u001b[0mexport_graphviz\u001b[0m\u001b[1;33m(\u001b[0m\u001b[0mtree_grid\u001b[0m\u001b[1;33m.\u001b[0m\u001b[0mbest_estimator_\u001b[0m\u001b[1;33m,\u001b[0m \u001b[0mout_file\u001b[0m\u001b[1;33m=\u001b[0m\u001b[1;34m'tree.dot'\u001b[0m\u001b[1;33m,\u001b[0m\u001b[0mfilled\u001b[0m\u001b[1;33m=\u001b[0m\u001b[1;32mTrue\u001b[0m\u001b[1;33m)\u001b[0m\u001b[1;33m\u001b[0m\u001b[1;33m\u001b[0m\u001b[0m\n\u001b[0m",
      "\u001b[1;31mAttributeError\u001b[0m: 'DecisionTreeClassifier' object has no attribute 'export_graphviz'"
     ]
    }
   ],
   "source": [
    "dot_data = tree.export_graphviz(tree_grid.best_estimator_, out_file='tree.dot',filled=True)"
   ]
  },
  {
   "cell_type": "code",
   "execution_count": 154,
   "metadata": {},
   "outputs": [
    {
     "name": "stdout",
     "output_type": "stream",
     "text": [
      " Том в устройстве C имеет метку Acer\n",
      " Серийный номер тома: 3C4E-9E6E\n",
      "\n",
      " Содержимое папки C:\\Users\\Alexandra\\Test003\\SF — копия (2) — копия\n",
      "\n",
      "04.12.2021  16:43            14 305 ROC.png\n",
      "02.11.2021  15:37           160 351 tree.png\n",
      "27.10.2021  18:28            70 822 tree1.png\n",
      "               3 файлов        245 478 байт\n",
      "               0 папок  18 226 438 144 байт свободно\n"
     ]
    }
   ],
   "source": [
    "!dir *png"
   ]
  },
  {
   "cell_type": "code",
   "execution_count": 155,
   "metadata": {},
   "outputs": [
    {
     "name": "stderr",
     "output_type": "stream",
     "text": [
      "\"dot\" не является внутренней или внешней\n",
      "командой, исполняемой программой или пакетным файлом.\n"
     ]
    }
   ],
   "source": [
    "!dot -Tpng tree.dot -o tree.png"
   ]
  },
  {
   "cell_type": "code",
   "execution_count": 156,
   "metadata": {},
   "outputs": [
    {
     "data": {
      "image/png": "[encoded data removed]",
      "text/plain": [
       "<IPython.core.display.Image object>"
      ]
     },
     "execution_count": 156,
     "metadata": {},
     "output_type": "execute_result"
    }
   ],
   "source": [
    "Image(filename='tree.png') "
   ]
  },
  {
   "cell_type": "markdown",
   "metadata": {},
   "source": [
    "# Построение кривых валидации для kNN"
   ]
  },
  {
   "cell_type": "code",
   "execution_count": 157,
   "metadata": {},
   "outputs": [
    {
     "data": {
      "image/png": "[encoded data removed]",
      "text/plain": [
       "<Figure size 432x288 with 1 Axes>"
      ]
     },
     "metadata": {
      "needs_background": "light"
     },
     "output_type": "display_data"
    }
   ],
   "source": [
    "train_scores, valid_scores = [], []\n",
    "n_neighb = [1, 2, 3, 5, 6, 7] + list(range(50, 500, 50))\n",
    "\n",
    "for k in n_neighb:\n",
    "    knn = KNeighborsClassifier(n_neighbors=k)\n",
    "    train_scores.append(np.mean(cross_val_score(knn, x_train, y_train, cv=5)))\n",
    "    knn.fit(x_train, y_train)\n",
    "    valid_scores.append(accuracy_score(y_valid, knn.predict(x_valid)))  \n",
    "\n",
    "plt.plot(n_neighb, train_scores, label='train')\n",
    "plt.plot(n_neighb, valid_scores, label='valid')\n",
    "plt.title('kNN')\n",
    "plt.legend();"
   ]
  },
  {
   "cell_type": "code",
   "execution_count": 158,
   "metadata": {},
   "outputs": [],
   "source": [
    "mel_basis = librosa.filters.mel(sr=22050, n_fft=512, n_mels=10,fmin=0, fmax=sr / 2)"
   ]
  },
  {
   "cell_type": "code",
   "execution_count": 159,
   "metadata": {},
   "outputs": [
    {
     "data": {
      "text/plain": [
       "<matplotlib.colorbar.Colorbar at 0x2748a719cd0>"
      ]
     },
     "execution_count": 159,
     "metadata": {},
     "output_type": "execute_result"
    },
    {
     "data": {
      "image/png": "[encoded data removed]",
      "text/plain": [
       "<Figure size 432x288 with 2 Axes>"
      ]
     },
     "metadata": {
      "needs_background": "light"
     },
     "output_type": "display_data"
    }
   ],
   "source": [
    "plt.subplot(2,1,1)\n",
    "plt.pcolormesh(mel_basis)\n",
    "plt.colorbar()"
   ]
  },
  {
   "cell_type": "code",
   "execution_count": 160,
   "metadata": {},
   "outputs": [],
   "source": [
    "sr = 22050\n",
    "mel_basis = librosa.filters.mel(sr=sr, n_fft=512, n_mels=10,fmin=0, fmax=sr / 2, htk=False, norm=None)"
   ]
  },
  {
   "cell_type": "code",
   "execution_count": 161,
   "metadata": {},
   "outputs": [
    {
     "data": {
      "image/png": "[encoded data removed]",
      "text/plain": [
       "<Figure size 432x288 with 1 Axes>"
      ]
     },
     "metadata": {
      "needs_background": "light"
     },
     "output_type": "display_data"
    }
   ],
   "source": [
    "plt.plot(mel_basis.T)\n",
    "plt.show()"
   ]
  },
  {
   "cell_type": "code",
   "execution_count": null,
   "metadata": {},
   "outputs": [],
   "source": []
  },
  {
   "cell_type": "code",
   "execution_count": null,
   "metadata": {},
   "outputs": [],
   "source": []
  },
  {
   "cell_type": "code",
   "execution_count": null,
   "metadata": {},
   "outputs": [],
   "source": []
  }
 ],
 "metadata": {
  "kernelspec": {
   "display_name": "Python 3",
   "language": "python",
   "name": "python3"
  },
  "language_info": {
   "codemirror_mode": {
    "name": "ipython",
    "version": 3
   },
   "file_extension": ".py",
   "mimetype": "text/x-python",
   "name": "python",
   "nbconvert_exporter": "python",
   "pygments_lexer": "ipython3",
   "version": "3.8.5"
  }
 },
 "nbformat": 4,
 "nbformat_minor": 4
}
